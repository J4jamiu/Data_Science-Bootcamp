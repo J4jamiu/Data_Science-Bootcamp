{
 "cells": [
  {
   "cell_type": "markdown",
   "id": "d6988323-892e-4b4e-970f-0deeec89a9b4",
   "metadata": {},
   "source": [
    "SCALER, VECTOR AND MATRICES AS PYTHON ARRAYS\n"
   ]
  },
  {
   "cell_type": "markdown",
   "id": "2a5ee895-ddf2-4bae-a54b-125b1f34e545",
   "metadata": {},
   "source": [
    "Import relevant libraries"
   ]
  },
  {
   "cell_type": "code",
   "execution_count": 17,
   "id": "107482e4-8aae-403e-b1b7-66941c5c6126",
   "metadata": {},
   "outputs": [],
   "source": [
    "import numpy as np\n"
   ]
  },
  {
   "cell_type": "code",
   "execution_count": 18,
   "id": "5abb6dff-9a10-49d1-b88f-6436c38321cc",
   "metadata": {},
   "outputs": [],
   "source": [
    "#Declaring scalars, vectors and matrices"
   ]
  },
  {
   "cell_type": "code",
   "execution_count": 19,
   "id": "4765fb15-e261-4657-8082-f02eace48e1b",
   "metadata": {},
   "outputs": [],
   "source": [
    "#Scalars"
   ]
  },
  {
   "cell_type": "code",
   "execution_count": 20,
   "id": "229bad2d-42f4-4471-acb3-d3fd8904b8bc",
   "metadata": {},
   "outputs": [],
   "source": [
    "s = 5"
   ]
  },
  {
   "cell_type": "code",
   "execution_count": 21,
   "id": "1aeac800-761c-4abd-92b5-29b3c773694d",
   "metadata": {},
   "outputs": [
    {
     "data": {
      "text/plain": [
       "5"
      ]
     },
     "execution_count": 21,
     "metadata": {},
     "output_type": "execute_result"
    }
   ],
   "source": [
    "s"
   ]
  },
  {
   "cell_type": "code",
   "execution_count": 22,
   "id": "fc7bbc2e-2c87-4cbb-9383-9b123d044adb",
   "metadata": {},
   "outputs": [],
   "source": [
    "#Vector"
   ]
  },
  {
   "cell_type": "code",
   "execution_count": 23,
   "id": "ca2b5912-eb53-4c8f-890a-b04d040ba30e",
   "metadata": {},
   "outputs": [],
   "source": [
    "v = np.array([5,2,4])"
   ]
  },
  {
   "cell_type": "code",
   "execution_count": 24,
   "id": "6ea01313-0cba-42ac-b427-7a435f4bfca3",
   "metadata": {},
   "outputs": [
    {
     "data": {
      "text/plain": [
       "array([5, 2, 4])"
      ]
     },
     "execution_count": 24,
     "metadata": {},
     "output_type": "execute_result"
    }
   ],
   "source": [
    "v"
   ]
  },
  {
   "cell_type": "code",
   "execution_count": 25,
   "id": "722da45f-3921-49f2-ab00-eed9c092a107",
   "metadata": {},
   "outputs": [],
   "source": [
    "#By default V is ROW vector"
   ]
  },
  {
   "cell_type": "code",
   "execution_count": 26,
   "id": "5d1df54e-622d-46c5-b69c-4950b4f55de8",
   "metadata": {},
   "outputs": [],
   "source": [
    "#MATRICES"
   ]
  },
  {
   "cell_type": "code",
   "execution_count": 27,
   "id": "6527f242-d9c4-44bf-9edb-f33d7ea756da",
   "metadata": {},
   "outputs": [],
   "source": [
    "m = np.array([[5,12,6],[-3,0,14]])"
   ]
  },
  {
   "cell_type": "code",
   "execution_count": 28,
   "id": "1e549b2b-9269-45e3-a800-5fb70a7a931c",
   "metadata": {},
   "outputs": [
    {
     "data": {
      "text/plain": [
       "array([[ 5, 12,  6],\n",
       "       [-3,  0, 14]])"
      ]
     },
     "execution_count": 28,
     "metadata": {},
     "output_type": "execute_result"
    }
   ],
   "source": [
    "m"
   ]
  },
  {
   "cell_type": "code",
   "execution_count": 30,
   "id": "a661baa4-e29a-494e-83b9-1547557a01ca",
   "metadata": {},
   "outputs": [],
   "source": [
    "#Data types: type(variable)"
   ]
  },
  {
   "cell_type": "code",
   "execution_count": 31,
   "id": "8c666eb1-9c19-4c5d-963e-602c83194f7e",
   "metadata": {},
   "outputs": [
    {
     "data": {
      "text/plain": [
       "int"
      ]
     },
     "execution_count": 31,
     "metadata": {},
     "output_type": "execute_result"
    }
   ],
   "source": [
    "type(s)"
   ]
  },
  {
   "cell_type": "code",
   "execution_count": 32,
   "id": "91fb7152-ab7a-40e3-a9ac-a3e80eb1cc4b",
   "metadata": {},
   "outputs": [
    {
     "data": {
      "text/plain": [
       "numpy.ndarray"
      ]
     },
     "execution_count": 32,
     "metadata": {},
     "output_type": "execute_result"
    }
   ],
   "source": [
    "type(v) #1 directionoal array"
   ]
  },
  {
   "cell_type": "code",
   "execution_count": 33,
   "id": "55b61c2e-93bc-42af-89a0-f9458ea6348a",
   "metadata": {},
   "outputs": [
    {
     "data": {
      "text/plain": [
       "numpy.ndarray"
      ]
     },
     "execution_count": 33,
     "metadata": {},
     "output_type": "execute_result"
    }
   ],
   "source": [
    "type(m)"
   ]
  },
  {
   "cell_type": "code",
   "execution_count": 34,
   "id": "aedf8615-1160-4343-b8a7-8128431d2958",
   "metadata": {},
   "outputs": [],
   "source": [
    "#Shape(dimensions)"
   ]
  },
  {
   "cell_type": "code",
   "execution_count": 35,
   "id": "9df45144-864e-4139-b47c-11cf199e563f",
   "metadata": {},
   "outputs": [
    {
     "data": {
      "text/plain": [
       "(2, 3)"
      ]
     },
     "execution_count": 35,
     "metadata": {},
     "output_type": "execute_result"
    }
   ],
   "source": [
    "m.shape"
   ]
  },
  {
   "cell_type": "code",
   "execution_count": 36,
   "id": "99d5eba5-2be5-4427-937b-db1658e76f17",
   "metadata": {},
   "outputs": [
    {
     "data": {
      "text/plain": [
       "(3,)"
      ]
     },
     "execution_count": 36,
     "metadata": {},
     "output_type": "execute_result"
    }
   ],
   "source": [
    "v.shape"
   ]
  },
  {
   "cell_type": "code",
   "execution_count": 37,
   "id": "e901e257-7333-4167-a891-5984cd064013",
   "metadata": {},
   "outputs": [],
   "source": [
    "#Creating a column vector"
   ]
  },
  {
   "cell_type": "code",
   "execution_count": 38,
   "id": "82ae84f3-959f-4610-a0da-f06c665d1255",
   "metadata": {},
   "outputs": [
    {
     "data": {
      "text/plain": [
       "array([[5, 2, 4]])"
      ]
     },
     "execution_count": 38,
     "metadata": {},
     "output_type": "execute_result"
    }
   ],
   "source": [
    "v.reshape(1,3)"
   ]
  },
  {
   "cell_type": "code",
   "execution_count": 39,
   "id": "87a2e3ba-cfc0-4daa-8823-5da3e445d3e3",
   "metadata": {},
   "outputs": [
    {
     "data": {
      "text/plain": [
       "(3,)"
      ]
     },
     "execution_count": 39,
     "metadata": {},
     "output_type": "execute_result"
    }
   ],
   "source": [
    "v.shape"
   ]
  },
  {
   "cell_type": "code",
   "execution_count": 40,
   "id": "9ba05d1e-8d4f-458c-bd01-78a662201a2e",
   "metadata": {},
   "outputs": [
    {
     "data": {
      "text/plain": [
       "array([[5],\n",
       "       [2],\n",
       "       [4]])"
      ]
     },
     "execution_count": 40,
     "metadata": {},
     "output_type": "execute_result"
    }
   ],
   "source": [
    "v.reshape(3,1)"
   ]
  },
  {
   "cell_type": "code",
   "execution_count": 41,
   "id": "982f6bf0-1f6e-4125-b3ec-7d2487a816da",
   "metadata": {},
   "outputs": [
    {
     "data": {
      "text/plain": [
       "(3,)"
      ]
     },
     "execution_count": 41,
     "metadata": {},
     "output_type": "execute_result"
    }
   ],
   "source": [
    "v.shape"
   ]
  },
  {
   "cell_type": "code",
   "execution_count": 43,
   "id": "1c0d7ffd-55ba-4bb2-958e-bd2c43f1adf4",
   "metadata": {},
   "outputs": [],
   "source": [
    "#s.shape- it return an error because scalers ahs no shape"
   ]
  },
  {
   "cell_type": "code",
   "execution_count": null,
   "id": "46ce5386-6299-490f-8aa2-fad165bf66d6",
   "metadata": {},
   "outputs": [],
   "source": []
  },
  {
   "cell_type": "markdown",
   "id": "64bc7f10-b06c-4b1a-bf3b-caaa6bd0091c",
   "metadata": {},
   "source": [
    "TENSORFLOW"
   ]
  },
  {
   "cell_type": "code",
   "execution_count": 44,
   "id": "06b8dc2f-b5e1-46a8-b4d8-1f453df176c2",
   "metadata": {},
   "outputs": [],
   "source": [
    "#TENSORS:It works in aperculiar way. is the most general concept used to denote scaler vectors and matrices denoted as Rank 0, Rank 1, and Rank 2."
   ]
  },
  {
   "cell_type": "code",
   "execution_count": 45,
   "id": "696570c7-e418-42b2-8a72-3447cb5e1cac",
   "metadata": {},
   "outputs": [],
   "source": [
    "#Creating a Tensor"
   ]
  },
  {
   "cell_type": "code",
   "execution_count": 46,
   "id": "b0a53380-2d71-464c-8a8d-77e148c4e4e3",
   "metadata": {},
   "outputs": [],
   "source": [
    "import numpy as np\n"
   ]
  },
  {
   "cell_type": "code",
   "execution_count": 48,
   "id": "4b28a070-c754-44aa-9779-b1d9f9c6c9a3",
   "metadata": {},
   "outputs": [
    {
     "data": {
      "text/plain": [
       "array([[ 5, 12,  6],\n",
       "       [-3,  0, 14]])"
      ]
     },
     "execution_count": 48,
     "metadata": {},
     "output_type": "execute_result"
    }
   ],
   "source": [
    "m1 = np.array([[5,12,6],[-3,0,14]])\n",
    "m1"
   ]
  },
  {
   "cell_type": "code",
   "execution_count": 51,
   "id": "38e3f2c9-05a8-456d-9835-d73aa4a50ec1",
   "metadata": {},
   "outputs": [
    {
     "data": {
      "text/plain": [
       "array([[ 9,  8,  7],\n",
       "       [ 1,  3, -5]])"
      ]
     },
     "execution_count": 51,
     "metadata": {},
     "output_type": "execute_result"
    }
   ],
   "source": [
    "m2 = np.array([[9,8,7],[1,3,-5]])\n",
    "m2"
   ]
  },
  {
   "cell_type": "code",
   "execution_count": 52,
   "id": "88a098e2-8491-43c2-9d31-07009582dc7a",
   "metadata": {},
   "outputs": [],
   "source": [
    "t = np.array([m1,m2])"
   ]
  },
  {
   "cell_type": "code",
   "execution_count": 53,
   "id": "a7e1d740-7d7a-4db5-bd28-58c41b307506",
   "metadata": {},
   "outputs": [
    {
     "data": {
      "text/plain": [
       "array([[[ 5, 12,  6],\n",
       "        [-3,  0, 14]],\n",
       "\n",
       "       [[ 9,  8,  7],\n",
       "        [ 1,  3, -5]]])"
      ]
     },
     "execution_count": 53,
     "metadata": {},
     "output_type": "execute_result"
    }
   ],
   "source": [
    "t"
   ]
  },
  {
   "cell_type": "code",
   "execution_count": 54,
   "id": "d7ccbdaa-9b68-4fb1-9876-999967aaac11",
   "metadata": {},
   "outputs": [],
   "source": [
    "#Checking its shape"
   ]
  },
  {
   "cell_type": "code",
   "execution_count": 55,
   "id": "80757910-799f-4f4a-b803-11c337474068",
   "metadata": {},
   "outputs": [
    {
     "data": {
      "text/plain": [
       "(2, 2, 3)"
      ]
     },
     "execution_count": 55,
     "metadata": {},
     "output_type": "execute_result"
    }
   ],
   "source": [
    "t.shape"
   ]
  },
  {
   "cell_type": "code",
   "execution_count": 56,
   "id": "811347d1-7e7c-4902-8c2f-a846ad397b76",
   "metadata": {},
   "outputs": [],
   "source": [
    "#Manually creating a tensor"
   ]
  },
  {
   "cell_type": "code",
   "execution_count": 59,
   "id": "cd5e0d48-5d9a-40f6-b124-4491fa04215e",
   "metadata": {},
   "outputs": [
    {
     "data": {
      "text/plain": [
       "array([[[ 5, 12,  6],\n",
       "        [-3,  0, 14]],\n",
       "\n",
       "       [[ 9,  8,  7],\n",
       "        [ 1,  3, -5]]])"
      ]
     },
     "execution_count": 59,
     "metadata": {},
     "output_type": "execute_result"
    }
   ],
   "source": [
    "t_manual = np.array([[[5,12,6],[-3,0,14]],[[9,8,7],[1,3,-5]]])\n",
    "t_manual"
   ]
  },
  {
   "cell_type": "code",
   "execution_count": 60,
   "id": "417aa74e-d2a6-419e-907f-c2062ba9551e",
   "metadata": {},
   "outputs": [
    {
     "data": {
      "text/plain": [
       "(2, 2, 3)"
      ]
     },
     "execution_count": 60,
     "metadata": {},
     "output_type": "execute_result"
    }
   ],
   "source": [
    "t.shape"
   ]
  },
  {
   "cell_type": "code",
   "execution_count": null,
   "id": "b7266e80-2b6f-4c4c-95b9-3bf841d93b0b",
   "metadata": {},
   "outputs": [],
   "source": []
  },
  {
   "cell_type": "markdown",
   "id": "abeaabda-8361-4dcd-a3ba-2f7b010786f9",
   "metadata": {},
   "source": [
    "ADDITIONS AND SUBTRACTIONS"
   ]
  },
  {
   "cell_type": "code",
   "execution_count": 62,
   "id": "48ecda78-5c9c-4d17-8a24-a98f5ce7f421",
   "metadata": {},
   "outputs": [],
   "source": [
    "#1 conditing: The two matrices must have the same dimensions"
   ]
  },
  {
   "cell_type": "code",
   "execution_count": 63,
   "id": "61a2a823-2bf4-4884-9e9d-cab8b4564147",
   "metadata": {},
   "outputs": [],
   "source": [
    "m1 = np.array([[5,12,6],[-3,0,14]])"
   ]
  },
  {
   "cell_type": "code",
   "execution_count": 64,
   "id": "502379e9-85fe-4d99-827c-6b27b6493fa1",
   "metadata": {},
   "outputs": [],
   "source": [
    "m2 = np.array([[9,8,7],[1,3,-5]])"
   ]
  },
  {
   "cell_type": "code",
   "execution_count": 65,
   "id": "1f2bc7f4-1899-4f6a-822f-8516ea621323",
   "metadata": {},
   "outputs": [
    {
     "data": {
      "text/plain": [
       "array([[14, 20, 13],\n",
       "       [-2,  3,  9]])"
      ]
     },
     "execution_count": 65,
     "metadata": {},
     "output_type": "execute_result"
    }
   ],
   "source": [
    "m1+m2"
   ]
  },
  {
   "cell_type": "code",
   "execution_count": 66,
   "id": "e88a0d43-4c94-47d7-9944-c82b37cd2201",
   "metadata": {},
   "outputs": [
    {
     "data": {
      "text/plain": [
       "(2, 2, 3)"
      ]
     },
     "execution_count": 66,
     "metadata": {},
     "output_type": "execute_result"
    }
   ],
   "source": [
    "t.shape"
   ]
  },
  {
   "cell_type": "code",
   "execution_count": null,
   "id": "edae3a54-dae3-4d02-9919-f991ae5c43e6",
   "metadata": {},
   "outputs": [],
   "source": []
  },
  {
   "cell_type": "markdown",
   "id": "5e211aae-e869-45f5-a3c3-4dcd4c484b26",
   "metadata": {},
   "source": [
    "SUBTRACTION"
   ]
  },
  {
   "cell_type": "code",
   "execution_count": 81,
   "id": "49702aef-4101-4e94-83fd-5c2cd0010957",
   "metadata": {},
   "outputs": [],
   "source": [
    "a1 = np.array([[5,3],[-2,4]])"
   ]
  },
  {
   "cell_type": "code",
   "execution_count": 82,
   "id": "37a9dfd1-e703-4601-acb0-0a0cc4912171",
   "metadata": {},
   "outputs": [],
   "source": [
    "a2 = np.array([[7,-5],[3,8]])"
   ]
  },
  {
   "cell_type": "code",
   "execution_count": 83,
   "id": "30f3ea02-d5d5-4e6a-9eb5-48942169572f",
   "metadata": {},
   "outputs": [
    {
     "data": {
      "text/plain": [
       "array([[-2,  8],\n",
       "       [-5, -4]])"
      ]
     },
     "execution_count": 83,
     "metadata": {},
     "output_type": "execute_result"
    }
   ],
   "source": [
    "a1-a2"
   ]
  },
  {
   "cell_type": "code",
   "execution_count": null,
   "id": "cac37b27-a1cf-43a2-98f8-8dc4b0ab11d0",
   "metadata": {},
   "outputs": [],
   "source": []
  },
  {
   "cell_type": "markdown",
   "id": "5d95485f-aec3-4582-b0b7-3279c4c9a5c3",
   "metadata": {},
   "source": [
    "SUBTRACTION &ADDITION OF VECTORS"
   ]
  },
  {
   "cell_type": "code",
   "execution_count": 89,
   "id": "61a31b47-62d4-4685-b470-6827f8592ef0",
   "metadata": {},
   "outputs": [],
   "source": [
    "b1 = np.array([1,2,3,4,5,6])\n",
    "b2 = np.array([5,4,3,2,1,0])"
   ]
  },
  {
   "cell_type": "code",
   "execution_count": 90,
   "id": "54fa3030-0163-4606-9704-a7b9bdcc3af4",
   "metadata": {},
   "outputs": [
    {
     "data": {
      "text/plain": [
       "array([-4, -2,  0,  2,  4,  6])"
      ]
     },
     "execution_count": 90,
     "metadata": {},
     "output_type": "execute_result"
    }
   ],
   "source": [
    "b1 - b2"
   ]
  },
  {
   "cell_type": "code",
   "execution_count": 91,
   "id": "515c89c8-207e-4d4f-8096-9af7f96bc5d8",
   "metadata": {},
   "outputs": [
    {
     "data": {
      "text/plain": [
       "(6,)"
      ]
     },
     "execution_count": 91,
     "metadata": {},
     "output_type": "execute_result"
    }
   ],
   "source": [
    "b1.shape"
   ]
  },
  {
   "cell_type": "code",
   "execution_count": 92,
   "id": "9026af0c-fdd4-4611-b353-bde2a4110e75",
   "metadata": {},
   "outputs": [
    {
     "data": {
      "text/plain": [
       "array([6, 6, 6, 6, 6, 6])"
      ]
     },
     "execution_count": 92,
     "metadata": {},
     "output_type": "execute_result"
    }
   ],
   "source": [
    "b1 + b2"
   ]
  },
  {
   "cell_type": "code",
   "execution_count": null,
   "id": "48bdf656-926e-4858-a80a-c392d2cf7b1f",
   "metadata": {},
   "outputs": [],
   "source": []
  },
  {
   "cell_type": "markdown",
   "id": "efe0b9ff-d841-41f6-9774-d262f4a89405",
   "metadata": {},
   "source": [
    "# TRANSPOSE OF A MATRIX"
   ]
  },
  {
   "cell_type": "code",
   "execution_count": 1,
   "id": "873b2b02-827e-469a-96e6-01db40e0f263",
   "metadata": {},
   "outputs": [],
   "source": [
    "import numpy as np"
   ]
  },
  {
   "cell_type": "code",
   "execution_count": 2,
   "id": "375d00e6-d6a2-4a94-ae60-a4b2988199e9",
   "metadata": {},
   "outputs": [],
   "source": [
    "A = np.array([[5,12,6],[-3,0,14]])"
   ]
  },
  {
   "cell_type": "code",
   "execution_count": 4,
   "id": "a0176f3d-1a67-4c47-b78f-9fb254ab9845",
   "metadata": {},
   "outputs": [
    {
     "data": {
      "text/plain": [
       "array([[ 5, 12,  6],\n",
       "       [-3,  0, 14]])"
      ]
     },
     "execution_count": 4,
     "metadata": {},
     "output_type": "execute_result"
    }
   ],
   "source": [
    "A"
   ]
  },
  {
   "cell_type": "code",
   "execution_count": 5,
   "id": "2f5f69e4-6984-40c4-8c51-72cc7f17fe73",
   "metadata": {},
   "outputs": [],
   "source": [
    "#To transpose use : A.T"
   ]
  },
  {
   "cell_type": "code",
   "execution_count": 6,
   "id": "35446636-ab63-46f7-bccd-a9884103061e",
   "metadata": {},
   "outputs": [
    {
     "data": {
      "text/plain": [
       "array([[ 5, -3],\n",
       "       [12,  0],\n",
       "       [ 6, 14]])"
      ]
     },
     "execution_count": 6,
     "metadata": {},
     "output_type": "execute_result"
    }
   ],
   "source": [
    "A.T"
   ]
  },
  {
   "cell_type": "code",
   "execution_count": 14,
   "id": "56b5796a-975d-4283-8e29-0c2a67dc3342",
   "metadata": {},
   "outputs": [],
   "source": [
    "B = np.array([[2,8,9,7,6],[9,6,2,3,5]])"
   ]
  },
  {
   "cell_type": "code",
   "execution_count": 15,
   "id": "1cbc85b2-2758-4f72-b91e-b9de9d951436",
   "metadata": {},
   "outputs": [
    {
     "data": {
      "text/plain": [
       "array([[2, 8, 9, 7, 6],\n",
       "       [9, 6, 2, 3, 5]])"
      ]
     },
     "execution_count": 15,
     "metadata": {},
     "output_type": "execute_result"
    }
   ],
   "source": [
    "B"
   ]
  },
  {
   "cell_type": "code",
   "execution_count": 16,
   "id": "10173ef0-af50-421c-a02b-e23463b4f634",
   "metadata": {},
   "outputs": [
    {
     "data": {
      "text/plain": [
       "array([[2, 9],\n",
       "       [8, 6],\n",
       "       [9, 2],\n",
       "       [7, 3],\n",
       "       [6, 5]])"
      ]
     },
     "execution_count": 16,
     "metadata": {},
     "output_type": "execute_result"
    }
   ],
   "source": [
    "B.T"
   ]
  },
  {
   "cell_type": "code",
   "execution_count": null,
   "id": "9b1a52cf-f25f-4257-9d80-295e0c542f0a",
   "metadata": {},
   "outputs": [],
   "source": []
  },
  {
   "cell_type": "markdown",
   "id": "114c84d9-dce4-4726-9d98-1112a803096e",
   "metadata": {},
   "source": [
    "VECTOR MULTIPLICATION: They must be compatible"
   ]
  },
  {
   "cell_type": "code",
   "execution_count": 17,
   "id": "d874a6b6-d160-4ad8-93b6-99b4f30efbeb",
   "metadata": {},
   "outputs": [],
   "source": [
    "#The sum of the products with corresponding elements called DOT PRODUCTS"
   ]
  },
  {
   "cell_type": "code",
   "execution_count": 18,
   "id": "dbaca371-ac64-40c7-82c4-bd51ff32831e",
   "metadata": {},
   "outputs": [],
   "source": [
    "x = np.array([2,8,-4])\n",
    "y = np.array([1,-7,3])"
   ]
  },
  {
   "cell_type": "code",
   "execution_count": 19,
   "id": "d305717f-e850-43e9-80e5-69a86ef3894a",
   "metadata": {},
   "outputs": [
    {
     "data": {
      "text/plain": [
       "-66"
      ]
     },
     "execution_count": 19,
     "metadata": {},
     "output_type": "execute_result"
    }
   ],
   "source": [
    "np.dot(x,y)"
   ]
  },
  {
   "cell_type": "code",
   "execution_count": 20,
   "id": "451869c7-940f-4ecf-9d6d-d94c9e6aa16c",
   "metadata": {},
   "outputs": [],
   "source": [
    "# it is solved thus: 2*1 + 8*-7 + -4*3 = -68+2 = -66"
   ]
  },
  {
   "cell_type": "code",
   "execution_count": null,
   "id": "0b1138f9-bbb5-441b-b0ed-5c3ce3649e76",
   "metadata": {},
   "outputs": [],
   "source": []
  },
  {
   "cell_type": "markdown",
   "id": "ae7cb74d-aab1-4b53-bc0b-5596e019862a",
   "metadata": {},
   "source": [
    "DOT SCALAR"
   ]
  },
  {
   "cell_type": "code",
   "execution_count": 21,
   "id": "061ba6cf-8ffb-4849-8d34-403dfe4d3736",
   "metadata": {},
   "outputs": [
    {
     "data": {
      "text/plain": [
       "array([ 2,  8, -4])"
      ]
     },
     "execution_count": 21,
     "metadata": {},
     "output_type": "execute_result"
    }
   ],
   "source": [
    "x"
   ]
  },
  {
   "cell_type": "code",
   "execution_count": 22,
   "id": "5198062e-e89b-48e9-87c8-43f877922233",
   "metadata": {},
   "outputs": [
    {
     "data": {
      "text/plain": [
       "array([ 10,  40, -20])"
      ]
     },
     "execution_count": 22,
     "metadata": {},
     "output_type": "execute_result"
    }
   ],
   "source": [
    "5 * x"
   ]
  },
  {
   "cell_type": "code",
   "execution_count": null,
   "id": "824fe706-9637-4534-b798-31bddfc7f57a",
   "metadata": {},
   "outputs": [],
   "source": []
  },
  {
   "cell_type": "markdown",
   "id": "3755cc76-c849-4e90-a980-2637e7913cc7",
   "metadata": {},
   "source": [
    "SCALAR * MATRIX "
   ]
  },
  {
   "cell_type": "code",
   "execution_count": 23,
   "id": "d21009a5-26e2-455d-b495-e219effb2eb1",
   "metadata": {},
   "outputs": [],
   "source": [
    "A = A = np.array([[5,12,6],[-3,0,14]])"
   ]
  },
  {
   "cell_type": "code",
   "execution_count": 24,
   "id": "af857848-8595-459d-a868-d5f540a98769",
   "metadata": {},
   "outputs": [
    {
     "data": {
      "text/plain": [
       "array([[ 5, 12,  6],\n",
       "       [-3,  0, 14]])"
      ]
     },
     "execution_count": 24,
     "metadata": {},
     "output_type": "execute_result"
    }
   ],
   "source": [
    "A"
   ]
  },
  {
   "cell_type": "code",
   "execution_count": 27,
   "id": "25c0e98d-d7d6-4230-8c4e-8a9deb097a4f",
   "metadata": {},
   "outputs": [
    {
     "data": {
      "text/plain": [
       "array([[15, 36, 18],\n",
       "       [-9,  0, 42]])"
      ]
     },
     "execution_count": 27,
     "metadata": {},
     "output_type": "execute_result"
    }
   ],
   "source": [
    "3 * A"
   ]
  },
  {
   "cell_type": "code",
   "execution_count": null,
   "id": "ca9f1a88-2ab1-4074-bf27-ed71e81d44ab",
   "metadata": {},
   "outputs": [],
   "source": []
  },
  {
   "cell_type": "markdown",
   "id": "13a7188a-c03e-4aeb-b5ff-be0c53d74ef8",
   "metadata": {},
   "source": [
    "MATRIX*MATRIX: Only an m x n and n x k matrices can be multiplied. e.g 2 x 3 can be multiplied by 3 x 1. 3 x 3, 3x 4. Also, 5 x 7 can be multiplied by 7 x 1, 7 x 2, 7x 7 etc. what is important is the second element must correspond with first element"
   ]
  },
  {
   "cell_type": "code",
   "execution_count": null,
   "id": "ed47f734-a1c0-4717-8af7-7e3b0942a297",
   "metadata": {},
   "outputs": [],
   "source": []
  },
  {
   "cell_type": "markdown",
   "id": "52e7471d-16c9-4adf-a734-ba37e527cf2a",
   "metadata": {},
   "source": [
    "LINEAR ALGEBRA USEFULNESS"
   ]
  },
  {
   "cell_type": "markdown",
   "id": "72a6cf98-f87c-4c00-ac92-467e695b8f65",
   "metadata": {},
   "source": [
    "1. Vectorized Code\n",
    "2. Imgae recognition\n",
    "3. Dimensionality reduction"
   ]
  },
  {
   "cell_type": "code",
   "execution_count": null,
   "id": "0d0c789f-b1c6-4e1b-abc1-f71b8a3cb651",
   "metadata": {},
   "outputs": [],
   "source": []
  }
 ],
 "metadata": {
  "kernelspec": {
   "display_name": "Python 3 (ipykernel)",
   "language": "python",
   "name": "python3"
  },
  "language_info": {
   "codemirror_mode": {
    "name": "ipython",
    "version": 3
   },
   "file_extension": ".py",
   "mimetype": "text/x-python",
   "name": "python",
   "nbconvert_exporter": "python",
   "pygments_lexer": "ipython3",
   "version": "3.9.13"
  }
 },
 "nbformat": 4,
 "nbformat_minor": 5
}
