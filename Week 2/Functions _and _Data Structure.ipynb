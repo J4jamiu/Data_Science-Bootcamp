{
 "cells": [
  {
   "cell_type": "code",
   "execution_count": 1,
   "id": "b5cb9435-adde-4fe1-a0b2-82358f1d9ad5",
   "metadata": {
    "tags": []
   },
   "outputs": [],
   "source": [
    "#Functions\n"
   ]
  },
  {
   "cell_type": "code",
   "execution_count": 2,
   "id": "d7f31794-8719-4581-befc-7f575833fd09",
   "metadata": {},
   "outputs": [],
   "source": [
    "#It is stored and reuse"
   ]
  },
  {
   "cell_type": "code",
   "execution_count": 8,
   "id": "28775848-7b98-4def-ae6a-fc866f87ba5f",
   "metadata": {},
   "outputs": [],
   "source": [
    "#Def mean define function, it is used to store code not running it.\n"
   ]
  },
  {
   "cell_type": "code",
   "execution_count": 11,
   "id": "5b0837ec-75e7-497a-aab8-ec775fadc7de",
   "metadata": {},
   "outputs": [],
   "source": [
    "#def thing():      O/P\n",
    "#print('Hello')    Hello\n",
    "#print('Fun')      Fun\n",
    "#thing():\n",
    "    #print('zip')  Zip\n",
    "    #thing()       Hello\n",
    "                  #Fun\n",
    "#From the above, 'def' is an inbuilt function used to store value in 'thing' so that whenever it is involked those values are then printed\n",
    "\n",
    "#There are two types of function\n",
    "#1.Built in e.g(all,ASCI,Absolute, boolean, enumerate, format,getattr(get attribute), identity or id()\n",
    " The len() functn. map(fnct, iterable), main() min of maximum, pow(), print(), sorted()\n",
    "    \n",
    "#2.Functions that we defined ourselves\n",
    "        "
   ]
  },
  {
   "cell_type": "code",
   "execution_count": 1,
   "id": "84cd1571-322e-46cd-a892-abdf6880e1d2",
   "metadata": {},
   "outputs": [],
   "source": [
    "#Building our own functions\n",
    "#we create a new functn using def keyword followed by optional parameters in parenthesis\n",
    "#we indent the body of the function\n",
    "#this defines the functn but does not execute the body of the funtn\n",
    "\n",
    "#def print_lyrics():\n",
    "    #print('I'm a great guy, and i'm okay')\n",
    "    #print('I sleep early, and i work during the day')\n",
    "    #Above wont be printed before they were not invoked\n",
    "#Arguments: Is a value we pass into the function as its input when we call the function\n",
    "#we use argument so we can direct the function to do diff kinds of work when we call it all times\n",
    "#we put the arguments in parentheses after the name of the function e.g big = max('HELLO WORD')\n",
    "#Hello word is the argument\n",
    "\n",
    "#Return Values: function takes its argument do some computatn and return a value to be used as the value of the functn call in the calling expression. return word is used for this\n",
    "#e.g\n",
    "#def greet():\n",
    "   # return('Hello')\n",
    "\n",
    "#print(greet(), 'Glenn')\n",
    "#print(greet(), 'Sally')\n",
    "#o/p: Hello Glenn\n",
    "     #Hello Sally\n"
   ]
  },
  {
   "cell_type": "code",
   "execution_count": 4,
   "id": "467ded5f-a0b3-48a2-bed9-b77f76f565be",
   "metadata": {},
   "outputs": [
    {
     "name": "stdout",
     "output_type": "stream",
     "text": [
      "0.014850731093396963\n",
      "0.5517332527035097\n",
      "0.9780757001305386\n",
      "0.770416881454534\n",
      "0.8376586752169999\n",
      "0.016741614518237413\n",
      "0.5552892204280045\n",
      "0.023644741963157467\n",
      "0.5088497336248959\n",
      "0.45508706022073087\n"
     ]
    }
   ],
   "source": [
    "import random\n",
    "for i in range(10):\n",
    "    x = random.random()\n",
    "    print(x)"
   ]
  },
  {
   "cell_type": "code",
   "execution_count": 3,
   "id": "0e67fc08-036d-4fd2-81f1-7c7c351414d2",
   "metadata": {},
   "outputs": [
    {
     "name": "stdin",
     "output_type": "stream",
     "text": [
      "Enter Hours:  45\n",
      "Enter rate:  40\n"
     ]
    },
    {
     "name": "stdout",
     "output_type": "stream",
     "text": [
      "Pay:  1900.0\n"
     ]
    }
   ],
   "source": [
    "#Excercise\n",
    "def computepay(hours, rate):\n",
    "    if hours > 40:\n",
    "        pay = (hours -40)*rate*1.5 + 40 * rate\n",
    "    else:\n",
    "            pay = hours * rate\n",
    "    return pay\n",
    "hours = int(input('Enter Hours: '))\n",
    "rate = float(input('Enter rate: '))\n",
    "pay = computepay(hours, rate)\n",
    "print('Pay: ', pay)"
   ]
  },
  {
   "cell_type": "code",
   "execution_count": 10,
   "id": "cc605d57-afcc-47ec-ad6b-1e40bc12d1d3",
   "metadata": {},
   "outputs": [
    {
     "name": "stdin",
     "output_type": "stream",
     "text": [
      "Enter score: 0.999999\n"
     ]
    },
    {
     "name": "stdout",
     "output_type": "stream",
     "text": [
      "A\n"
     ]
    }
   ],
   "source": [
    "#Excercise\n",
    "def computegrade(grade):\n",
    "    if grade < 0 or grade > 1.0:\n",
    "     return 'Score is out of range!'\n",
    "    elif grade >=0.9:\n",
    "     return 'A'\n",
    "    elif grade >=0.8:\n",
    "     return 'B'\n",
    "    elif grade >=0.7:\n",
    "     return 'C'\n",
    "    elif grade >0.6:\n",
    "     return 'D'\n",
    "    else:\n",
    "     return 'F'\n",
    "\n",
    "try:\n",
    "    grade = float(input('Enter score:'))\n",
    "except:\n",
    "    print('Bad score')\n",
    "    quit()\n",
    "print(computegrade(grade))"
   ]
  },
  {
   "cell_type": "code",
   "execution_count": 11,
   "id": "90f1c8fb-1fd1-498b-9b11-cd88a586cdc8",
   "metadata": {},
   "outputs": [],
   "source": [
    "#Why functions?\n",
    "#There are several reasons:\n",
    "#• Creating a new function gives you an opportunity to name a group of statements, which makes your program easier to read, understand, and debug.\n",
    "#• Functions can make a program smaller by eliminating repetitive code. Later,\n",
    "#if you make a change, you only have to make it in one place.\n",
    "#• Dividing a long program into functions allows you to debug the parts one at\n",
    "#a time and then assemble them into a working whole.\n",
    "#• Well-designed functions are often useful for many programs. Once you write\n",
    "#and debug one, you can reuse it."
   ]
  },
  {
   "cell_type": "code",
   "execution_count": 13,
   "id": "f5639f15-9917-404a-87f9-f663470b3f3e",
   "metadata": {},
   "outputs": [
    {
     "name": "stdout",
     "output_type": "stream",
     "text": [
      "ABC\n",
      "ZAP\n",
      "ABC\n"
     ]
    }
   ],
   "source": [
    "def fred():\n",
    "    print('ZAP')\n",
    "def jane():\n",
    "    print('ABC')\n",
    "jane()\n",
    "fred()\n",
    "jane()"
   ]
  },
  {
   "cell_type": "code",
   "execution_count": 19,
   "id": "63ef3b6f-b819-4090-817b-c7bbcfc555e8",
   "metadata": {},
   "outputs": [
    {
     "name": "stdout",
     "output_type": "stream",
     "text": [
      "This is a string\n",
      "None\n"
     ]
    }
   ],
   "source": [
    "x = 'This is a string'\n",
    "def hello():\n",
    " x = 'hello'\n",
    "print(x)\n",
    "print(hello())"
   ]
  },
  {
   "cell_type": "code",
   "execution_count": 1,
   "id": "48a03538-ff9e-43ff-a85d-9a660c4423d2",
   "metadata": {},
   "outputs": [
    {
     "ename": "SyntaxError",
     "evalue": "invalid syntax (3065222803.py, line 3)",
     "output_type": "error",
     "traceback": [
      "\u001b[1;36m  File \u001b[1;32m\"C:\\Users\\hp\\AppData\\Local\\Temp\\ipykernel_4456\\3065222803.py\"\u001b[1;36m, line \u001b[1;32m3\u001b[0m\n\u001b[1;33m    argument A value provided to a function when the function is called. This value\u001b[0m\n\u001b[1;37m             ^\u001b[0m\n\u001b[1;31mSyntaxError\u001b[0m\u001b[1;31m:\u001b[0m invalid syntax\n"
     ]
    }
   ],
   "source": [
    "#Glossary\n",
    "#''algorithm A general process for solving a category of problems.\n",
    "argument A value provided to a function when the function is called. This value\n",
    "is assigned to the corresponding parameter in the function.\n",
    "body The sequence of statements inside a function definition.\n",
    "composition Using an expression as part of a larger expression, or a statement\n",
    "as part of a larger statement.\n",
    "deterministic Pertaining to a program that does the same thing each time it\n",
    "runs, given the same inputs.\n",
    "dot notation The syntax for calling a function in another module by specifying\n",
    "the module name followed by a dot (period) and the function name.\n",
    "flow of execution The order in which statements are executed during a program\n",
    "run.\n",
    "fruitful function A function that returns a value.\n",
    "function A named sequence of statements that performs some useful operation.\n",
    "Functions may or may not take arguments and may or may not produce a\n",
    "result.\n",
    "function call A statement that executes a function. It consists of the function\n",
    "name followed by an argument list.\n",
    "54 . FUNCTIONS\n",
    "function definition A statement that creates a new function, specifying its name,\n",
    "parameters, and the statements it executes.\n",
    "function object A value created by a function definition. The name of the func\u0002tion is a variable that refers to a function object.\n",
    "header The first line of a function definition.\n",
    "import statement A statement that reads a module file and creates a module\n",
    "object.\n",
    "module object A value created by an import statement that provides access to\n",
    "the data and code defined in a module.\n",
    "parameter A name used inside a function to refer to the value passed as an\n",
    "argument.\n",
    "pseudorandom Pertaining to a sequence of numbers that appear to be random,\n",
    "but are generated by a deterministic program.\n",
    "return value The result of a function. If a function call is used as an expression,\n",
    "the return value is the value of the expression.\n",
    "void function A function that does not return a value\""
   ]
  },
  {
   "cell_type": "code",
   "execution_count": null,
   "id": "28b08b3e-a988-47eb-83cd-02a5ad767c97",
   "metadata": {},
   "outputs": [],
   "source": []
  }
 ],
 "metadata": {
  "kernelspec": {
   "display_name": "Python 3 (ipykernel)",
   "language": "python",
   "name": "python3"
  },
  "language_info": {
   "codemirror_mode": {
    "name": "ipython",
    "version": 3
   },
   "file_extension": ".py",
   "mimetype": "text/x-python",
   "name": "python",
   "nbconvert_exporter": "python",
   "pygments_lexer": "ipython3",
   "version": "3.9.13"
  }
 },
 "nbformat": 4,
 "nbformat_minor": 5
}
