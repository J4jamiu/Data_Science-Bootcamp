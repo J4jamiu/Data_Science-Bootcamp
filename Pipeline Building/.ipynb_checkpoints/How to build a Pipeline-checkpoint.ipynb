{
 "cells": [
  {
   "cell_type": "markdown",
   "id": "9237d5b3-5569-4db8-9992-9f7bf04652a6",
   "metadata": {},
   "source": [
    "HOW TO BUILD A PIPELINE"
   ]
  },
  {
   "cell_type": "code",
   "execution_count": 4,
   "id": "8bba4221-6807-4460-94a2-397e5b8d2d5f",
   "metadata": {},
   "outputs": [],
   "source": [
    "from sklearn.datasets import load_iris\n",
    "from sklearn.preprocessing import MinMaxScaler\n",
    "from sklearn.linear_model import LogisticRegression\n",
    "from sklearn.model_selection import train_test_split\n",
    "from sklearn.pipeline import Pipeline\n"
   ]
  },
  {
   "cell_type": "code",
   "execution_count": 6,
   "id": "f7a758ce-ae62-44d7-bff5-2afcb935bb28",
   "metadata": {},
   "outputs": [],
   "source": [
    "iris=load_iris()\n",
    "X_train, X_test, y_train, y_test = train_test_split(iris.data, iris.target, test_size = 0.2, random_state=42)\n",
    "pipe_lr=Pipeline([('minmax',MinMaxScaler()),('lr', LogisticRegression())])"
   ]
  },
  {
   "cell_type": "code",
   "execution_count": 7,
   "id": "28834669-046f-4188-8adf-014133c0f35a",
   "metadata": {},
   "outputs": [
    {
     "data": {
      "text/plain": [
       "Pipeline(steps=[('minmax', MinMaxScaler()), ('lr', LogisticRegression())])"
      ]
     },
     "execution_count": 7,
     "metadata": {},
     "output_type": "execute_result"
    }
   ],
   "source": [
    "pipe_lr.fit(X_train,y_train)"
   ]
  },
  {
   "cell_type": "code",
   "execution_count": 8,
   "id": "b710d804-99c2-4cda-ad3b-8a001c065913",
   "metadata": {},
   "outputs": [],
   "source": [
    "score = pipe_lr.score(X_test, y_test)"
   ]
  },
  {
   "cell_type": "code",
   "execution_count": 9,
   "id": "685659ef-1c01-4f81-a795-694d30c205a0",
   "metadata": {},
   "outputs": [
    {
     "data": {
      "text/plain": [
       "0.9666666666666667"
      ]
     },
     "execution_count": 9,
     "metadata": {},
     "output_type": "execute_result"
    }
   ],
   "source": [
    "score"
   ]
  },
  {
   "cell_type": "code",
   "execution_count": 10,
   "id": "c22b1eeb-1326-474a-8ad9-ad556d5a79a3",
   "metadata": {},
   "outputs": [],
   "source": [
    "#Our model is 96.6% Acurrate"
   ]
  },
  {
   "cell_type": "code",
   "execution_count": null,
   "id": "0c05fa96-1d9a-4c09-8c3d-228da0e0c2b2",
   "metadata": {},
   "outputs": [],
   "source": []
  }
 ],
 "metadata": {
  "kernelspec": {
   "display_name": "Python 3 (ipykernel)",
   "language": "python",
   "name": "python3"
  },
  "language_info": {
   "codemirror_mode": {
    "name": "ipython",
    "version": 3
   },
   "file_extension": ".py",
   "mimetype": "text/x-python",
   "name": "python",
   "nbconvert_exporter": "python",
   "pygments_lexer": "ipython3",
   "version": "3.9.13"
  }
 },
 "nbformat": 4,
 "nbformat_minor": 5
}
