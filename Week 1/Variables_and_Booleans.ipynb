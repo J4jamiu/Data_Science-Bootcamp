{
 "cells": [
  {
   "cell_type": "code",
   "execution_count": 1,
   "id": "ac635a74-5d32-4cee-92a4-88a929220864",
   "metadata": {},
   "outputs": [],
   "source": [
    "#DAY 2 NOTES"
   ]
  },
  {
   "cell_type": "code",
   "execution_count": 2,
   "id": "13524ea2-ce29-4586-8a27-7d84bcf492d1",
   "metadata": {},
   "outputs": [],
   "source": [
    "#VARIABLES BOOLEANS AND CONDITIONALS\n"
   ]
  },
  {
   "cell_type": "code",
   "execution_count": 4,
   "id": "2e83875d-01e0-4fb5-8dd7-5ce08995fc1d",
   "metadata": {},
   "outputs": [],
   "source": [
    "##CONSTANTS\n",
    "\n",
    "#Fixed values such as numbers ,letters and strings are called constanst because they do not change"
   ]
  },
  {
   "cell_type": "code",
   "execution_count": 5,
   "id": "a3aadde4-ab9d-419f-b69d-461271a4ce78",
   "metadata": {},
   "outputs": [
    {
     "name": "stdout",
     "output_type": "stream",
     "text": [
      "123\n"
     ]
    }
   ],
   "source": [
    "#Numeric constants are numbers\n",
    "#String Constants use single or double quotes' or ''\n",
    "#e.g\n",
    "print(123)"
   ]
  },
  {
   "cell_type": "code",
   "execution_count": 6,
   "id": "b89f7e4b-d151-4c91-bb67-8ff14ad0341a",
   "metadata": {},
   "outputs": [
    {
     "name": "stdout",
     "output_type": "stream",
     "text": [
      "98.0\n"
     ]
    }
   ],
   "source": [
    "print(98.0)"
   ]
  },
  {
   "cell_type": "code",
   "execution_count": 8,
   "id": "a5a208cc-6b81-4feb-b535-0ef7cb8a5b17",
   "metadata": {},
   "outputs": [
    {
     "name": "stdout",
     "output_type": "stream",
     "text": [
      "Hello World\n"
     ]
    }
   ],
   "source": [
    "print('Hello World')"
   ]
  },
  {
   "cell_type": "code",
   "execution_count": 6,
   "id": "144acb80-e9ea-4f5a-88fd-41a12aa48b94",
   "metadata": {},
   "outputs": [
    {
     "name": "stdout",
     "output_type": "stream",
     "text": [
      "4\n"
     ]
    }
   ],
   "source": [
    "#Sentences or Lines\n",
    "##Assignment Statemnets\n",
    "x = 2 \n",
    "x = x + 2\n",
    "\n",
    "print(x)"
   ]
  },
  {
   "cell_type": "code",
   "execution_count": 15,
   "id": "dc367dda-c85d-48ea-94e5-9ab2e6337349",
   "metadata": {},
   "outputs": [
    {
     "name": "stdout",
     "output_type": "stream",
     "text": [
      "576.0\n"
     ]
    }
   ],
   "source": [
    "hours = 24\n",
    "rate = 24.\n",
    "print(hours * rate)"
   ]
  },
  {
   "cell_type": "code",
   "execution_count": null,
   "id": "3881d1ec-8bf5-43c8-972a-d7eb905a014a",
   "metadata": {},
   "outputs": [
    {
     "ename": "SyntaxError",
     "evalue": "invalid syntax (2356195064.py, line 3)",
     "output_type": "error",
     "traceback": [
      "\u001b[1;36m  File \u001b[1;32m\"C:\\Users\\hp\\AppData\\Local\\Temp\\ipykernel_5280\\2356195064.py\"\u001b[1;36m, line \u001b[1;32m3\u001b[0m\n\u001b[1;33m    * = multiplication\u001b[0m\n\u001b[1;37m      ^\u001b[0m\n\u001b[1;31mSyntaxError\u001b[0m\u001b[1;31m:\u001b[0m invalid syntax\n"
     ]
    }
   ],
   "source": [
    "#NUMERIC EXPRESSIONS\n",
    "#Due to lack of computer keyorads we use 'Computer spaek' to express the classic math operations\n",
    "* = multiplication\n",
    "+ = Addition\n",
    "%=Remainder\n",
    ".. = power\n",
    "/ = division\n",
    "- = subtraction\n",
    "# Operator Predence RULES\n",
    "Parenthesis, power, multiplication, addition, left to right\n",
    "\n",
    "#Types of numbers : Integer and float\n",
    "\n",
    "#Comments use ''#'' E.g\n",
    "\n",
    "#This is Jamiu notes\n",
    "\n"
   ]
  },
  {
   "cell_type": "code",
   "execution_count": 10,
   "id": "a1941338-9684-4339-a44c-10a054d598ad",
   "metadata": {},
   "outputs": [
    {
     "name": "stdout",
     "output_type": "stream",
     "text": [
      "4\n"
     ]
    }
   ],
   "source": [
    "#Expressions\n",
    "xx = 2\n",
    "xx = xx + 2\n",
    "print(xx)\n"
   ]
  },
  {
   "cell_type": "code",
   "execution_count": 11,
   "id": "a03e1658-cba8-4ba7-a9ca-f6d63f55a8fd",
   "metadata": {},
   "outputs": [
    {
     "name": "stdout",
     "output_type": "stream",
     "text": [
      "440.0\n"
     ]
    }
   ],
   "source": [
    "yy = 440 / 2\n",
    "ll = yy * 2\n",
    "print(ll)"
   ]
  },
  {
   "cell_type": "code",
   "execution_count": null,
   "id": "c95b4e31-f6c4-4a44-8190-6cb9b0983263",
   "metadata": {},
   "outputs": [],
   "source": [
    "# Python Variables and Data Types"
   ]
  },
  {
   "cell_type": "code",
   "execution_count": 12,
   "id": "dc92830a-c44a-4453-9369-d8e7b68525a6",
   "metadata": {},
   "outputs": [],
   "source": [
    "#Variable are entities of a program taht hold a value\n",
    "# x =100. x= variable name 100 is the value"
   ]
  },
  {
   "cell_type": "code",
   "execution_count": 13,
   "id": "30edfd94-c4fb-4ac7-8fe6-b8d78fa6cbc4",
   "metadata": {},
   "outputs": [
    {
     "data": {
      "text/plain": [
       "int"
      ]
     },
     "execution_count": 13,
     "metadata": {},
     "output_type": "execute_result"
    }
   ],
   "source": [
    "x = 100\n",
    "type(x)"
   ]
  },
  {
   "cell_type": "code",
   "execution_count": 14,
   "id": "9852620d-9ffa-497b-a0ca-71ba793013d0",
   "metadata": {},
   "outputs": [
    {
     "data": {
      "text/plain": [
       "int"
      ]
     },
     "execution_count": 14,
     "metadata": {},
     "output_type": "execute_result"
    }
   ],
   "source": [
    "x = 700 *890\n",
    "type(x)"
   ]
  },
  {
   "cell_type": "code",
   "execution_count": 15,
   "id": "76c91ff8-1549-44d6-be1e-ee185604f05c",
   "metadata": {},
   "outputs": [
    {
     "data": {
      "text/plain": [
       "str"
      ]
     },
     "execution_count": 15,
     "metadata": {},
     "output_type": "execute_result"
    }
   ],
   "source": [
    "x = 'Ex girlfriend'\n",
    "type(x)"
   ]
  },
  {
   "cell_type": "code",
   "execution_count": 16,
   "id": "0da24e31-9e73-4def-8332-5af983f0cdaa",
   "metadata": {},
   "outputs": [
    {
     "name": "stdout",
     "output_type": "stream",
     "text": [
      "Ex girlfriend\n"
     ]
    }
   ],
   "source": [
    "print(x)"
   ]
  },
  {
   "cell_type": "code",
   "execution_count": 17,
   "id": "f2201a92-fd01-428d-b1ab-6abcf3b613aa",
   "metadata": {},
   "outputs": [
    {
     "data": {
      "text/plain": [
       "tuple"
      ]
     },
     "execution_count": 17,
     "metadata": {},
     "output_type": "execute_result"
    }
   ],
   "source": [
    "x = (12,13,78)\n",
    "type(x)"
   ]
  },
  {
   "cell_type": "code",
   "execution_count": 18,
   "id": "5baa4527-681c-48b7-b06f-d8b0a499fc1c",
   "metadata": {},
   "outputs": [
    {
     "ename": "TypeError",
     "evalue": "'tuple' object does not support item assignment",
     "output_type": "error",
     "traceback": [
      "\u001b[1;31m---------------------------------------------------------------------------\u001b[0m",
      "\u001b[1;31mTypeError\u001b[0m                                 Traceback (most recent call last)",
      "\u001b[1;32m~\\AppData\\Local\\Temp\\ipykernel_5280\\1460194799.py\u001b[0m in \u001b[0;36m<module>\u001b[1;34m\u001b[0m\n\u001b[1;32m----> 1\u001b[1;33m \u001b[0mx\u001b[0m\u001b[1;33m[\u001b[0m\u001b[1;36m2\u001b[0m\u001b[1;33m]\u001b[0m\u001b[1;33m=\u001b[0m\u001b[1;36m3\u001b[0m\u001b[1;33m\u001b[0m\u001b[1;33m\u001b[0m\u001b[0m\n\u001b[0m",
      "\u001b[1;31mTypeError\u001b[0m: 'tuple' object does not support item assignment"
     ]
    }
   ],
   "source": [
    "x[2]=3"
   ]
  },
  {
   "cell_type": "code",
   "execution_count": null,
   "id": "098d6735-c927-4b41-b556-5c0588e30b74",
   "metadata": {},
   "outputs": [],
   "source": [
    "Above is normal error to show that tupples are immutable"
   ]
  },
  {
   "cell_type": "code",
   "execution_count": 19,
   "id": "c5b7ae41-4f35-453a-91b7-38b84f0d7d1c",
   "metadata": {},
   "outputs": [
    {
     "data": {
      "text/plain": [
       "list"
      ]
     },
     "execution_count": 19,
     "metadata": {},
     "output_type": "execute_result"
    }
   ],
   "source": [
    "x = [8,78,90]\n",
    "type(x)"
   ]
  },
  {
   "cell_type": "code",
   "execution_count": 23,
   "id": "854b0c3c-6c08-4cbf-b916-eea706d0d58f",
   "metadata": {},
   "outputs": [
    {
     "name": "stdout",
     "output_type": "stream",
     "text": [
      "90\n"
     ]
    }
   ],
   "source": [
    "print(x[2])"
   ]
  },
  {
   "cell_type": "code",
   "execution_count": 24,
   "id": "1bbd0d55-a3d9-47a0-97fb-d10c4caac141",
   "metadata": {},
   "outputs": [
    {
     "name": "stdout",
     "output_type": "stream",
     "text": [
      "[1, 2, 6]\n"
     ]
    }
   ],
   "source": [
    "#lists are mutable, changeable as shown below\n",
    "\n",
    "x = [1,2,3]\n",
    "x[2] = 6\n",
    "print(x)"
   ]
  },
  {
   "cell_type": "code",
   "execution_count": 25,
   "id": "054e2dba-d1d7-4eca-a42b-2de2981895bc",
   "metadata": {},
   "outputs": [],
   "source": [
    "#RULES FOR NAMING VARIABLES\n",
    "#Variable must start with alphabet or underscore\n",
    "#After the 1st character, it can accept numbers or alphabets\n",
    "#The only specal character that can be used is underscore\n",
    "#They are case sensitive\n",
    "#Reserved words can not be ued as variable names e.g and,as, break,continue,try, print, in, is etc"
   ]
  },
  {
   "cell_type": "code",
   "execution_count": 26,
   "id": "52397a20-f3fa-4263-8d48-d738163efd6b",
   "metadata": {},
   "outputs": [],
   "source": [
    "#Arithmetics : To have results of division showing in Integer instead of float use e.e result + x//3 . i.e double division signs\n"
   ]
  },
  {
   "cell_type": "code",
   "execution_count": 30,
   "id": "c9da7a95-9304-412e-9fd0-c10ac7d24731",
   "metadata": {},
   "outputs": [
    {
     "name": "stdout",
     "output_type": "stream",
     "text": [
      "In\n"
     ]
    }
   ],
   "source": [
    "#Strings\n",
    "var = 'International'\n",
    "print(var[ : 2])"
   ]
  },
  {
   "cell_type": "code",
   "execution_count": 31,
   "id": "c905ae50-b2ff-4488-bd47-825ec01cc4be",
   "metadata": {},
   "outputs": [
    {
     "name": "stdout",
     "output_type": "stream",
     "text": [
      "International\n"
     ]
    }
   ],
   "source": [
    "print(var[ : 20])"
   ]
  },
  {
   "cell_type": "code",
   "execution_count": 32,
   "id": "9008885b-3bcb-4cef-8dae-7ec1ee5f08b2",
   "metadata": {},
   "outputs": [
    {
     "data": {
      "text/plain": [
       "13"
      ]
     },
     "execution_count": 32,
     "metadata": {},
     "output_type": "execute_result"
    }
   ],
   "source": [
    "len(var)"
   ]
  },
  {
   "cell_type": "code",
   "execution_count": 44,
   "id": "35fcfaa2-e87d-418b-bc49-959abeed92c5",
   "metadata": {},
   "outputs": [
    {
     "name": "stdout",
     "output_type": "stream",
     "text": [
      "its a great Sunday\n"
     ]
    }
   ],
   "source": [
    "var1 = 'its Sunday'\n",
    "var2 = 'Have a great day'\n",
    "var3 = var1[ :4] + var2[5:13] + var1[4:10]\n",
    "print(var3)"
   ]
  },
  {
   "cell_type": "code",
   "execution_count": 41,
   "id": "121ce252-7ff0-45c6-9e4b-947c99465288",
   "metadata": {},
   "outputs": [
    {
     "data": {
      "text/plain": [
       "10"
      ]
     },
     "execution_count": 41,
     "metadata": {},
     "output_type": "execute_result"
    }
   ],
   "source": [
    "len(var1)"
   ]
  },
  {
   "cell_type": "code",
   "execution_count": 45,
   "id": "002cfc72-3437-40c6-b538-290b580bb34b",
   "metadata": {},
   "outputs": [
    {
     "name": "stdout",
     "output_type": "stream",
     "text": [
      "200\n"
     ]
    }
   ],
   "source": [
    "#QUIZ\n",
    "varA=100\n",
    "varB=200\n",
    "varA = varB\n",
    "print(varA)\n"
   ]
  },
  {
   "cell_type": "code",
   "execution_count": 46,
   "id": "6fd24b3d-f19d-43f3-90b9-443772f41b24",
   "metadata": {},
   "outputs": [
    {
     "name": "stdout",
     "output_type": "stream",
     "text": [
      "200\n"
     ]
    }
   ],
   "source": [
    "print(varB)"
   ]
  },
  {
   "cell_type": "code",
   "execution_count": 52,
   "id": "5d85eb48-8eea-49e6-a3ca-37a70602d9dd",
   "metadata": {},
   "outputs": [
    {
     "name": "stdout",
     "output_type": "stream",
     "text": [
      "2\n",
      "2\n"
     ]
    }
   ],
   "source": [
    "#How Python Variables Reference Objects\n",
    "a = 2\n",
    "b = 2\n",
    "a = b\n",
    "print(a)\n",
    "print(b)\n",
    "\n",
    "\n"
   ]
  },
  {
   "cell_type": "code",
   "execution_count": null,
   "id": "1b9b3a2c-aeb5-41d9-987d-7fca842e9691",
   "metadata": {},
   "outputs": [],
   "source": []
  },
  {
   "cell_type": "code",
   "execution_count": 53,
   "id": "c86a8df1-1aba-45fe-b090-c0f1fca431e2",
   "metadata": {},
   "outputs": [
    {
     "name": "stdout",
     "output_type": "stream",
     "text": [
      "Jamiu Olabisi Omotoso:\n",
      "\n"
     ]
    }
   ],
   "source": [
    "#Excercise\n",
    "name = ('Jamiu Olabisi Omotoso:\\n')\n",
    "print(name)\n",
    "\n"
   ]
  },
  {
   "cell_type": "code",
   "execution_count": 59,
   "id": "3f4427a1-26cf-48c6-ac6d-ba405ee0179f",
   "metadata": {},
   "outputs": [
    {
     "name": "stdout",
     "output_type": "stream",
     "text": [
      "Pay : 24.0\n"
     ]
    }
   ],
   "source": [
    "#Excercise\n",
    "hours = 10\n",
    "rate =  2.4\n",
    "pay = hours * rate\n",
    "print('Pay :',pay)"
   ]
  },
  {
   "cell_type": "code",
   "execution_count": 60,
   "id": "3fc4622a-e9cf-4e5c-b745-b11c3d5a3ec0",
   "metadata": {},
   "outputs": [
    {
     "name": "stdout",
     "output_type": "stream",
     "text": [
      "Temperature in FAHRENHEIT :  34.7\n"
     ]
    }
   ],
   "source": [
    "#Excercise\n",
    "cells = 1.5\n",
    "fahr = cells * 1.8 + 32\n",
    "print('Temperature in FAHRENHEIT : ', fahr)"
   ]
  },
  {
   "cell_type": "code",
   "execution_count": null,
   "id": "c22ce57c-0e5c-4c6a-bb05-1fa185376d8a",
   "metadata": {},
   "outputs": [],
   "source": []
  }
 ],
 "metadata": {
  "kernelspec": {
   "display_name": "Python 3 (ipykernel)",
   "language": "python",
   "name": "python3"
  },
  "language_info": {
   "codemirror_mode": {
    "name": "ipython",
    "version": 3
   },
   "file_extension": ".py",
   "mimetype": "text/x-python",
   "name": "python",
   "nbconvert_exporter": "python",
   "pygments_lexer": "ipython3",
   "version": "3.9.13"
  }
 },
 "nbformat": 4,
 "nbformat_minor": 5
}
