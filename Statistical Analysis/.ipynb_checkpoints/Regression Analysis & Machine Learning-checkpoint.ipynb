{
 "cells": [
  {
   "cell_type": "code",
   "execution_count": null,
   "id": "b55f1305-4998-4fd2-9a54-e649429e439b",
   "metadata": {},
   "outputs": [],
   "source": [
    "###REGRESSION ANALYSIS AND MACHINE LEARNING"
   ]
  },
  {
   "cell_type": "code",
   "execution_count": 2,
   "id": "294b50dc-010b-4fd2-9ea3-106ad684ca45",
   "metadata": {},
   "outputs": [],
   "source": [
    "import sklearn\n",
    "import numpy as np\n",
    "import pandas as pd\n",
    "import scipy\n",
    "import statsmodels.api as sm\n",
    "import matplotlib.pyplot as plt\n",
    "import seaborn as sns"
   ]
  },
  {
   "cell_type": "code",
   "execution_count": null,
   "id": "211b889f-b2f8-4840-87ca-0877eb373b38",
   "metadata": {},
   "outputs": [],
   "source": [
    "#STARTSMODEL: Is built on top of Numpy and Scipy , which integrates with Pandas.\n",
    "#It provides very good summaries unmattched for educational purposes\n",
    "\n",
    "#SCIKIT -LEARN(SK LEARN): Widely used machine learning library\n",
    "\n",
    "#SK LEARN is the real deal, while Stats Models make it easy to understand the real deal.\n",
    "\n",
    "#NUMPY: Is a 3rd party parckage that allow us to work with multi dimensional arrays\n",
    "#it represent the powerful way to organize the proccessed data\n",
    "#and help to manipulate larger size of data\n",
    "\n",
    "#SCIPY: is a scientific computation library that uses NumPy underneath. SciPy stands for Scientific Python. It provides more utility functions for optimization, stats and signal processing.\n",
    "\n",
    "#PANDAS: Allows us to organize data in a tabular form and to attache descriptive labels to the rows and columns\n",
    "#Essential for data science\n",
    "\n",
    "#MATPLOT LIB: A 2D plotting library specially designed for the visualization of numpy cOMPUTATIONS\n",
    "#It contains tools taht can help to arrange your graphs in suitable manner\n",
    "\n",
    "#SEABORN Is a python visualizaton library based on Matplotlib . It provides high level interface for drawing attractve statistical graphics\n"
   ]
  }
 ],
 "metadata": {
  "kernelspec": {
   "display_name": "Python 3 (ipykernel)",
   "language": "python",
   "name": "python3"
  },
  "language_info": {
   "codemirror_mode": {
    "name": "ipython",
    "version": 3
   },
   "file_extension": ".py",
   "mimetype": "text/x-python",
   "name": "python",
   "nbconvert_exporter": "python",
   "pygments_lexer": "ipython3",
   "version": "3.9.13"
  }
 },
 "nbformat": 4,
 "nbformat_minor": 5
}
