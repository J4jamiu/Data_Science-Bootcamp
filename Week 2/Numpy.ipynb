{
 "cells": [
  {
   "cell_type": "code",
   "execution_count": 1,
   "id": "d7b1dd6b-5560-4e1f-b63b-ed48cf2cf37e",
   "metadata": {},
   "outputs": [],
   "source": [
    "#NUMPY"
   ]
  },
  {
   "cell_type": "code",
   "execution_count": 4,
   "id": "081301d7-aaf3-4eed-b27d-37ccc72fc222",
   "metadata": {},
   "outputs": [],
   "source": [
    "#Numpyis the fundamental package for numeric computing with python\n",
    "#It provides powerful ways to create store and/or manipulate data which makes it able to seamlessly and speedily integrate with a wide variety of databases\n",
    "#it is the basics for pandas, i.e pandas are built on this fundationwhich is a high perfirmance data centric package taht we will lean later in this course.\n",
    "\n",
    "#Numpy array is similar to list, each element is associated with index. fixed in size lement is same type e.g integers\n",
    "#accessible with integer and square bracket []\n",
    "#it make it easier and afster to perform many computational operation using less memory\n",
    "#e.g vector addition and subtraction\n",
    "\n",
    "#a:array([0,1,2,3,4])\n",
    "#type(a): numpy.ndarray\n",
    "#numpy array can be sliced\n"
   ]
  },
  {
   "cell_type": "code",
   "execution_count": 5,
   "id": "9cf33a5a-4438-4c04-a59e-cce553fe33d2",
   "metadata": {},
   "outputs": [],
   "source": [
    "#Numpy can be install on command prompt using: pip install numpy"
   ]
  },
  {
   "cell_type": "code",
   "execution_count": 6,
   "id": "71396ec8-8f0d-4ae4-9e9a-5f6f8440669a",
   "metadata": {},
   "outputs": [],
   "source": [
    "#Advantages of NumPy Library\n",
    "#A NumPy array has many advantages over regular Python lists. Some of them are\n",
    "#isted below:\n",
    "#1. NumPy arrays are much faster for insertion, deletion, updating, and reading\n",
    "#2. NumPy arrays contain advanced broadcasting functionalities compared with\n",
    "#Python arrays.\n",
    "#3. NumPy array comes with a lot of methods that support advanced arithmetic\n",
    "#linear algebra options.\n",
    "#4. NumPy provides advanced multi-dimensional array slicing capabilities.\n",
    "#In the next section, you will see how to create NumPy arrays using different\n",
    "#methods\n"
   ]
  },
  {
   "cell_type": "code",
   "execution_count": 8,
   "id": "11337882-a029-40bf-93bb-9397be5f6c8e",
   "metadata": {},
   "outputs": [
    {
     "data": {
      "text/plain": [
       "numpy.ndarray"
      ]
     },
     "execution_count": 8,
     "metadata": {},
     "output_type": "execute_result"
    }
   ],
   "source": [
    "#Using Array Methods\n",
    "#To create a NumPy array, you can pass a list to the array() method of the NumPy\n",
    "#module as shown below:\n",
    "#Script 1:\n",
    "import numpy as np\n",
    "nums_list = [10,12,14,16,20]\n",
    "nums_array = np.array(nums_list)\n",
    "type(nums_array)"
   ]
  },
  {
   "cell_type": "code",
   "execution_count": 9,
   "id": "44ddac33-9d00-45f1-9327-17aaebc28e7d",
   "metadata": {},
   "outputs": [
    {
     "data": {
      "text/plain": [
       "(3, 3)"
      ]
     },
     "execution_count": 9,
     "metadata": {},
     "output_type": "execute_result"
    }
   ],
   "source": [
    "#You can also create a multi-dimensional NumPy array. To do so, you need to create\n",
    "#a list of lists where each internal list corresponds to the row in a 2-dimensional\n",
    "#array. Here is an example of how to create a 2-dimensional array using the array()\n",
    "#method.\n",
    "#Script 2:\n",
    "row1 = [10,12,13]\n",
    "row2 = [45,32,16]\n",
    "row3 = [45,32,16]\n",
    "\n",
    "nums_2d = np.array([row1, row2, row3])\n",
    "nums_2d.shape"
   ]
  },
  {
   "cell_type": "code",
   "execution_count": 10,
   "id": "82c06f31-7c4f-47b5-83ca-b8c208581871",
   "metadata": {},
   "outputs": [
    {
     "data": {
      "text/plain": [
       "array([ 5,  6,  7,  8,  9, 10])"
      ]
     },
     "execution_count": 10,
     "metadata": {},
     "output_type": "execute_result"
    }
   ],
   "source": [
    "#With the arrange () method, you can create a NumPy array that contains a range of\n",
    "#integers. The first parameter to the arrange method is the lower bound, and the\n",
    "#second parameter is the upper bound. The lower bound is included in the array.\n",
    "#However, the upper bound is not included. The following script creates a NumPy\n",
    "#array with integers 5 to 10.\n",
    "#Script 3:\n",
    "nums_arr = np.arange(5,11)\n",
    "(nums_arr)"
   ]
  },
  {
   "cell_type": "code",
   "execution_count": 18,
   "id": "7ac0ad4e-53fd-45ab-8066-2e5db47dd042",
   "metadata": {},
   "outputs": [
    {
     "data": {
      "text/plain": [
       "array([60, 61, 62, 63, 64, 65, 66, 67, 68, 69, 70])"
      ]
     },
     "execution_count": 18,
     "metadata": {},
     "output_type": "execute_result"
    }
   ],
   "source": [
    "#SCRIPT4:\n",
    "nums_arr = np.arange(60,71)\n",
    "(nums_arr)\n"
   ]
  },
  {
   "cell_type": "code",
   "execution_count": 20,
   "id": "f1f266d9-ec71-4a23-82bf-78fbf1d998d7",
   "metadata": {},
   "outputs": [
    {
     "data": {
      "text/plain": [
       "array([67, 68, 69, 70, 71, 72, 73, 74, 75, 76, 77, 78, 79, 80, 81, 82, 83,\n",
       "       84, 85, 86, 87, 88, 89, 90, 91, 92, 93, 94, 95, 96, 97, 98])"
      ]
     },
     "execution_count": 20,
     "metadata": {},
     "output_type": "execute_result"
    }
   ],
   "source": [
    "nums_arr = np.arange(67,99)\n",
    "(nums_arr)"
   ]
  },
  {
   "cell_type": "code",
   "execution_count": null,
   "id": "61775fa8-39c4-43c4-8746-211474ee704f",
   "metadata": {},
   "outputs": [],
   "source": []
  },
  {
   "cell_type": "code",
   "execution_count": 3,
   "id": "fc814566-f2a3-4d31-9682-d3d86c93edde",
   "metadata": {},
   "outputs": [
    {
     "name": "stdout",
     "output_type": "stream",
     "text": [
      "[ 5  7  9 11]\n"
     ]
    }
   ],
   "source": [
    "#You can also specify the step as a third parameter in the arrange() function. A step\n",
    "#defines the distance between two consecutive points in the array. The following\n",
    "#script creates a NumPy array from 5 to 11 with a step size of 2.\n",
    "#Script:\n",
    "import numpy as np\n",
    "nums_arr = np.arange(5,12,2)\n",
    "print(nums_arr)"
   ]
  },
  {
   "cell_type": "code",
   "execution_count": null,
   "id": "b9e42ee7-9735-40ce-bf5b-c12219adfa0c",
   "metadata": {},
   "outputs": [],
   "source": []
  },
  {
   "cell_type": "code",
   "execution_count": 4,
   "id": "124f694a-0a63-4a19-a122-300fb1128c16",
   "metadata": {},
   "outputs": [
    {
     "name": "stdout",
     "output_type": "stream",
     "text": [
      "[1. 1. 1. 1. 1. 1.]\n"
     ]
    }
   ],
   "source": [
    "#The ones() method can be used to create a NumPy array of all ones. Here is an\n",
    "#example.\n",
    "#Script:\n",
    "ones_array = np.ones(6)\n",
    "print(ones_array)"
   ]
  },
  {
   "cell_type": "code",
   "execution_count": 9,
   "id": "195957b2-25d7-4734-acf9-48d1fb5f9e09",
   "metadata": {},
   "outputs": [
    {
     "name": "stdout",
     "output_type": "stream",
     "text": [
      "[[0. 0. 0. 0. 0.]\n",
      " [0. 0. 0. 0. 0.]\n",
      " [0. 0. 0. 0. 0.]\n",
      " [0. 0. 0. 0. 0.]\n",
      " [0. 0. 0. 0. 0.]\n",
      " [0. 0. 0. 0. 0.]\n",
      " [0. 0. 0. 0. 0.]\n",
      " [0. 0. 0. 0. 0.]\n",
      " [0. 0. 0. 0. 0.]\n",
      " [0. 0. 0. 0. 0.]\n",
      " [0. 0. 0. 0. 0.]]\n"
     ]
    }
   ],
   "source": [
    "#ZERO ARRAYS\n",
    "\n",
    "zeros_array = np.zeros((11,5))\n",
    "print(zeros_array)"
   ]
  },
  {
   "cell_type": "code",
   "execution_count": null,
   "id": "aa82a99b-9e4e-442d-9dbd-49f3edff13e0",
   "metadata": {},
   "outputs": [],
   "source": []
  },
  {
   "cell_type": "code",
   "execution_count": 10,
   "id": "d0e376b1-f75f-4d50-bbb9-ea66bdadbbb1",
   "metadata": {},
   "outputs": [
    {
     "name": "stdout",
     "output_type": "stream",
     "text": [
      "[[0.65923569 0.5699168  0.45565577 0.02770558 0.59487193]\n",
      " [0.00726328 0.04779449 0.8987292  0.8393236  0.56508705]\n",
      " [0.88961336 0.38143241 0.40761788 0.10599191 0.58755924]\n",
      " [0.79164453 0.78275703 0.30269002 0.25200756 0.87680496]]\n"
     ]
    }
   ],
   "source": [
    "#Using Random Method\n",
    "#The random.rand() function from the NumPy module can be used to create a\n",
    "#NumPy array with uniform distribution.\n",
    "#Script 10:\n",
    "uniform_random = np.random.rand(4, 5)\n",
    "print (uniform_random)\n"
   ]
  },
  {
   "cell_type": "code",
   "execution_count": null,
   "id": "5fdc9de7-33c8-467f-85ef-a3d4733eedfb",
   "metadata": {},
   "outputs": [],
   "source": []
  },
  {
   "cell_type": "code",
   "execution_count": 12,
   "id": "70207607-0bff-42db-bbcd-dbf818cda101",
   "metadata": {},
   "outputs": [
    {
     "name": "stdout",
     "output_type": "stream",
     "text": [
      "[28 49 25 25 16]\n"
     ]
    }
   ],
   "source": [
    "##Finally, the random.randint() function from the NumPy module can be used to\n",
    "#create a NumPy array with random integers between a certain range. The first\n",
    "#parameter to the randint() function specifies the lower bound, the second\n",
    "#parameter specifies the upper bound, while the last parameter specifies the number\n",
    "#of random integers to generate between the range. The following example generates\n",
    "#five random integers between 5 and 50.\n",
    "#Script:\n",
    "integer_random = np.random.randint(10, 50, 5)\n",
    "print(integer_random)"
   ]
  },
  {
   "cell_type": "code",
   "execution_count": null,
   "id": "997c5145-38b8-46e1-a8c6-325b8a98211e",
   "metadata": {},
   "outputs": [],
   "source": []
  },
  {
   "cell_type": "code",
   "execution_count": 13,
   "id": "32c43041-6aa2-4fae-9f43-44ee0420d7ec",
   "metadata": {},
   "outputs": [
    {
     "name": "stdout",
     "output_type": "stream",
     "text": [
      "[[0.57047945 0.23336523 0.47776174 0.80836429 0.29938235 0.43146956\n",
      "  0.02520444 0.35133412]\n",
      " [0.57661898 0.53003667 0.61840827 0.73577947 0.6160359  0.50191941\n",
      "  0.77890126 0.87721262]\n",
      " [0.67806385 0.53869999 0.19894657 0.19262364 0.98578415 0.38844194\n",
      "  0.0668844  0.55800974]]\n"
     ]
    }
   ],
   "source": [
    "#Reshaping NumPy Arrays\n",
    "#A NumPy array can be reshaped using the reshape() function. It is important to\n",
    "#mention that the product of the rows and columns in the reshaped array must be\n",
    "#equal to the product of rows and columns in the original array. For instance, in the\n",
    "#following example, the original array contains four rows and six columns, i.e., 4 x 6\n",
    "#= 24. The reshaped array contains three rows and eight columns, i.e., 3 x 8 = 24.\n",
    "#Script 13:\n",
    "uniform_random = np.random.rand(4, 6)\n",
    "uniform_random = uniform_random.reshape(3, 8)\n",
    "print (uniform_random)\n"
   ]
  },
  {
   "cell_type": "code",
   "execution_count": null,
   "id": "53860511-2cf4-4227-b898-3e0df547a34d",
   "metadata": {},
   "outputs": [],
   "source": []
  },
  {
   "cell_type": "code",
   "execution_count": 14,
   "id": "acb1de08-cae5-4bba-94b3-27f79211d744",
   "metadata": {},
   "outputs": [
    {
     "name": "stdout",
     "output_type": "stream",
     "text": [
      "[ 1  2  3  4  5  6  7  8  9 10]\n"
     ]
    }
   ],
   "source": [
    "#. Array Indexing And Slicing\n",
    "#NumPy arrays can be indexed and sliced. Slicing an array means dividing an array\n",
    "#into multiple parts.\n",
    "#NumPy arrays are indexed just like normal lists. Indexes in NumPy arrays start\n",
    "#from 0, which means that the first item of a NumPy array is stored at the 0th index.\n",
    "#The following script creates a simple NumPy array of the first 10 positive integers.\n",
    "#Script:\n",
    "s = np.arange(1,11)\n",
    "print (s)"
   ]
  },
  {
   "cell_type": "code",
   "execution_count": null,
   "id": "4f24c97c-7c07-4839-a020-1933d365ce3c",
   "metadata": {},
   "outputs": [],
   "source": []
  },
  {
   "cell_type": "code",
   "execution_count": 16,
   "id": "f4b9110f-faac-4526-a513-f81f0a1fb95e",
   "metadata": {},
   "outputs": [
    {
     "name": "stdout",
     "output_type": "stream",
     "text": [
      "[2 3 4 5 6 7 8 9]\n"
     ]
    }
   ],
   "source": [
    "#To slice an array, you have to pass the lower index, followed by a colon and the\n",
    "#upper index. The items from the lower index (inclusive) to the upper index\n",
    "#(exclusive) will be filtered. The following script slices the array “s” from the 1\n",
    "#st\n",
    "#index to the 9th index. The elements from index 1 to 8 are printed in the output.\n",
    "#Script:\n",
    "print (s[1:9])"
   ]
  },
  {
   "cell_type": "code",
   "execution_count": null,
   "id": "1ac44b77-0e4f-415f-bab9-8eb836c834d3",
   "metadata": {},
   "outputs": [],
   "source": []
  },
  {
   "cell_type": "code",
   "execution_count": 17,
   "id": "b2039f16-3b82-469b-8ae9-77b0705410e5",
   "metadata": {},
   "outputs": [
    {
     "name": "stdout",
     "output_type": "stream",
     "text": [
      "[1 2 3 4 5]\n",
      "[ 6  7  8  9 10]\n"
     ]
    }
   ],
   "source": [
    "#if you specify only the upper bound, all the items from the first index to the upper\n",
    "#bound are returned. similarly, if you specify only the lower bound, all the items\n",
    "#from the lower bound to the last item of the array are returned.\n",
    "#Script:\n",
    "print (s[:5])\n",
    "print (s[5:])"
   ]
  },
  {
   "cell_type": "code",
   "execution_count": null,
   "id": "822eb396-3609-47d5-bdaf-0b362373c3fe",
   "metadata": {},
   "outputs": [],
   "source": []
  },
  {
   "cell_type": "code",
   "execution_count": 18,
   "id": "dd6ff12c-29d8-4cce-91bb-3f861dfd5764",
   "metadata": {},
   "outputs": [
    {
     "name": "stdout",
     "output_type": "stream",
     "text": [
      "[[10 12 13]\n",
      " [45 32 16]]\n"
     ]
    }
   ],
   "source": [
    "#Array slicing can also be applied on a 2-dimensional array. To do so, you have to\n",
    "#apply slicing on arrays and columns separately. A comma separates the rows and\n",
    "#columns slicing. In the following script, the rows from the first and second index\n",
    "#are returned, While all the columns returned. You can see the first two complete\n",
    "#rows in the output.\n",
    "#Script:\n",
    "row1 = [10,12,13]\n",
    "row2 = [45,32,16]\n",
    "row3 = [45,32,16]\n",
    "\n",
    "nums_2d = np.array([row1, row2, row3])\n",
    "print (nums_2d[:2,:])"
   ]
  },
  {
   "cell_type": "code",
   "execution_count": 19,
   "id": "cd01bb8c-08fd-40f1-a7dd-50e444e8930d",
   "metadata": {},
   "outputs": [],
   "source": [
    "#"
   ]
  },
  {
   "cell_type": "code",
   "execution_count": 20,
   "id": "dd6c0d26-5593-4069-9b14-d0a4436f2a7b",
   "metadata": {},
   "outputs": [
    {
     "name": "stdout",
     "output_type": "stream",
     "text": [
      "[3.16227766 4.47213595 5.47722558 6.32455532 7.07106781]\n"
     ]
    }
   ],
   "source": [
    "#NumPy for Arithmetic Operations\n",
    "#NumPy arrays provide a variety of functions to perform arithmetic operations.\n",
    "#Some of these functions are explained in this section.\n",
    "#3.5.1. Finding Square Roots\n",
    "#The sqrt() function is used to find the square roots of all the elements in a list as\n",
    "#shown below:\n",
    "#Script:\n",
    "nums = [10,20,30,40,50]\n",
    "np_sqr = np.sqrt(nums)\n",
    "print (np_sqr)\n"
   ]
  },
  {
   "cell_type": "code",
   "execution_count": null,
   "id": "ca12db24-0923-4607-b77f-95e184fd02c6",
   "metadata": {},
   "outputs": [],
   "source": []
  },
  {
   "cell_type": "code",
   "execution_count": 21,
   "id": "1bce858d-08ab-4ae0-8c98-f3ab55f30614",
   "metadata": {},
   "outputs": [
    {
     "name": "stdout",
     "output_type": "stream",
     "text": [
      "[2.30258509 2.99573227 3.40119738 3.68887945 3.91202301]\n"
     ]
    }
   ],
   "source": [
    "#Finding Logs\n",
    "#The log() function is used to find the logs of all the elements in a list as shown\n",
    "#below:\n",
    "#Script:\n",
    "nums = [10,20,30,40,50]\n",
    "np_log = np.log(nums)\n",
    "print (np_log)\n"
   ]
  },
  {
   "cell_type": "code",
   "execution_count": null,
   "id": "b17ff2af-a371-4613-a80d-a7d3f756735b",
   "metadata": {},
   "outputs": [],
   "source": []
  },
  {
   "cell_type": "code",
   "execution_count": 22,
   "id": "213d301a-fb94-4fab-bc0d-e55dd453e7b7",
   "metadata": {},
   "outputs": [
    {
     "name": "stdout",
     "output_type": "stream",
     "text": [
      "[2.20264658e+04 4.85165195e+08 1.06864746e+13 2.35385267e+17\n",
      " 5.18470553e+21]\n"
     ]
    }
   ],
   "source": [
    "#Finding Exponents\n",
    "#The exp() function takes the exponents of all the elements in a list as shown below:\n",
    "#Script:\n",
    "nums = [10,20,30,40,50]\n",
    "np_exp = np.exp(nums)\n",
    "print (np_exp)\n"
   ]
  },
  {
   "cell_type": "code",
   "execution_count": null,
   "id": "b309bab7-9f13-4dcc-be17-ceb5198d433f",
   "metadata": {},
   "outputs": [],
   "source": []
  },
  {
   "cell_type": "code",
   "execution_count": 23,
   "id": "783796eb-6206-42d4-82be-4d0c537c2571",
   "metadata": {},
   "outputs": [
    {
     "name": "stdout",
     "output_type": "stream",
     "text": [
      "[-0.54402111  0.91294525 -0.98803162  0.74511316 -0.26237485]\n",
      "[-0.83907153  0.40808206  0.15425145 -0.66693806  0.96496603]\n"
     ]
    }
   ],
   "source": [
    "#Finding Sine and Cosine\n",
    "#You can find the sines and cosines of items in a list using the sine and cosine\n",
    "#function, respectively, as shown in the following script.\n",
    "#Script:\n",
    "nums = [10,20,30,40,50]\n",
    "np_sine = np.sin(nums)\n",
    "print (np_sine)\n",
    "\n",
    "nums = [10,20,30,40,50]\n",
    "np_cos = np.cos(nums)\n",
    "print (np_cos)\n"
   ]
  },
  {
   "cell_type": "code",
   "execution_count": null,
   "id": "66c6ece3-06b0-4a2f-878a-bf99a7271ccf",
   "metadata": {},
   "outputs": [],
   "source": []
  },
  {
   "cell_type": "code",
   "execution_count": 24,
   "id": "dc924346-bbd8-41bb-8be7-ab15c41f1ac9",
   "metadata": {},
   "outputs": [
    {
     "name": "stdout",
     "output_type": "stream",
     "text": [
      "[[-2.9686099   3.63142885 -0.35982842 -1.26719139]\n",
      " [ 0.44238719  3.54819428 -1.37924415 -1.70369811]\n",
      " [-0.96229558 -1.2141887   0.48907513  0.9072023 ]\n",
      " [-2.43264112  1.04615356 -0.31222838  0.58242381]]\n"
     ]
    }
   ],
   "source": [
    "#NumPy for Linear Algebra Operations\n",
    "#Data science makes extensive use of linear algebra. The support for performing\n",
    "#advanced linear algebra functions in a fast and efficient way makes NumPy one of\n",
    "#the most routinely used libraries for data science. In this section, you will perform\n",
    "#some of the most linear algebraic operations with NumPy.\n",
    "#3.6.1. Finding Matrix Dot Product\n",
    "#To find a matrix dot product, you can use the dot() function. To find the dot\n",
    "#product, the number of columns in the first matrix must match the number of rows\n",
    "#in the second matrix. Here is an example.\n",
    "#Script:\n",
    "A = np.random.randn(4,5)\n",
    "\n",
    "B = np.random.randn(5,4)\n",
    "\n",
    "Z = np.dot(A,B)\n",
    "\n",
    "print (Z) "
   ]
  },
  {
   "cell_type": "code",
   "execution_count": null,
   "id": "97ad946c-d770-43df-9deb-5df9d15d34c3",
   "metadata": {},
   "outputs": [],
   "source": []
  },
  {
   "cell_type": "code",
   "execution_count": 25,
   "id": "dcab6ff7-5d66-406a-9f4a-639936b771bd",
   "metadata": {},
   "outputs": [
    {
     "name": "stdout",
     "output_type": "stream",
     "text": [
      "[[ 100  144  169]\n",
      " [2025 1024  256]\n",
      " [2025 1024  256]]\n"
     ]
    }
   ],
   "source": [
    "#Element-wise Matrix Multiplication\n",
    "#In addition to finding the dot product of two matrices, you can element-wise\n",
    "#multiply two matrices. To do so, you can use the multiply() function. The\n",
    "#dimensions of the two matrices must match.\n",
    "#Script:\n",
    "row1 = [10,12,13]\n",
    "row2 = [45,32,16]\n",
    "row3 = [45,32,16]\n",
    "\n",
    "nums_2d = np.array([row1, row2, row3])\n",
    "multiply = np.multiply(nums_2d, nums_2d)\n",
    "print (multiply)"
   ]
  },
  {
   "cell_type": "code",
   "execution_count": null,
   "id": "8ffc2682-76d8-44f7-862d-45a4336fd48c",
   "metadata": {},
   "outputs": [],
   "source": []
  }
 ],
 "metadata": {
  "kernelspec": {
   "display_name": "Python 3 (ipykernel)",
   "language": "python",
   "name": "python3"
  },
  "language_info": {
   "codemirror_mode": {
    "name": "ipython",
    "version": 3
   },
   "file_extension": ".py",
   "mimetype": "text/x-python",
   "name": "python",
   "nbconvert_exporter": "python",
   "pygments_lexer": "ipython3",
   "version": "3.9.13"
  }
 },
 "nbformat": 4,
 "nbformat_minor": 5
}
