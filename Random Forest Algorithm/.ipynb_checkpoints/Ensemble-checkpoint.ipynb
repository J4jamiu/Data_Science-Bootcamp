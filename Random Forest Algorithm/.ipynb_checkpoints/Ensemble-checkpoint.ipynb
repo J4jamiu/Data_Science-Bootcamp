{
 "cells": [
  {
   "cell_type": "markdown",
   "id": "24cf4355-bf35-424f-b558-4f9b0f896298",
   "metadata": {},
   "source": [
    "**ENSEMBLE LEARNING**"
   ]
  },
  {
   "cell_type": "markdown",
   "id": "001b33d0-e1e1-4a5f-bf20-6c08e8d7517e",
   "metadata": {},
   "source": [
    "It combine individual models together to improve the stability and predictve power of the model\n",
    "This technique permits higher predictive performance\n",
    "It combines multiple machine learning models into one predictive model\n"
   ]
  },
  {
   "cell_type": "markdown",
   "id": "ca22b4fa-a30d-4915-baca-be338d922ca0",
   "metadata": {},
   "source": [
    "It is divided into two groups: Sequential and parallel ensemble methods"
   ]
  },
  {
   "cell_type": "markdown",
   "id": "22c288a4-396a-4abb-9140-22284d591060",
   "metadata": {},
   "source": [
    "Sequential: Base learners are generated consecutively. Basic motivation is to use the dependence between the base learners\n",
    "The overall performance of the mpdel can be boosted\n"
   ]
  },
  {
   "cell_type": "markdown",
   "id": "db9992e7-9724-4d8c-af04-ef2bee2ece4f",
   "metadata": {},
   "source": [
    "*Parallel Ensemble model*: Applied whenever the base learners are generated in parallel\n",
    "Basiic motivaton is to use independence between the base learners"
   ]
  },
  {
   "cell_type": "markdown",
   "id": "91b20a11-259a-44a4-aaf1-fbf36f9b4741",
   "metadata": {},
   "source": [
    "SIGNIFICANCE OF ENSEMBLE LEARNING:It is the application of multiple models to obtain better performances than from a single model. \n",
    "It performance is determined by :\n",
    "1. Robustness(It incorporate the predictions from all the base learners)\n",
    "2. Accuracy\n"
   ]
  },
  {
   "cell_type": "markdown",
   "id": "505949a4-7427-4ec4-9739-40da50d67011",
   "metadata": {},
   "source": [
    "Averaging . P = (p1 + p2 + p3)/3\n",
    "\n",
    "Weighted Averaging: w3 + w2 + w1 =1\n",
    "\n",
    "Bagging: It is also called Bootsrap aggregation, it reduces variance of an estimate by taking mean of multiple estimates "
   ]
  },
  {
   "cell_type": "code",
   "execution_count": null,
   "id": "b1a886d6-8d87-4e1b-b2ca-1b33ae39f84c",
   "metadata": {},
   "outputs": [],
   "source": []
  },
  {
   "cell_type": "markdown",
   "id": "952c9133-f778-455f-aba0-7de46698e6e5",
   "metadata": {},
   "source": [
    "RAMDOM FORESTS: It combines various decision trees to produce a more generalized model\n",
    "used to produce de-correlated decision trees"
   ]
  },
  {
   "cell_type": "markdown",
   "id": "c8e91b29-2447-424c-bf30-c413428ddfd5",
   "metadata": {},
   "source": [
    "BOOSTING: Is a technque of changing the weak learners into strong learner....\n",
    "\n",
    "Steps of Boosting: \n",
    "    1. Train a classifier H1 that best classifies the data with respet to accuracy\n",
    "    2. Identify the regions where H1 produces errors, add weights to them , and produce a H2 classifier\n",
    "    3. Aggregate those samples for which H1 gives a different result from H2 and produce H3 classifier\n",
    "    \n",
    "    Repeat step 2 for a new classifier\n",
    "    "
   ]
  },
  {
   "cell_type": "code",
   "execution_count": null,
   "id": "96264e91-323f-40ad-9c9e-ae392c3d2738",
   "metadata": {},
   "outputs": [],
   "source": [
    "ADABOOST                           "
   ]
  }
 ],
 "metadata": {
  "kernelspec": {
   "display_name": "Python 3 (ipykernel)",
   "language": "python",
   "name": "python3"
  },
  "language_info": {
   "codemirror_mode": {
    "name": "ipython",
    "version": 3
   },
   "file_extension": ".py",
   "mimetype": "text/x-python",
   "name": "python",
   "nbconvert_exporter": "python",
   "pygments_lexer": "ipython3",
   "version": "3.9.13"
  }
 },
 "nbformat": 4,
 "nbformat_minor": 5
}
