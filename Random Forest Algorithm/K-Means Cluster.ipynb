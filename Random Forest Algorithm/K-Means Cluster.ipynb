{
 "cells": [
  {
   "cell_type": "markdown",
   "id": "0c7dde5d-df0e-4d2a-971c-4d2a6fd27cfb",
   "metadata": {},
   "source": [
    "K-MEANS CLUSTERS"
   ]
  },
  {
   "cell_type": "markdown",
   "id": "5c429484-816d-43e7-8424-e79aa08e671a",
   "metadata": {},
   "source": [
    "It is an unsupervised learning. The term K is a number, if it is 2 clusters k =2.\n",
    "Step 1:\n",
    "Two points are randomly assigned as CENTROID. these points can be anywhere.\n",
    "Step2: \n",
    "For every point the distance is measured from both centroids to select teh centroid that is closer to it.\n",
    "Step3:\n",
    "Center points of the points is determined by recalculation of each points i.e the real CENTROID IS DETERMINED.\n",
    "Step4:\n",
    "Each points are repositioned inline with the new centroids\n",
    "Step5: is repeated u until the centroid is same for more than once.\n",
    "    \n"
   ]
  },
  {
   "cell_type": "markdown",
   "id": "96e242b4-bf6b-4efe-8a93-a8269f1ca84a",
   "metadata": {},
   "source": [
    "Types of Clustering:\n",
    "    1. Hierarchical clustering (Agglomerative and Divisive)\n",
    "    2. Partitional Clustering (K-Means and Fuzzy C-Means, the diff betw k-means and fuzzy c-means is taht object can belog to more than one cluster under fuzzy c-means)\n",
    "    \n",
    "    \n",
    "    "
   ]
  },
  {
   "cell_type": "markdown",
   "id": "3a7322b1-e740-48d1-8b7d-804c157a1d7c",
   "metadata": {},
   "source": [
    "K-Means uses Disannce measures. such eUCLIDEAN---Distance between two points.\n",
    "SQuared Euclidean, Manhattan distance measure and Cosine distance DM.\n"
   ]
  },
  {
   "cell_type": "markdown",
   "id": "ec3e45df-8832-4065-8f50-cf0fa406aa1d",
   "metadata": {},
   "source": [
    "HOW K-MEANS CLUSTERING WORK\n",
    "\n",
    "Start---Elbow Point(k)--Measure the distance--Grouping based on minimum distance---Reposition the centroids"
   ]
  },
  {
   "cell_type": "code",
   "execution_count": 2,
   "id": "32d91ba1-e7df-430f-b0cc-4b898475602f",
   "metadata": {},
   "outputs": [],
   "source": [
    "#K-Means practical"
   ]
  },
  {
   "cell_type": "code",
   "execution_count": 13,
   "id": "917a274b-e0b6-46ff-a279-99806693fcfe",
   "metadata": {},
   "outputs": [],
   "source": [
    "%matplotlib inline\n",
    "import matplotlib.pyplot as plt\n",
    "import seaborn as sns; sns.set()\n",
    "import numpy as np\n",
    "import warnings\n",
    "warnings.filterwarnings('ignore')"
   ]
  },
  {
   "cell_type": "code",
   "execution_count": 23,
   "id": "db4db43c-11e0-4e0c-84ca-758c2d4f773e",
   "metadata": {},
   "outputs": [
    {
     "data": {
      "image/png": "[encoded data removed]",
      "text/plain": [
       "<Figure size 640x480 with 1 Axes>"
      ]
     },
     "metadata": {},
     "output_type": "display_data"
    }
   ],
   "source": [
    "### Old module name :from  sklearn.datasets.samples_generator import make_blobs\n",
    "from sklearn.datasets import make_blobs\n",
    "X, y_true = make_blobs(n_samples=300, centers=4, cluster_std=0.60, random_state=0)\n",
    "plt.scatter(X[:, 0], X[:,1], s=50);"
   ]
  },
  {
   "cell_type": "code",
   "execution_count": 24,
   "id": "1bc6b0aa-2713-4126-9ce2-3ff1ab636d5e",
   "metadata": {},
   "outputs": [],
   "source": [
    "from sklearn.cluster import KMeans\n",
    "kmeans = KMeans(n_clusters=4)\n",
    "kmeans.fit(X)\n",
    "y_kmeans = kmeans.predict(X)"
   ]
  },
  {
   "cell_type": "code",
   "execution_count": 25,
   "id": "4717cbe5-f775-4e09-b277-071265e69ed2",
   "metadata": {},
   "outputs": [
    {
     "data": {
      "text/plain": [
       "array([2, 1, 0, 1, 2, 2, 3, 0, 1, 1, 3, 1, 0, 1, 2, 0, 0, 2, 3, 3, 2, 2,\n",
       "       0, 3, 3, 0, 2, 0, 3, 0, 1, 1, 0, 1, 1, 1, 1, 1, 3, 2, 0, 3, 0, 0,\n",
       "       3, 3, 1, 3, 1, 2, 3, 2, 1, 2, 2, 3, 1, 3, 1, 2, 1, 0, 1, 3, 3, 3,\n",
       "       1, 2, 1, 3, 0, 3, 1, 3, 3, 1, 3, 0, 2, 1, 2, 0, 2, 2, 1, 0, 2, 0,\n",
       "       1, 1, 0, 2, 1, 3, 3, 0, 2, 2, 0, 3, 1, 2, 1, 2, 0, 2, 2, 0, 1, 0,\n",
       "       3, 3, 2, 1, 2, 0, 1, 2, 2, 0, 3, 2, 3, 2, 2, 2, 2, 3, 2, 3, 1, 3,\n",
       "       3, 2, 1, 3, 3, 1, 0, 1, 1, 3, 0, 3, 0, 3, 1, 0, 1, 1, 1, 0, 1, 0,\n",
       "       2, 3, 1, 3, 2, 0, 1, 0, 0, 2, 0, 3, 3, 0, 2, 0, 0, 1, 2, 0, 3, 1,\n",
       "       2, 2, 0, 3, 2, 0, 3, 3, 0, 0, 0, 0, 2, 1, 0, 3, 0, 0, 3, 3, 3, 0,\n",
       "       3, 1, 0, 3, 2, 3, 0, 1, 3, 1, 0, 1, 0, 3, 0, 0, 1, 3, 3, 2, 2, 0,\n",
       "       1, 2, 2, 3, 2, 3, 0, 1, 1, 0, 0, 1, 0, 2, 3, 0, 2, 3, 1, 3, 2, 0,\n",
       "       2, 1, 1, 1, 1, 3, 3, 1, 0, 3, 2, 0, 3, 3, 3, 2, 2, 1, 0, 0, 3, 2,\n",
       "       1, 3, 0, 1, 0, 2, 2, 3, 3, 0, 2, 2, 2, 0, 1, 1, 2, 2, 0, 2, 2, 2,\n",
       "       1, 3, 1, 0, 2, 2, 1, 1, 1, 2, 2, 0, 1, 3], dtype=int32)"
      ]
     },
     "execution_count": 25,
     "metadata": {},
     "output_type": "execute_result"
    }
   ],
   "source": [
    "y_kmeans"
   ]
  },
  {
   "cell_type": "code",
   "execution_count": 30,
   "id": "c63d2ad0-447a-444d-aa19-bfd728f488d1",
   "metadata": {},
   "outputs": [],
   "source": [
    "from sklearn.metrics import pairwise_distances_argmin\n",
    "\n",
    "def find_clusters(X, n_clusters, rseed=2):\n",
    "    #1. Randomly choose clusters\n",
    "    rng = np.random.RandomState(rseed)\n",
    "    i = rng.permutation(X.shape[0])[:n_clusters]\n",
    "    centers = X[i]\n",
    "    while True:\n",
    "        #2a. Assign labels based on closest center\n",
    "        labels = pairwise_distances_argmin(X, centers)\n",
    "        \n",
    "        #2b. Find new centers from means of points\n",
    "        new_centers = np.array([X[labels == i].mean(0)\n",
    "                               for i in range(n_clusters)])\n",
    "        #2c. Check for convergence\n",
    "        if np.all(centers == new_centers):\n",
    "            break\n",
    "        centers = new_centers\n",
    "        \n",
    "        return centers, labels\n",
    "    centers ,labels = find_clusters(X, 4)\n",
    "    plt.scatter(X[:,0], X[:, 1], c=y_kmeans, s=50, cmap='virdis')\n",
    "    \n",
    "    plt.scatter(centers[:,0], centers[:,1], c='black', s=200, alpha=0.5);\n",
    "    "
   ]
  },
  {
   "cell_type": "code",
   "execution_count": null,
   "id": "a14b03b1-2e3c-443e-bc2d-cb42ae4a78f3",
   "metadata": {},
   "outputs": [
    {
     "name": "stdout",
     "output_type": "stream",
     "text": [
      "Defaulting to user installation because normal site-packages is not writeable\n",
      "Looking in links: /usr/share/pip-wheels\n",
      "Collecting clustimage\n",
      "  Downloading clustimage-1.5.18-py3-none-any.whl (37 kB)\n",
      "Collecting datazets>=0.1.7 (from clustimage)\n",
      "  Downloading datazets-0.1.7-py3-none-any.whl (10 kB)\n",
      "Collecting scatterd>=1.1.2 (from clustimage)\n",
      "  Downloading scatterd-1.3.5-py3-none-any.whl (11 kB)\n",
      "Collecting ismember (from clustimage)\n",
      "  Downloading ismember-1.0.2-py3-none-any.whl (7.5 kB)\n",
      "Collecting pypickle (from clustimage)\n",
      "  Downloading pypickle-1.1.0-py3-none-any.whl (5.1 kB)\n",
      "Collecting pca (from clustimage)\n",
      "  Downloading pca-2.0.3-py3-none-any.whl (34 kB)\n",
      "Collecting distfit (from clustimage)\n",
      "  Downloading distfit-1.6.10-py3-none-any.whl (40 kB)\n",
      "\u001b[2K     \u001b[38;5;70m━━━━━━━━━━━━━━━━━━━━━━━━━━━━━━━━━━━━━━━━\u001b[0m \u001b[32m40.4/40.4 kB\u001b[0m \u001b[31m1.2 MB/s\u001b[0m eta \u001b[36m0:00:00\u001b[0m\n",
      "\u001b[?25hCollecting clusteval>=2.1.5 (from clustimage)\n",
      "  Downloading clusteval-2.2.1-py3-none-any.whl (42 kB)\n",
      "\u001b[2K     \u001b[38;5;70m━━━━━━━━━━━━━━━━━━━━━━━━━━━━━━━━━━━━━━━━\u001b[0m \u001b[32m42.4/42.4 kB\u001b[0m \u001b[31m1.1 MB/s\u001b[0m eta \u001b[36m0:00:00\u001b[0m\n",
      "\u001b[?25hCollecting colourmap (from clustimage)\n",
      "  Downloading colourmap-1.1.14-py3-none-any.whl (9.2 kB)\n",
      "Requirement already satisfied: numpy in /opt/conda/envs/anaconda-panel-2023.05-py310/lib/python3.11/site-packages (from clustimage) (1.24.3)\n",
      "Requirement already satisfied: pandas in /opt/conda/envs/anaconda-panel-2023.05-py310/lib/python3.11/site-packages (from clustimage) (1.5.3)\n",
      "Requirement already satisfied: tqdm in /opt/conda/envs/anaconda-panel-2023.05-py310/lib/python3.11/site-packages (from clustimage) (4.65.0)\n",
      "Requirement already satisfied: scikit-learn in /opt/conda/envs/anaconda-panel-2023.05-py310/lib/python3.11/site-packages (from clustimage) (1.2.2)\n",
      "Requirement already satisfied: scikit-image in /opt/conda/envs/anaconda-panel-2023.05-py310/lib/python3.11/site-packages (from clustimage) (0.20.0)\n",
      "Requirement already satisfied: matplotlib in /opt/conda/envs/anaconda-panel-2023.05-py310/lib/python3.11/site-packages (from clustimage) (3.7.1)\n",
      "Requirement already satisfied: scipy in /opt/conda/envs/anaconda-panel-2023.05-py310/lib/python3.11/site-packages (from clustimage) (1.10.1)\n",
      "Collecting opencv-python (from clustimage)\n",
      "  Downloading opencv_python-4.8.0.74-cp37-abi3-manylinux_2_17_x86_64.manylinux2014_x86_64.whl (61.7 MB)\n",
      "\u001b[2K     \u001b[38;5;70m━━━━━━━━━━━━━━━━━━━━━━━━━━━━━━━━━━━━━━━━\u001b[0m \u001b[32m61.7/61.7 MB\u001b[0m \u001b[31m4.8 MB/s\u001b[0m eta \u001b[36m0:00:00\u001b[0m \u001b[36m0:00:01\u001b[0m[36m0:00:01\u001b[0m\n",
      "\u001b[?25hCollecting imagehash (from clustimage)\n",
      "  Downloading ImageHash-4.3.1-py2.py3-none-any.whl (296 kB)\n",
      "\u001b[2K     \u001b[38;5;70m━━━━━━━━━━━━━━━━━━━━━━━━━━━━━━━━━━━━━━━\u001b[0m \u001b[32m296.5/296.5 kB\u001b[0m \u001b[31m7.2 MB/s\u001b[0m eta \u001b[36m0:00:00\u001b[0m5 MB/s\u001b[0m eta \u001b[36m0:00:01\u001b[0m\n",
      "\u001b[?25hRequirement already satisfied: seaborn in /opt/conda/envs/anaconda-panel-2023.05-py310/lib/python3.11/site-packages (from clusteval>=2.1.5->clustimage) (0.12.2)\n",
      "Requirement already satisfied: requests in /opt/conda/envs/anaconda-panel-2023.05-py310/lib/python3.11/site-packages (from datazets>=0.1.7->clustimage) (2.29.0)\n",
      "Requirement already satisfied: packaging in /opt/conda/envs/anaconda-panel-2023.05-py310/lib/python3.11/site-packages (from distfit->clustimage) (23.0)\n",
      "Requirement already satisfied: statsmodels in /opt/conda/envs/anaconda-panel-2023.05-py310/lib/python3.11/site-packages (from distfit->clustimage) (0.13.5)\n",
      "Requirement already satisfied: contourpy>=1.0.1 in /opt/conda/envs/anaconda-panel-2023.05-py310/lib/python3.11/site-packages (from matplotlib->clustimage) (1.0.5)\n",
      "Requirement already satisfied: cycler>=0.10 in /opt/conda/envs/anaconda-panel-2023.05-py310/lib/python3.11/site-packages (from matplotlib->clustimage) (0.11.0)\n",
      "Requirement already satisfied: fonttools>=4.22.0 in /opt/conda/envs/anaconda-panel-2023.05-py310/lib/python3.11/site-packages (from matplotlib->clustimage) (4.25.0)\n",
      "Requirement already satisfied: kiwisolver>=1.0.1 in /opt/conda/envs/anaconda-panel-2023.05-py310/lib/python3.11/site-packages (from matplotlib->clustimage) (1.4.4)\n",
      "Requirement already satisfied: pillow>=6.2.0 in /opt/conda/envs/anaconda-panel-2023.05-py310/lib/python3.11/site-packages (from matplotlib->clustimage) (9.4.0)\n",
      "Requirement already satisfied: pyparsing>=2.3.1 in /opt/conda/envs/anaconda-panel-2023.05-py310/lib/python3.11/site-packages (from matplotlib->clustimage) (3.0.9)\n",
      "Requirement already satisfied: python-dateutil>=2.7 in /opt/conda/envs/anaconda-panel-2023.05-py310/lib/python3.11/site-packages (from matplotlib->clustimage) (2.8.2)\n",
      "Requirement already satisfied: PyWavelets in /opt/conda/envs/anaconda-panel-2023.05-py310/lib/python3.11/site-packages (from imagehash->clustimage) (1.4.1)\n",
      "Requirement already satisfied: pytz>=2020.1 in /opt/conda/envs/anaconda-panel-2023.05-py310/lib/python3.11/site-packages (from pandas->clustimage) (2022.7)\n",
      "Collecting adjusttext (from pca->clustimage)\n",
      "  Downloading adjustText-0.8-py3-none-any.whl (9.1 kB)\n",
      "Requirement already satisfied: networkx>=2.8 in /opt/conda/envs/anaconda-panel-2023.05-py310/lib/python3.11/site-packages (from scikit-image->clustimage) (2.8.4)\n",
      "Requirement already satisfied: imageio>=2.4.1 in /opt/conda/envs/anaconda-panel-2023.05-py310/lib/python3.11/site-packages (from scikit-image->clustimage) (2.31.1)\n",
      "Requirement already satisfied: tifffile>=2019.7.26 in /opt/conda/envs/anaconda-panel-2023.05-py310/lib/python3.11/site-packages (from scikit-image->clustimage) (2021.7.2)\n",
      "Requirement already satisfied: lazy_loader>=0.1 in /opt/conda/envs/anaconda-panel-2023.05-py310/lib/python3.11/site-packages (from scikit-image->clustimage) (0.2)\n",
      "Requirement already satisfied: joblib>=1.1.1 in /opt/conda/envs/anaconda-panel-2023.05-py310/lib/python3.11/site-packages (from scikit-learn->clustimage) (1.2.0)\n",
      "Requirement already satisfied: threadpoolctl>=2.0.0 in /opt/conda/envs/anaconda-panel-2023.05-py310/lib/python3.11/site-packages (from scikit-learn->clustimage) (2.2.0)\n",
      "Requirement already satisfied: six>=1.5 in /opt/conda/envs/anaconda-panel-2023.05-py310/lib/python3.11/site-packages (from python-dateutil>=2.7->matplotlib->clustimage) (1.16.0)\n",
      "Requirement already satisfied: charset-normalizer<4,>=2 in /opt/conda/envs/anaconda-panel-2023.05-py310/lib/python3.11/site-packages (from requests->datazets>=0.1.7->clustimage) (2.0.4)\n",
      "Requirement already satisfied: idna<4,>=2.5 in /opt/conda/envs/anaconda-panel-2023.05-py310/lib/python3.11/site-packages (from requests->datazets>=0.1.7->clustimage) (3.4)\n",
      "Requirement already satisfied: urllib3<1.27,>=1.21.1 in /opt/conda/envs/anaconda-panel-2023.05-py310/lib/python3.11/site-packages (from requests->datazets>=0.1.7->clustimage) (1.26.16)\n",
      "Requirement already satisfied: certifi>=2017.4.17 in /opt/conda/envs/anaconda-panel-2023.05-py310/lib/python3.11/site-packages (from requests->datazets>=0.1.7->clustimage) (2023.5.7)\n",
      "Requirement already satisfied: patsy>=0.5.2 in /opt/conda/envs/anaconda-panel-2023.05-py310/lib/python3.11/site-packages (from statsmodels->distfit->clustimage) (0.5.3)\n",
      "Installing collected packages: pypickle, opencv-python, ismember, imagehash, datazets, colourmap, adjusttext, scatterd, distfit, pca, clusteval, clustimage\n",
      "Successfully installed adjusttext-0.8 clusteval-2.2.1 clustimage-1.5.18 colourmap-1.1.14 datazets-0.1.7 distfit-1.6.10 imagehash-4.3.1 ismember-1.0.2 opencv-python-4.8.0.74 pca-2.0.3 pypickle-1.1.0 scatterd-1.3.5\n",
      "Note: you may need to restart the kernel to use updated packages.\n"
     ]
    }
   ],
   "source": []
  },
  {
   "cell_type": "markdown",
   "id": "751cb264-2fa8-4dee-8166-6e608eef52aa",
   "metadata": {},
   "source": [
    "##USE K-MEANS FOR COLOR COMPRESSION"
   ]
  },
  {
   "cell_type": "code",
   "execution_count": 6,
   "id": "c3923c88-e8ba-488a-ac58-357a3ec176ec",
   "metadata": {},
   "outputs": [
    {
     "name": "stderr",
     "output_type": "stream",
     "text": [
      "[clustimage] >INFO> filepath is set to [/tmp/clustimage]\n",
      "[clustimage] >INFO> filepath is set to [/tmp/clustimage]\n",
      "[clustimage] >INFO> filepath is set to [/tmp/clustimage]\n",
      "[clustimage] >INFO> Import dataset [flowers]\n",
      "[clustimage] >INFO> Downloading [flower_images.zip] dataset from github source..\n",
      "[clustimage] >INFO> Extracting files..\n",
      "[clustimage] >INFO> [214] files are collected recursively from path: [/home/cf403cb0-d00e-44ec-badd-ebac30933e41/.local/lib/python3.11/site-packages/datazets/data/flower_images]\n"
     ]
    },
    {
     "ename": "AttributeError",
     "evalue": "'list' object has no attribute 'shape'",
     "output_type": "error",
     "traceback": [
      "\u001b[0;31m---------------------------------------------------------------------------\u001b[0m",
      "\u001b[0;31mAttributeError\u001b[0m                            Traceback (most recent call last)",
      "Cell \u001b[0;32mIn[6], line 8\u001b[0m\n\u001b[1;32m      6\u001b[0m data \u001b[38;5;241m=\u001b[39m cl\u001b[38;5;241m.\u001b[39mimport_example(data\u001b[38;5;241m=\u001b[39m\u001b[38;5;124m'\u001b[39m\u001b[38;5;124mflowers\u001b[39m\u001b[38;5;124m'\u001b[39m)\n\u001b[1;32m      7\u001b[0m rng \u001b[38;5;241m=\u001b[39m np\u001b[38;5;241m.\u001b[39mrandom\u001b[38;5;241m.\u001b[39mRandomState(\u001b[38;5;241m0\u001b[39m)\n\u001b[0;32m----> 8\u001b[0m i \u001b[38;5;241m=\u001b[39m rng\u001b[38;5;241m.\u001b[39mpermutation(data\u001b[38;5;241m.\u001b[39mshape[\u001b[38;5;241m0\u001b[39m])[ :N]\n\u001b[1;32m      9\u001b[0m colors \u001b[38;5;241m=\u001b[39m colors[i]\n\u001b[1;32m     10\u001b[0m R , G, B \u001b[38;5;241m=\u001b[39mdata[i]\u001b[38;5;241m.\u001b[39mT\n",
      "\u001b[0;31mAttributeError\u001b[0m: 'list' object has no attribute 'shape'"
     ]
    }
   ],
   "source": [
    "#Choose a random subset\n",
    "# Initialize\n",
    "cl = Clustimage()\n",
    "\n",
    "# Load example dataset\n",
    "data = cl.import_example(data='flowers')\n",
    "rng = np.random.RandomState(0)\n",
    "i = rng.permutation(data.shape[0])[ :N]\n",
    "colors = colors[i]\n",
    "R , G, B =data[i].T\n",
    "\n",
    "fig, ax = plt.subplots(1,2, figsize=(16, 6))\n",
    "ax[0].scatter(R, G, color=colors, marker='.')\n",
    "ax[0].set(xlabel='Red', ylabel='Blue', xlim=(0, 1), ylim=(0, 1))\n",
    "\n",
    "ax[1].scatter(R, B, color=colors, marker='.')\n",
    "ax[1].set(xlabel='Red', ylabel='Blue', xlim=(0, 1), ylim=(0, 1))\n",
    "fig.suptitle(title, size=20);"
   ]
  },
  {
   "cell_type": "code",
   "execution_count": null,
   "id": "1c412888-e178-4421-bf9d-fb3e3dfb7b9e",
   "metadata": {},
   "outputs": [],
   "source": []
  }
 ],
 "metadata": {
  "kernelspec": {
   "display_name": "anaconda-panel-2023.05-py310",
   "language": "python",
   "name": "conda-env-anaconda-panel-2023.05-py310-py"
  },
  "language_info": {
   "codemirror_mode": {
    "name": "ipython",
    "version": 3
   },
   "file_extension": ".py",
   "mimetype": "text/x-python",
   "name": "python",
   "nbconvert_exporter": "python",
   "pygments_lexer": "ipython3",
   "version": "3.11.4"
  }
 },
 "nbformat": 4,
 "nbformat_minor": 5
}
