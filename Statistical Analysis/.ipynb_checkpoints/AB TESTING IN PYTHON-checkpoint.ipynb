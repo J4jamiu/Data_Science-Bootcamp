{
 "cells": [
  {
   "cell_type": "code",
   "execution_count": 1,
   "id": "961a5140-12fa-48e7-8d19-093c3a3875ea",
   "metadata": {},
   "outputs": [],
   "source": [
    "###ONLINE EXPERIMENTATION AND AB TESTING\n"
   ]
  },
  {
   "cell_type": "code",
   "execution_count": 2,
   "id": "7c21e9b1-af99-4410-a580-9981596202f9",
   "metadata": {},
   "outputs": [],
   "source": [
    "#DATA SCIENCE DOJO: Data Science Dojo is an e-learning company that is redefining the data science education landscape with a simple to understand, digestible, and not to brag ---- engaging curriculum. We believe that data science is for everyone\n"
   ]
  },
  {
   "cell_type": "code",
   "execution_count": 3,
   "id": "df6a28b8-7fe8-42e3-832a-eb3e81b796e3",
   "metadata": {},
   "outputs": [],
   "source": [
    "#AB TESTING: Users are very complex in nature, rolling out changes without knowledge of responses from the users may be counter productive. it helps to experiment and fail fast. A/B testing is a controlled experiment in which you run two different product or website versions simultaneously and see which one performs better. For example, you might run your current sales page against a new version with a section that addresses objections.\n",
    "#A/B testing, also known as split testing, is a marketing experiment wherein you split your audience to test variations on a campaign and determine which performs better. In other words, you can show version A of a piece of marketing content to one half of your audience and version B to another"
   ]
  },
  {
   "cell_type": "code",
   "execution_count": 4,
   "id": "fcfcf0fd-0299-41ee-be9f-138007bb18e7",
   "metadata": {},
   "outputs": [],
   "source": [
    "#A/B VS MULTIVARIATE TESTINGS\n",
    "#A/B TESTING: Is used to compare two very difeerent designs with each others, ( ADVANTAGES) it simple in design, small sample size maybe okay.\n",
    "#limitation: Trying only alternative\n",
    "\n",
    "#MULTI-VARIATE: Multivariate analysis is defined as: The statistical study of data where multiple measurements are made on each experimental unit and where the relationships among multivariate measurements and their structure are importantSeveral minor vriations are up for debate:\n",
    "#Two colors of button with different headlines\n",
    "#Also called FULL FACTORIAL TESTING\n",
    "#ADVANTAGES: A lot of different combinations tried at once\n",
    "#LIMITATIONS: \n",
    "#Bigger sample size\n",
    "#Complex\n",
    "#Need better understanding of interactions\n",
    "#Control is a defualt experience"
   ]
  },
  {
   "cell_type": "code",
   "execution_count": null,
   "id": "1590698b-af86-4e01-b142-64ada545c2f0",
   "metadata": {},
   "outputs": [],
   "source": [
    "#METRICS USED FOR A/B TESTING\n",
    "#Search engines: Queries/UU, Session length, Session/UU, Page views, Bounce rate\n",
    "#Online Retailers: Conversion rate, revenue/UU,Avegare Cart Value etc\n",
    "#Other websites: Click Through rates, signup for newsletter\n"
   ]
  }
 ],
 "metadata": {
  "kernelspec": {
   "display_name": "Python 3 (ipykernel)",
   "language": "python",
   "name": "python3"
  },
  "language_info": {
   "codemirror_mode": {
    "name": "ipython",
    "version": 3
   },
   "file_extension": ".py",
   "mimetype": "text/x-python",
   "name": "python",
   "nbconvert_exporter": "python",
   "pygments_lexer": "ipython3",
   "version": "3.9.13"
  }
 },
 "nbformat": 4,
 "nbformat_minor": 5
}
