{
 "cells": [
  {
   "cell_type": "code",
   "execution_count": 1,
   "id": "08119e73-d4d7-437d-b49f-865e8e5f71ef",
   "metadata": {},
   "outputs": [],
   "source": [
    "#LISTS AND PYTHON DICTIONARY\n"
   ]
  },
  {
   "cell_type": "code",
   "execution_count": 1,
   "id": "4fa1fc8c-4468-4cbf-9cd1-b3f98e237b55",
   "metadata": {},
   "outputs": [],
   "source": [
    "#Dictionary is an unordered collection of data stored as a pair of key and value\n",
    "\n",
    "#Syntax: variable_name={key1:value1,key2:value2....}"
   ]
  },
  {
   "cell_type": "code",
   "execution_count": 6,
   "id": "3afde341-a8d7-426c-b088-e23016783da5",
   "metadata": {},
   "outputs": [
    {
     "name": "stdout",
     "output_type": "stream",
     "text": [
      "{}\n"
     ]
    }
   ],
   "source": [
    "#e.g\n",
    "d1={}\n",
    "print(d1)"
   ]
  },
  {
   "cell_type": "code",
   "execution_count": 7,
   "id": "70b023c7-d131-4592-bc3f-f3f830d35eee",
   "metadata": {},
   "outputs": [
    {
     "name": "stdout",
     "output_type": "stream",
     "text": [
      "{'name': {'first': 'Jamiu', 'last': 'Omotoso'}, 'age': '10', 'gender': 'male', 'married': 'Yes'}\n"
     ]
    }
   ],
   "source": [
    "data={'name':{'first':'Jamiu','last':'Omotoso'},'age':'10','gender':'male','married':'Yes'}\n",
    "print(data)"
   ]
  },
  {
   "cell_type": "code",
   "execution_count": 10,
   "id": "cd8f2b5b-8eed-4e0f-a6cf-20c8ca6beafd",
   "metadata": {},
   "outputs": [
    {
     "name": "stdout",
     "output_type": "stream",
     "text": [
      "{0: 'Welcome'}\n"
     ]
    }
   ],
   "source": [
    "#It can also be created as thus:\n",
    "d={}\n",
    "d[0]=('Welcome')\n",
    "print(d)"
   ]
  },
  {
   "cell_type": "code",
   "execution_count": 11,
   "id": "df0ebb8d-02fd-4bf9-a637-d0185be7bc0b",
   "metadata": {},
   "outputs": [
    {
     "name": "stdout",
     "output_type": "stream",
     "text": [
      "{0: 'Welcome', 1: ('Nice', 'to', 'be', 'here')}\n"
     ]
    }
   ],
   "source": [
    "d[1]='Nice', 'to', 'be', 'here'\n",
    "print(d)"
   ]
  },
  {
   "cell_type": "code",
   "execution_count": 13,
   "id": "3a2c5a27-91a8-4710-9be0-d852b1736c23",
   "metadata": {},
   "outputs": [
    {
     "name": "stdout",
     "output_type": "stream",
     "text": [
      "{0: 'Welcome', 1: ('Nice', 'to', 'be', 'here'), 2: {1: 'Thank', 2: 'you'}}\n"
     ]
    }
   ],
   "source": [
    "d[2]={1:'Thank', 2:'you'}\n",
    "print(d)"
   ]
  },
  {
   "cell_type": "code",
   "execution_count": 15,
   "id": "ada249b8-23f0-4e15-b255-aea8be891edc",
   "metadata": {},
   "outputs": [
    {
     "name": "stdout",
     "output_type": "stream",
     "text": [
      "Welcome\n"
     ]
    }
   ],
   "source": [
    "#You can retrieve or access the elements\n",
    "print(d.get(0))"
   ]
  },
  {
   "cell_type": "code",
   "execution_count": 16,
   "id": "85201a1d-b2b8-4006-bc9c-fc2b2e66219b",
   "metadata": {},
   "outputs": [
    {
     "name": "stdout",
     "output_type": "stream",
     "text": [
      "('Nice', 'to', 'be', 'here')\n"
     ]
    }
   ],
   "source": [
    "print(d.get(1))"
   ]
  },
  {
   "cell_type": "code",
   "execution_count": 17,
   "id": "6ad5b23a-d474-44c0-8dce-65371385c73f",
   "metadata": {},
   "outputs": [
    {
     "name": "stdout",
     "output_type": "stream",
     "text": [
      "{1: 'Thank', 2: 'you'}\n"
     ]
    }
   ],
   "source": [
    "print(d.get(2))"
   ]
  },
  {
   "cell_type": "code",
   "execution_count": 18,
   "id": "fe60cb6b-dbf2-4291-8566-84c54149266d",
   "metadata": {},
   "outputs": [
    {
     "name": "stdout",
     "output_type": "stream",
     "text": [
      "{}\n"
     ]
    }
   ],
   "source": [
    "d_0={}\n",
    "print(d_0)"
   ]
  },
  {
   "cell_type": "code",
   "execution_count": 43,
   "id": "bcb1c706-abe1-47b4-ae41-dd5339a363f7",
   "metadata": {},
   "outputs": [
    {
     "name": "stdout",
     "output_type": "stream",
     "text": [
      "{'kids': {'name1': 'Abdul', 'name2': 'Halima', 'name3': 'Aisha'}, 1: {'kids': {'name1': 'Abdul', 'name2': 'Halima', 'name3': 'Aisha'}}}\n"
     ]
    }
   ],
   "source": [
    "dat[1]={'kids':{'name1':'Abdul','name2':'Halima','name3':'Aisha'}}\n",
    "print(dat)"
   ]
  },
  {
   "cell_type": "code",
   "execution_count": 44,
   "id": "513d153c-7e42-46b6-a018-a8b6caa807e7",
   "metadata": {},
   "outputs": [
    {
     "name": "stdout",
     "output_type": "stream",
     "text": [
      "{'kids': {'name1': 'Abdul', 'name2': 'Halima', 'name3': 'Aisha'}}\n"
     ]
    }
   ],
   "source": [
    "print(dat.get(1))"
   ]
  },
  {
   "cell_type": "code",
   "execution_count": null,
   "id": "ff9ea764-ee99-4985-b3b0-74127f16fbef",
   "metadata": {},
   "outputs": [],
   "source": [
    "#TO DLETE DICTIONARY"
   ]
  },
  {
   "cell_type": "code",
   "execution_count": 51,
   "id": "fe7488de-77a5-4f39-9246-01392b803843",
   "metadata": {},
   "outputs": [
    {
     "data": {
      "text/plain": [
       "{'name1': 'Abdul', 'name2': 'Halima', 'name3': 'Aisha'}"
      ]
     },
     "execution_count": 51,
     "metadata": {},
     "output_type": "execute_result"
    }
   ],
   "source": [
    "dat.pop('kids')"
   ]
  },
  {
   "cell_type": "code",
   "execution_count": 52,
   "id": "8ddd8d29-e800-4722-87d6-5bcf6ca89de7",
   "metadata": {},
   "outputs": [
    {
     "data": {
      "text/plain": [
       "dict_values([{'kids': {'name1': 'Abdul', 'name2': 'Halima', 'name3': 'Aisha'}}])"
      ]
     },
     "execution_count": 52,
     "metadata": {},
     "output_type": "execute_result"
    }
   ],
   "source": [
    "dat.values()"
   ]
  },
  {
   "cell_type": "code",
   "execution_count": 54,
   "id": "2ad00f46-f3e1-4c21-826a-a67ab2e9d850",
   "metadata": {},
   "outputs": [
    {
     "data": {
      "text/plain": [
       "{'a': 1, 'c': 1, 'e': 1, 'b': 1, 'd': 1}"
      ]
     },
     "execution_count": 54,
     "metadata": {},
     "output_type": "execute_result"
    }
   ],
   "source": [
    "#Using built in function\n",
    "\n",
    "keys={'a','b','c','d','e'}\n",
    "value=1\n",
    "dict.fromkeys(keys,value)"
   ]
  },
  {
   "cell_type": "code",
   "execution_count": 56,
   "id": "cf551613-d924-413e-b28e-bbd64c75ba98",
   "metadata": {},
   "outputs": [],
   "source": [
    "#We can also use 'CLEAR' to delete\n",
    "dat.clear()"
   ]
  },
  {
   "cell_type": "code",
   "execution_count": 57,
   "id": "b908f05a-b52e-4b9d-a017-82a8d638cb53",
   "metadata": {},
   "outputs": [
    {
     "name": "stdout",
     "output_type": "stream",
     "text": [
      "{}\n"
     ]
    }
   ],
   "source": [
    "we can reprint to confirm deletion\n",
    "print(dat)"
   ]
  },
  {
   "cell_type": "code",
   "execution_count": 59,
   "id": "c099348c-0dec-4b06-a499-5400687de60f",
   "metadata": {},
   "outputs": [],
   "source": [
    "##SET IN PYTHON\n",
    "\n",
    "#it is an unordered collection of unque elements\n",
    "#Sets are muttable \n",
    "#syntax:variable_name=set(['a','b','c','d'])"
   ]
  },
  {
   "cell_type": "code",
   "execution_count": 60,
   "id": "de76b242-d930-4d24-8dd5-cbe28ed1167f",
   "metadata": {},
   "outputs": [
    {
     "name": "stdout",
     "output_type": "stream",
     "text": [
      "{1, 2, 3, 4}\n",
      "<class 'set'>\n"
     ]
    }
   ],
   "source": [
    "#SETS\n",
    "s=set([1,2,3,4])\n",
    "print(s)\n",
    "print(type(s))"
   ]
  },
  {
   "cell_type": "code",
   "execution_count": 71,
   "id": "4ce3a27c-0e32-4414-a9d2-8e2bee302572",
   "metadata": {},
   "outputs": [
    {
     "name": "stdout",
     "output_type": "stream",
     "text": [
      "{1, 2, 3, 4, 5, 'a', '5'}\n"
     ]
    }
   ],
   "source": [
    "#To add element to the set:\n",
    "s.add(5)\n",
    "print(s)"
   ]
  },
  {
   "cell_type": "code",
   "execution_count": null,
   "id": "74c6c9d3-76ca-49cd-ad8f-8c6b0ecaab6a",
   "metadata": {},
   "outputs": [],
   "source": [
    "#Frozen sets are immutable "
   ]
  },
  {
   "cell_type": "code",
   "execution_count": 72,
   "id": "7ff2bcb4-355b-44d9-bd10-1324eac591a4",
   "metadata": {},
   "outputs": [
    {
     "name": "stdout",
     "output_type": "stream",
     "text": [
      "frozenset({1, 2, 3, 4})\n"
     ]
    }
   ],
   "source": [
    "fs=frozenset([1,2,3,4])\n",
    "print(fs)"
   ]
  },
  {
   "cell_type": "code",
   "execution_count": null,
   "id": "4231baf8-45ef-4e85-95a6-2d690d7958c9",
   "metadata": {},
   "outputs": [
    {
     "ename": "AttributeError",
     "evalue": "'frozenset' object has no attribute 'add'",
     "output_type": "error",
     "traceback": [
      "\u001b[1;31m---------------------------------------------------------------------------\u001b[0m",
      "\u001b[1;31mAttributeError\u001b[0m                            Traceback (most recent call last)",
      "\u001b[1;32m~\\AppData\\Local\\Temp\\ipykernel_8840\\3319197028.py\u001b[0m in \u001b[0;36m<module>\u001b[1;34m\u001b[0m\n\u001b[1;32m----> 1\u001b[1;33m \u001b[0mfs\u001b[0m\u001b[1;33m.\u001b[0m\u001b[0madd\u001b[0m\u001b[1;33m(\u001b[0m\u001b[1;34m'a'\u001b[0m\u001b[1;33m)\u001b[0m\u001b[1;33m\u001b[0m\u001b[1;33m\u001b[0m\u001b[0m\n\u001b[0m",
      "\u001b[1;31mAttributeError\u001b[0m: 'frozenset' object has no attribute 'add'"
     ]
    }
   ],
   "source": [
    "#TO Prove that frozen sets are immutable\n",
    "fs.add('a')"
   ]
  },
  {
   "cell_type": "code",
   "execution_count": 79,
   "id": "7c17bf11-165b-46e9-a383-2af0717faa64",
   "metadata": {},
   "outputs": [
    {
     "data": {
      "text/plain": [
       "{1, 2, 3, 4, 5, 6, 7}"
      ]
     },
     "execution_count": 79,
     "metadata": {},
     "output_type": "execute_result"
    }
   ],
   "source": [
    "#UNION AND INTERSECTION IN SETS\n",
    "\n",
    "s3=set([1,4,5,7,6])\n",
    "s4=set([1,2,3,4])\n",
    "s3.union(s4)"
   ]
  },
  {
   "cell_type": "code",
   "execution_count": 83,
   "id": "1fffdab6-4fc9-465f-ba43-a7af262d5a13",
   "metadata": {},
   "outputs": [
    {
     "data": {
      "text/plain": [
       "{5, 6, 7}"
      ]
     },
     "execution_count": 83,
     "metadata": {},
     "output_type": "execute_result"
    }
   ],
   "source": [
    "s3.difference(s4)"
   ]
  },
  {
   "cell_type": "code",
   "execution_count": 84,
   "id": "ef0cf822-23b1-426e-93f6-5e96a4bf23f1",
   "metadata": {},
   "outputs": [],
   "source": [
    "#Operators with sets"
   ]
  },
  {
   "cell_type": "code",
   "execution_count": 85,
   "id": "1a8d5a07-a08d-46c6-8747-d0feb154b63f",
   "metadata": {},
   "outputs": [
    {
     "data": {
      "text/plain": [
       "False"
      ]
     },
     "execution_count": 85,
     "metadata": {},
     "output_type": "execute_result"
    }
   ],
   "source": [
    "s3==s4"
   ]
  },
  {
   "cell_type": "code",
   "execution_count": 86,
   "id": "92c4f2e3-d922-445a-9812-dec972ca9452",
   "metadata": {},
   "outputs": [
    {
     "data": {
      "text/plain": [
       "True"
      ]
     },
     "execution_count": 86,
     "metadata": {},
     "output_type": "execute_result"
    }
   ],
   "source": [
    "1 in s3"
   ]
  },
  {
   "cell_type": "code",
   "execution_count": 87,
   "id": "0f9fe575-46bd-4f61-ae00-da33dde28217",
   "metadata": {},
   "outputs": [
    {
     "data": {
      "text/plain": [
       "False"
      ]
     },
     "execution_count": 87,
     "metadata": {},
     "output_type": "execute_result"
    }
   ],
   "source": [
    "1 not in s4"
   ]
  },
  {
   "cell_type": "code",
   "execution_count": 88,
   "id": "e2bb2ef2-35bf-4818-9c46-c821ed4380ed",
   "metadata": {},
   "outputs": [
    {
     "data": {
      "text/plain": [
       "{2, 3, 5, 6, 7}"
      ]
     },
     "execution_count": 88,
     "metadata": {},
     "output_type": "execute_result"
    }
   ],
   "source": [
    "s3^s4"
   ]
  },
  {
   "cell_type": "code",
   "execution_count": null,
   "id": "4cadda46-0fc1-40c5-8cf1-a0fc85bb82fa",
   "metadata": {},
   "outputs": [],
   "source": []
  },
  {
   "cell_type": "code",
   "execution_count": null,
   "id": "b54a8a60-01bb-40ee-92c3-09380c3a3370",
   "metadata": {},
   "outputs": [],
   "source": [
    "#MAPPINGS IN PYTHON:Collection of objec taht are store by key"
   ]
  }
 ],
 "metadata": {
  "kernelspec": {
   "display_name": "Python 3 (ipykernel)",
   "language": "python",
   "name": "python3"
  },
  "language_info": {
   "codemirror_mode": {
    "name": "ipython",
    "version": 3
   },
   "file_extension": ".py",
   "mimetype": "text/x-python",
   "name": "python",
   "nbconvert_exporter": "python",
   "pygments_lexer": "ipython3",
   "version": "3.9.13"
  }
 },
 "nbformat": 4,
 "nbformat_minor": 5
}
