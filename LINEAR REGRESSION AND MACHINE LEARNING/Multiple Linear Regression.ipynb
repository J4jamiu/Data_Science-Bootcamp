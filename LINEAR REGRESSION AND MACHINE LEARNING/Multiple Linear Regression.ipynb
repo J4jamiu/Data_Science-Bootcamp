{
 "cells": [
  {
   "cell_type": "code",
   "execution_count": 1,
   "id": "912d82eb-76c9-4866-abef-f14700744812",
   "metadata": {},
   "outputs": [],
   "source": [
    "#MULTIPLE LINEAR REGRESSION"
   ]
  },
  {
   "cell_type": "code",
   "execution_count": 2,
   "id": "f777b05a-548e-4cc6-aadd-713abef6a821",
   "metadata": {},
   "outputs": [],
   "source": [
    "import numpy as np\n",
    "import pandas as pd\n",
    "import matplotlib.pyplot as plt\n",
    "import seaborn as sns\n",
    "sns.set()\n",
    "from sklearn.linear_model import LinearRegression"
   ]
  },
  {
   "cell_type": "code",
   "execution_count": 3,
   "id": "3ffdeb59-d79d-4600-97f1-05b8f3dffb31",
   "metadata": {},
   "outputs": [],
   "source": [
    "data = pd.read_csv('1.02. Multiple linear regression.csv')"
   ]
  },
  {
   "cell_type": "code",
   "execution_count": 4,
   "id": "ee6ab7d4-cefb-4176-84c5-f72b50a0f270",
   "metadata": {},
   "outputs": [
    {
     "data": {
      "text/html": [
       "<div>\n",
       "<style scoped>\n",
       "    .dataframe tbody tr th:only-of-type {\n",
       "        vertical-align: middle;\n",
       "    }\n",
       "\n",
       "    .dataframe tbody tr th {\n",
       "        vertical-align: top;\n",
       "    }\n",
       "\n",
       "    .dataframe thead th {\n",
       "        text-align: right;\n",
       "    }\n",
       "</style>\n",
       "<table border=\"1\" class=\"dataframe\">\n",
       "  <thead>\n",
       "    <tr style=\"text-align: right;\">\n",
       "      <th></th>\n",
       "      <th>SAT</th>\n",
       "      <th>Rand 1,2,3</th>\n",
       "      <th>GPA</th>\n",
       "    </tr>\n",
       "  </thead>\n",
       "  <tbody>\n",
       "    <tr>\n",
       "      <th>0</th>\n",
       "      <td>1714</td>\n",
       "      <td>1</td>\n",
       "      <td>2.40</td>\n",
       "    </tr>\n",
       "    <tr>\n",
       "      <th>1</th>\n",
       "      <td>1664</td>\n",
       "      <td>3</td>\n",
       "      <td>2.52</td>\n",
       "    </tr>\n",
       "    <tr>\n",
       "      <th>2</th>\n",
       "      <td>1760</td>\n",
       "      <td>3</td>\n",
       "      <td>2.54</td>\n",
       "    </tr>\n",
       "    <tr>\n",
       "      <th>3</th>\n",
       "      <td>1685</td>\n",
       "      <td>3</td>\n",
       "      <td>2.74</td>\n",
       "    </tr>\n",
       "    <tr>\n",
       "      <th>4</th>\n",
       "      <td>1693</td>\n",
       "      <td>2</td>\n",
       "      <td>2.83</td>\n",
       "    </tr>\n",
       "  </tbody>\n",
       "</table>\n",
       "</div>"
      ],
      "text/plain": [
       "    SAT  Rand 1,2,3   GPA\n",
       "0  1714           1  2.40\n",
       "1  1664           3  2.52\n",
       "2  1760           3  2.54\n",
       "3  1685           3  2.74\n",
       "4  1693           2  2.83"
      ]
     },
     "execution_count": 4,
     "metadata": {},
     "output_type": "execute_result"
    }
   ],
   "source": [
    "data.head()"
   ]
  },
  {
   "cell_type": "code",
   "execution_count": 5,
   "id": "51aa5192-8897-4ff7-b538-16db767469cd",
   "metadata": {},
   "outputs": [
    {
     "data": {
      "text/html": [
       "<div>\n",
       "<style scoped>\n",
       "    .dataframe tbody tr th:only-of-type {\n",
       "        vertical-align: middle;\n",
       "    }\n",
       "\n",
       "    .dataframe tbody tr th {\n",
       "        vertical-align: top;\n",
       "    }\n",
       "\n",
       "    .dataframe thead th {\n",
       "        text-align: right;\n",
       "    }\n",
       "</style>\n",
       "<table border=\"1\" class=\"dataframe\">\n",
       "  <thead>\n",
       "    <tr style=\"text-align: right;\">\n",
       "      <th></th>\n",
       "      <th>SAT</th>\n",
       "      <th>Rand 1,2,3</th>\n",
       "      <th>GPA</th>\n",
       "    </tr>\n",
       "  </thead>\n",
       "  <tbody>\n",
       "    <tr>\n",
       "      <th>count</th>\n",
       "      <td>84.000000</td>\n",
       "      <td>84.000000</td>\n",
       "      <td>84.000000</td>\n",
       "    </tr>\n",
       "    <tr>\n",
       "      <th>mean</th>\n",
       "      <td>1845.273810</td>\n",
       "      <td>2.059524</td>\n",
       "      <td>3.330238</td>\n",
       "    </tr>\n",
       "    <tr>\n",
       "      <th>std</th>\n",
       "      <td>104.530661</td>\n",
       "      <td>0.855192</td>\n",
       "      <td>0.271617</td>\n",
       "    </tr>\n",
       "    <tr>\n",
       "      <th>min</th>\n",
       "      <td>1634.000000</td>\n",
       "      <td>1.000000</td>\n",
       "      <td>2.400000</td>\n",
       "    </tr>\n",
       "    <tr>\n",
       "      <th>25%</th>\n",
       "      <td>1772.000000</td>\n",
       "      <td>1.000000</td>\n",
       "      <td>3.190000</td>\n",
       "    </tr>\n",
       "    <tr>\n",
       "      <th>50%</th>\n",
       "      <td>1846.000000</td>\n",
       "      <td>2.000000</td>\n",
       "      <td>3.380000</td>\n",
       "    </tr>\n",
       "    <tr>\n",
       "      <th>75%</th>\n",
       "      <td>1934.000000</td>\n",
       "      <td>3.000000</td>\n",
       "      <td>3.502500</td>\n",
       "    </tr>\n",
       "    <tr>\n",
       "      <th>max</th>\n",
       "      <td>2050.000000</td>\n",
       "      <td>3.000000</td>\n",
       "      <td>3.810000</td>\n",
       "    </tr>\n",
       "  </tbody>\n",
       "</table>\n",
       "</div>"
      ],
      "text/plain": [
       "               SAT  Rand 1,2,3        GPA\n",
       "count    84.000000   84.000000  84.000000\n",
       "mean   1845.273810    2.059524   3.330238\n",
       "std     104.530661    0.855192   0.271617\n",
       "min    1634.000000    1.000000   2.400000\n",
       "25%    1772.000000    1.000000   3.190000\n",
       "50%    1846.000000    2.000000   3.380000\n",
       "75%    1934.000000    3.000000   3.502500\n",
       "max    2050.000000    3.000000   3.810000"
      ]
     },
     "execution_count": 5,
     "metadata": {},
     "output_type": "execute_result"
    }
   ],
   "source": [
    "data.describe()"
   ]
  },
  {
   "cell_type": "code",
   "execution_count": 6,
   "id": "af9eb751-03d1-4207-ae26-a2ed5a55383c",
   "metadata": {},
   "outputs": [],
   "source": [
    "#DECLARE THE VARIABLES (Dependent and Indep)"
   ]
  },
  {
   "cell_type": "code",
   "execution_count": 7,
   "id": "433a147e-2f54-43c6-a22a-137e59b8e379",
   "metadata": {},
   "outputs": [],
   "source": [
    "from array import array"
   ]
  },
  {
   "cell_type": "code",
   "execution_count": 8,
   "id": "694fa78e-90b7-480e-829a-c8de37aab947",
   "metadata": {},
   "outputs": [],
   "source": [
    "y = data[['SAT', 'Rand 1,2,3']].values.reshape(-1,2)\n",
    "x = data['GPA'].values.reshape(-1,1)"
   ]
  },
  {
   "cell_type": "code",
   "execution_count": 9,
   "id": "8d38638a-5ba6-4500-b812-ca33d1ddbb38",
   "metadata": {},
   "outputs": [
    {
     "data": {
      "text/plain": [
       "(84, 2)"
      ]
     },
     "execution_count": 9,
     "metadata": {},
     "output_type": "execute_result"
    }
   ],
   "source": [
    "y.shape"
   ]
  },
  {
   "cell_type": "code",
   "execution_count": 10,
   "id": "02b8192f-c02d-4bed-9921-c3efdc1d54ee",
   "metadata": {},
   "outputs": [],
   "source": [
    "#REGRESSION ITSELF"
   ]
  },
  {
   "cell_type": "code",
   "execution_count": 11,
   "id": "da74dd18-9082-4dcb-961e-b299a3d14c72",
   "metadata": {},
   "outputs": [
    {
     "data": {
      "text/plain": [
       "LinearRegression()"
      ]
     },
     "execution_count": 11,
     "metadata": {},
     "output_type": "execute_result"
    }
   ],
   "source": [
    "reg = LinearRegression()\n",
    "reg.fit(x,y)"
   ]
  },
  {
   "cell_type": "code",
   "execution_count": 12,
   "id": "87bc1afd-22fc-47a2-8995-d5719c2b9813",
   "metadata": {},
   "outputs": [
    {
     "data": {
      "text/plain": [
       "array([[ 2.45217639e+02],\n",
       "       [-1.45538617e-01]])"
      ]
     },
     "execution_count": 12,
     "metadata": {},
     "output_type": "execute_result"
    }
   ],
   "source": [
    "reg.coef_"
   ]
  },
  {
   "cell_type": "code",
   "execution_count": 13,
   "id": "7ae21c4a-7c64-4e8a-b7ba-6f093fc709a8",
   "metadata": {},
   "outputs": [
    {
     "data": {
      "text/plain": [
       "array([1028.64068603,    2.54420206])"
      ]
     },
     "execution_count": 13,
     "metadata": {},
     "output_type": "execute_result"
    }
   ],
   "source": [
    "reg.intercept_"
   ]
  },
  {
   "cell_type": "raw",
   "id": "a97481d5-e1ba-4bd3-b414-c6aea18c12e1",
   "metadata": {},
   "source": [
    "Calculating the R-squared"
   ]
  },
  {
   "cell_type": "code",
   "execution_count": 14,
   "id": "1e5638eb-8f95-4ec0-98ba-f5dcc49981d7",
   "metadata": {},
   "outputs": [
    {
     "data": {
      "text/plain": [
       "0.2040703061816671"
      ]
     },
     "execution_count": 14,
     "metadata": {},
     "output_type": "execute_result"
    }
   ],
   "source": [
    "reg.score(x,y)\n",
    "#Reg Score returns the R-Squared of a linear regression."
   ]
  },
  {
   "cell_type": "markdown",
   "id": "b747de6d-d6fe-4eb2-8c08-5f08a2bb438c",
   "metadata": {},
   "source": [
    "#ADJUSTED R SQUARE FORMULAR R*2\n",
    "\n",
    "$𝑅^2_{𝑎𝑑𝑗.}=1−(1−𝑅^2)∗\\frac{𝑛−1}{𝑛−𝑝−1}$\n",
    "\n"
   ]
  },
  {
   "cell_type": "code",
   "execution_count": 15,
   "id": "a2309a5e-4855-473a-ad74-eea05453a552",
   "metadata": {},
   "outputs": [
    {
     "data": {
      "text/plain": [
       "0.19436384650095584"
      ]
     },
     "execution_count": 15,
     "metadata": {},
     "output_type": "execute_result"
    }
   ],
   "source": [
    "r2 = reg.score(x,y)\n",
    "n = x.shape[0]\n",
    "p = x.shape[1]\n",
    "\n",
    "adjusted_r2 = 1-(1-r2)*(n-1)/(n-p-1)\n",
    "adjusted_r2"
   ]
  },
  {
   "cell_type": "code",
   "execution_count": null,
   "id": "c32bec73-349e-4b3b-9590-a8590b3735c5",
   "metadata": {},
   "outputs": [],
   "source": []
  },
  {
   "cell_type": "markdown",
   "id": "227948d2-14fb-475f-b2c0-68f846512862",
   "metadata": {},
   "source": [
    "FEATURE SELECTION MODULE FROM SKLEARN: AKA F_Regression, it creates simple linear regressions of each feature and the dependent variable. it help to gain improve speed and also help in removing teh variable that is not relevant.Recall if a variabe  has a value above 0.05% we can discard it. it calculate for each of the variables ...\n",
    "it wll calclate GPA for SAT\n",
    "and calculate GPA for Rand 1,2,3 in the above example\n"
   ]
  },
  {
   "cell_type": "code",
   "execution_count": null,
   "id": "c8455dfe-3e28-413c-8b28-6adb9877b54d",
   "metadata": {},
   "outputs": [],
   "source": []
  },
  {
   "cell_type": "markdown",
   "id": "dadbb6f7-49ea-4cfc-b51a-10075b99c473",
   "metadata": {},
   "source": [
    "STANDADIZATION OR FEATURE SCALING: it is the process of transformimg the data into a standard scale. X-mean/SD. It make it easier to relate with the data. It allows us to force the data to appear the same"
   ]
  },
  {
   "cell_type": "markdown",
   "id": "3fbff5e1-f748-4dd2-bbe7-0260c0354f0e",
   "metadata": {},
   "source": [
    "#Example\n",
    "Data: Day 1 Exchange rate = 1.3, Daily Trading Volume = 110,000\n",
    "Day 2 Exchange rate = 1.34 and Daily trading volume = 98,000\n",
    "Day 3 Exchange rate = 1.25 and Daily trading volume = 135,000\n",
    "\n"
   ]
  },
  {
   "cell_type": "markdown",
   "id": "8e927ab3-a46f-4890-a60e-178e2ea734fa",
   "metadata": {},
   "source": [
    "To standardize : Mean = 1.3. sd = 0.045\n",
    "Exchange rates = are transformed to 0.07, 0.96 and -1.03....Daily trade volumes  -0.25, -0.85 and 1.1 respectively\n",
    "Standardized."
   ]
  },
  {
   "cell_type": "code",
   "execution_count": 16,
   "id": "e39991ea-264b-4c7e-8d5d-98ec39aa4297",
   "metadata": {},
   "outputs": [],
   "source": [
    "from sklearn.preprocessing import StandardScaler"
   ]
  },
  {
   "cell_type": "code",
   "execution_count": 17,
   "id": "eee243ee-1cb4-44b9-a47b-a044acbe2349",
   "metadata": {},
   "outputs": [],
   "source": [
    "scaler = StandardScaler()"
   ]
  },
  {
   "cell_type": "code",
   "execution_count": 18,
   "id": "29f32155-9838-437d-993d-529bcd18679f",
   "metadata": {},
   "outputs": [
    {
     "data": {
      "text/plain": [
       "StandardScaler()"
      ]
     },
     "execution_count": 18,
     "metadata": {},
     "output_type": "execute_result"
    }
   ],
   "source": [
    "scaler.fit(x)"
   ]
  },
  {
   "cell_type": "code",
   "execution_count": 19,
   "id": "e8f7a7b3-0348-4a55-9a90-f9d6bea575a3",
   "metadata": {},
   "outputs": [],
   "source": [
    "#We have to Transform the data"
   ]
  },
  {
   "cell_type": "code",
   "execution_count": 20,
   "id": "cdad1d75-3b4b-447e-9902-1e1d8c389d57",
   "metadata": {},
   "outputs": [],
   "source": [
    "x_scaled = scaler.transform(x)"
   ]
  },
  {
   "cell_type": "code",
   "execution_count": 21,
   "id": "b396c49c-105a-4b6e-86ed-ee5d21736978",
   "metadata": {},
   "outputs": [
    {
     "data": {
      "text/plain": [
       "array([[-3.44538388],\n",
       "       [-3.00093201],\n",
       "       [-2.92685669],\n",
       "       [-2.18610357],\n",
       "       [-1.85276466],\n",
       "       [-1.55646341],\n",
       "       [-1.22312451],\n",
       "       [-1.22312451],\n",
       "       [-1.18608685],\n",
       "       [-1.18608685],\n",
       "       [-1.14904919],\n",
       "       [-0.96386091],\n",
       "       [-0.92682326],\n",
       "       [-0.92682326],\n",
       "       [-0.77867263],\n",
       "       [-0.59348435],\n",
       "       [-0.59348435],\n",
       "       [-0.59348435],\n",
       "       [-0.59348435],\n",
       "       [-0.51940904],\n",
       "       [-0.51940904],\n",
       "       [-0.51940904],\n",
       "       [-0.48237138],\n",
       "       [-0.44533372],\n",
       "       [-0.33422076],\n",
       "       [-0.18607013],\n",
       "       [-0.18607013],\n",
       "       [-0.18607013],\n",
       "       [-0.18607013],\n",
       "       [-0.18607013],\n",
       "       [-0.18607013],\n",
       "       [-0.18607013],\n",
       "       [-0.14903247],\n",
       "       [-0.14903247],\n",
       "       [-0.14903247],\n",
       "       [-0.07495716],\n",
       "       [-0.03791951],\n",
       "       [ 0.03615581],\n",
       "       [ 0.14726878],\n",
       "       [ 0.14726878],\n",
       "       [ 0.14726878],\n",
       "       [ 0.18430643],\n",
       "       [ 0.18430643],\n",
       "       [ 0.22134409],\n",
       "       [ 0.22134409],\n",
       "       [ 0.25838174],\n",
       "       [ 0.25838174],\n",
       "       [ 0.25838174],\n",
       "       [ 0.2954194 ],\n",
       "       [ 0.2954194 ],\n",
       "       [ 0.2954194 ],\n",
       "       [ 0.33245706],\n",
       "       [ 0.33245706],\n",
       "       [ 0.33245706],\n",
       "       [ 0.40653237],\n",
       "       [ 0.51764534],\n",
       "       [ 0.51764534],\n",
       "       [ 0.51764534],\n",
       "       [ 0.51764534],\n",
       "       [ 0.554683  ],\n",
       "       [ 0.59172065],\n",
       "       [ 0.59172065],\n",
       "       [ 0.62875831],\n",
       "       [ 0.66579596],\n",
       "       [ 0.66579596],\n",
       "       [ 0.70283362],\n",
       "       [ 0.70283362],\n",
       "       [ 0.77690893],\n",
       "       [ 0.92505956],\n",
       "       [ 0.92505956],\n",
       "       [ 0.96209721],\n",
       "       [ 0.96209721],\n",
       "       [ 0.99913487],\n",
       "       [ 0.99913487],\n",
       "       [ 1.03617253],\n",
       "       [ 1.07321018],\n",
       "       [ 1.1472855 ],\n",
       "       [ 1.18432315],\n",
       "       [ 1.40654909],\n",
       "       [ 1.40654909],\n",
       "       [ 1.40654909],\n",
       "       [ 1.4806244 ],\n",
       "       [ 1.59173737],\n",
       "       [ 1.77692565]])"
      ]
     },
     "execution_count": 21,
     "metadata": {},
     "output_type": "execute_result"
    }
   ],
   "source": [
    "x_scaled"
   ]
  },
  {
   "cell_type": "code",
   "execution_count": null,
   "id": "6e7a17ac-a068-40f4-9450-5f9b232a48e3",
   "metadata": {},
   "outputs": [],
   "source": []
  },
  {
   "cell_type": "code",
   "execution_count": null,
   "id": "879e8d7d-1cec-434c-a941-acff8bd18bd3",
   "metadata": {},
   "outputs": [],
   "source": []
  }
 ],
 "metadata": {
  "kernelspec": {
   "display_name": "Python 3 (ipykernel)",
   "language": "python",
   "name": "python3"
  },
  "language_info": {
   "codemirror_mode": {
    "name": "ipython",
    "version": 3
   },
   "file_extension": ".py",
   "mimetype": "text/x-python",
   "name": "python",
   "nbconvert_exporter": "python",
   "pygments_lexer": "ipython3",
   "version": "3.10.9"
  }
 },
 "nbformat": 4,
 "nbformat_minor": 5
}
