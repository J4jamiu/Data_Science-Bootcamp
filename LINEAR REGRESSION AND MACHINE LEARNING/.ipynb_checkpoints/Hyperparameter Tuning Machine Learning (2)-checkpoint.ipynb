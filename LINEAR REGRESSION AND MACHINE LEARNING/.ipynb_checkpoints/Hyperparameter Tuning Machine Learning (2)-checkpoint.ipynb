{
 "cells": [
  {
   "cell_type": "markdown",
   "id": "dd705eff-3b5c-412c-b629-34c1ee42fdf7",
   "metadata": {},
   "source": [
    "HYPERPARAMETER TUNING MACHINE LEARNING"
   ]
  },
  {
   "cell_type": "markdown",
   "id": "63b8e0b2-dfee-48db-8187-b9be369f9d9f",
   "metadata": {},
   "source": [
    "This can be defined as tool used to choose the best parameters to get the HIGHEST acuracy score of a model for machine learning. it is divided into \n",
    "1. Grid search \n",
    "2. Random search (It performs better for large data though it may not give you the overall best but somewhere around the best)\n",
    "\n",
    "Read more  https://scikit-learn.org/stable/modules/generated/sklearn.model_selection.RandomizedSearchCV.html\n",
    "\n",
    "It can be used for Support Vector Classfication (SVC)"
   ]
  },
  {
   "cell_type": "code",
   "execution_count": 152,
   "id": "51a1790b-bb3b-4e7d-bd3f-8be9d8868bdd",
   "metadata": {},
   "outputs": [],
   "source": [
    "import pandas as pd\n",
    "from sklearn.svm import SVC\n",
    "from sklearn.model_selection import train_test_split, GridSearchCV,RandomizedSearchCV\n",
    "from sklearn.metrics import accuracy_score\n",
    "from sklearn.preprocessing import StandardScaler\n",
    "import warnings\n",
    "warnings.filterwarnings('ignore')"
   ]
  },
  {
   "cell_type": "code",
   "execution_count": 157,
   "id": "a031cc51-476c-44d4-83b9-3aa119865bd0",
   "metadata": {},
   "outputs": [],
   "source": [
    "dataset = pd.read_csv('Social_Network_Ads.csv')"
   ]
  },
  {
   "cell_type": "code",
   "execution_count": 158,
   "id": "1a93afcb-21dd-4c4e-a738-ccfff88beb57",
   "metadata": {},
   "outputs": [
    {
     "name": "stdout",
     "output_type": "stream",
     "text": [
      "<class 'pandas.core.frame.DataFrame'>\n",
      "RangeIndex: 400 entries, 0 to 399\n",
      "Data columns (total 5 columns):\n",
      " #   Column           Non-Null Count  Dtype \n",
      "---  ------           --------------  ----- \n",
      " 0   User ID          400 non-null    int64 \n",
      " 1   Gender           400 non-null    object\n",
      " 2   Age              400 non-null    int64 \n",
      " 3   EstimatedSalary  400 non-null    int64 \n",
      " 4   Purchased        400 non-null    int64 \n",
      "dtypes: int64(4), object(1)\n",
      "memory usage: 15.8+ KB\n"
     ]
    }
   ],
   "source": [
    "dataset.info()"
   ]
  },
  {
   "cell_type": "code",
   "execution_count": 159,
   "id": "7b229d1f-8680-410f-9b79-5c87894b4496",
   "metadata": {},
   "outputs": [
    {
     "data": {
      "text/html": [
       "<div>\n",
       "<style scoped>\n",
       "    .dataframe tbody tr th:only-of-type {\n",
       "        vertical-align: middle;\n",
       "    }\n",
       "\n",
       "    .dataframe tbody tr th {\n",
       "        vertical-align: top;\n",
       "    }\n",
       "\n",
       "    .dataframe thead th {\n",
       "        text-align: right;\n",
       "    }\n",
       "</style>\n",
       "<table border=\"1\" class=\"dataframe\">\n",
       "  <thead>\n",
       "    <tr style=\"text-align: right;\">\n",
       "      <th></th>\n",
       "      <th>User ID</th>\n",
       "      <th>Gender</th>\n",
       "      <th>Age</th>\n",
       "      <th>EstimatedSalary</th>\n",
       "      <th>Purchased</th>\n",
       "    </tr>\n",
       "  </thead>\n",
       "  <tbody>\n",
       "    <tr>\n",
       "      <th>0</th>\n",
       "      <td>15624510</td>\n",
       "      <td>Male</td>\n",
       "      <td>19</td>\n",
       "      <td>19000</td>\n",
       "      <td>0</td>\n",
       "    </tr>\n",
       "    <tr>\n",
       "      <th>1</th>\n",
       "      <td>15810944</td>\n",
       "      <td>Male</td>\n",
       "      <td>35</td>\n",
       "      <td>20000</td>\n",
       "      <td>0</td>\n",
       "    </tr>\n",
       "    <tr>\n",
       "      <th>2</th>\n",
       "      <td>15668575</td>\n",
       "      <td>Female</td>\n",
       "      <td>26</td>\n",
       "      <td>43000</td>\n",
       "      <td>0</td>\n",
       "    </tr>\n",
       "    <tr>\n",
       "      <th>3</th>\n",
       "      <td>15603246</td>\n",
       "      <td>Female</td>\n",
       "      <td>27</td>\n",
       "      <td>57000</td>\n",
       "      <td>0</td>\n",
       "    </tr>\n",
       "    <tr>\n",
       "      <th>4</th>\n",
       "      <td>15804002</td>\n",
       "      <td>Male</td>\n",
       "      <td>19</td>\n",
       "      <td>76000</td>\n",
       "      <td>0</td>\n",
       "    </tr>\n",
       "  </tbody>\n",
       "</table>\n",
       "</div>"
      ],
      "text/plain": [
       "    User ID  Gender  Age  EstimatedSalary  Purchased\n",
       "0  15624510    Male   19            19000          0\n",
       "1  15810944    Male   35            20000          0\n",
       "2  15668575  Female   26            43000          0\n",
       "3  15603246  Female   27            57000          0\n",
       "4  15804002    Male   19            76000          0"
      ]
     },
     "execution_count": 159,
     "metadata": {},
     "output_type": "execute_result"
    }
   ],
   "source": [
    "dataset.head()"
   ]
  },
  {
   "cell_type": "code",
   "execution_count": 179,
   "id": "89c89729-41e0-4f07-aabd-ae9c6aec2990",
   "metadata": {},
   "outputs": [],
   "source": [
    "#ILOC = Integer location, The iloc() function in python is one of the functions defined in the Pandas module that helps us to select a specific row or column from the data set. Using the iloc() function in python, we can easily retrieve any particular value from a row or column using index values.\n",
    "X = dataset.iloc[:,[2,3]]\n",
    "Y = dataset.iloc[:,4]"
   ]
  },
  {
   "cell_type": "code",
   "execution_count": 180,
   "id": "a2e23c6c-3ef5-43bd-bf2c-360bc5276f6b",
   "metadata": {},
   "outputs": [],
   "source": [
    "x_train, x_test, y_train, y_test = train_test_split(X,Y, test_size=25)"
   ]
  },
  {
   "cell_type": "code",
   "execution_count": 181,
   "id": "1bf42414-334e-4b36-b963-10412b9c1b0f",
   "metadata": {},
   "outputs": [],
   "source": [
    "scalar = StandardScaler()\n",
    "x_train_scaled = scalar.fit_transform(x_train)\n",
    "x_test_scaled = scalar.transform(x_test)"
   ]
  },
  {
   "cell_type": "code",
   "execution_count": 182,
   "id": "af2dc658-3f71-40f9-a3e2-535d763bd6ee",
   "metadata": {},
   "outputs": [],
   "source": [
    "clf = SVC()"
   ]
  },
  {
   "cell_type": "code",
   "execution_count": 183,
   "id": "398a4c85-ecc1-47e6-baef-60a8f05ea943",
   "metadata": {},
   "outputs": [
    {
     "data": {
      "text/plain": [
       "SVC()"
      ]
     },
     "execution_count": 183,
     "metadata": {},
     "output_type": "execute_result"
    }
   ],
   "source": [
    "clf.fit(x_train_scaled, y_train)"
   ]
  },
  {
   "cell_type": "code",
   "execution_count": 184,
   "id": "6eabc8d4-6934-4a65-ac55-f6a2199f6828",
   "metadata": {},
   "outputs": [],
   "source": [
    "y_pred = clf.predict(x_test_scaled)"
   ]
  },
  {
   "cell_type": "code",
   "execution_count": 185,
   "id": "2321908f-110d-4712-84be-782cd9fea9b3",
   "metadata": {},
   "outputs": [
    {
     "data": {
      "text/plain": [
       "0.96"
      ]
     },
     "execution_count": 185,
     "metadata": {},
     "output_type": "execute_result"
    }
   ],
   "source": [
    "accuracy_score(y_test, y_pred)"
   ]
  },
  {
   "cell_type": "markdown",
   "id": "1cdf20e9-53f1-4074-89c3-7b0c0e65115c",
   "metadata": {},
   "source": []
  },
  {
   "cell_type": "code",
   "execution_count": 186,
   "id": "fb992f29-aa6e-4f24-a56a-18e90275f377",
   "metadata": {},
   "outputs": [],
   "source": [
    "grid = {'C':[1,10,100,1000], 'kernel':['rbf','linear'],'C':[0.1,0.2,0.3,0.4,0.5,0.6,0.7,0.8,0.9]}"
   ]
  },
  {
   "cell_type": "code",
   "execution_count": 187,
   "id": "c52c2ad4-e078-49a7-a13a-2988a57d5981",
   "metadata": {},
   "outputs": [],
   "source": [
    "grid_search_cv = GridSearchCV(SVC(),param_grid=grid, scoring='accuracy', n_jobs=-1)"
   ]
  },
  {
   "cell_type": "code",
   "execution_count": null,
   "id": "86974a3d-db1b-4d68-a3b5-1cb8e636d2bc",
   "metadata": {},
   "outputs": [],
   "source": []
  },
  {
   "cell_type": "code",
   "execution_count": 188,
   "id": "22bc0511-3678-445d-9a60-69e331644f08",
   "metadata": {},
   "outputs": [
    {
     "data": {
      "text/plain": [
       "GridSearchCV(estimator=SVC(), n_jobs=-1,\n",
       "             param_grid={'C': [0.1, 0.2, 0.3, 0.4, 0.5, 0.6, 0.7, 0.8, 0.9],\n",
       "                         'kernel': ['rbf', 'linear']},\n",
       "             scoring='accuracy')"
      ]
     },
     "execution_count": 188,
     "metadata": {},
     "output_type": "execute_result"
    }
   ],
   "source": [
    "grid_search_cv.fit(x_train_scaled, y_train)"
   ]
  },
  {
   "cell_type": "code",
   "execution_count": 189,
   "id": "4623322a-e806-4e0e-bf84-5af630deb0b7",
   "metadata": {},
   "outputs": [
    {
     "data": {
      "text/plain": [
       "0.9146666666666666"
      ]
     },
     "execution_count": 189,
     "metadata": {},
     "output_type": "execute_result"
    }
   ],
   "source": [
    "grid_search_cv.best_score_"
   ]
  },
  {
   "cell_type": "code",
   "execution_count": 190,
   "id": "ec94aa1d-1bf9-4e86-adb6-dc632b5a1b71",
   "metadata": {},
   "outputs": [
    {
     "data": {
      "text/plain": [
       "{'C': 0.7, 'kernel': 'rbf'}"
      ]
     },
     "execution_count": 190,
     "metadata": {},
     "output_type": "execute_result"
    }
   ],
   "source": [
    "grid_search_cv.best_params_"
   ]
  },
  {
   "cell_type": "code",
   "execution_count": 191,
   "id": "21266a27-12f6-4a99-8a81-fc38ca0546fb",
   "metadata": {},
   "outputs": [],
   "source": [
    "rdm_search_cv =RandomizedSearchCV(SVC(),param_distributions=grid,n_jobs=-1)"
   ]
  },
  {
   "cell_type": "code",
   "execution_count": 192,
   "id": "7fdb2f76-3846-4fd2-ab12-9521283989d6",
   "metadata": {},
   "outputs": [
    {
     "data": {
      "text/plain": [
       "RandomizedSearchCV(estimator=SVC(), n_jobs=-1,\n",
       "                   param_distributions={'C': [0.1, 0.2, 0.3, 0.4, 0.5, 0.6, 0.7,\n",
       "                                              0.8, 0.9],\n",
       "                                        'kernel': ['rbf', 'linear']})"
      ]
     },
     "execution_count": 192,
     "metadata": {},
     "output_type": "execute_result"
    }
   ],
   "source": [
    "rdm_search_cv.fit(x_train_scaled, y_train)"
   ]
  },
  {
   "cell_type": "code",
   "execution_count": 193,
   "id": "d7131fd8-1c72-4047-b7e9-37190accbcc1",
   "metadata": {},
   "outputs": [
    {
     "data": {
      "text/plain": [
       "0.9146666666666666"
      ]
     },
     "execution_count": 193,
     "metadata": {},
     "output_type": "execute_result"
    }
   ],
   "source": [
    "rdm_search_cv.best_score_"
   ]
  },
  {
   "cell_type": "code",
   "execution_count": 194,
   "id": "07bffed2-1beb-44aa-bdfd-fb0b6c9402f3",
   "metadata": {},
   "outputs": [
    {
     "data": {
      "text/plain": [
       "{'kernel': 'rbf', 'C': 0.7}"
      ]
     },
     "execution_count": 194,
     "metadata": {},
     "output_type": "execute_result"
    }
   ],
   "source": [
    "rdm_search_cv.best_params_"
   ]
  },
  {
   "cell_type": "markdown",
   "id": "1ed799fc-c98a-40ce-adf0-5923db5ca9c3",
   "metadata": {},
   "source": [
    "#Scale data to get accurate data, but u must use scale data in future for same data"
   ]
  },
  {
   "cell_type": "code",
   "execution_count": 196,
   "id": "e843b7aa-ecf8-4406-9286-38069bdfb293",
   "metadata": {},
   "outputs": [],
   "source": [
    "#If you are working on large dataset dont use Grid search, use random search."
   ]
  },
  {
   "cell_type": "code",
   "execution_count": null,
   "id": "de61e759-0722-433a-9b68-24ed592c7bf9",
   "metadata": {},
   "outputs": [],
   "source": []
  },
  {
   "cell_type": "markdown",
   "id": "94aff195-623a-40ae-a272-f34d58fd9ffa",
   "metadata": {},
   "source": [
    "HOW TO CHOOSE THE BEST MODEL FOR HYPER PARAMETER TUNING"
   ]
  },
  {
   "cell_type": "code",
   "execution_count": 1,
   "id": "b16906ba-eb46-4dc5-b4e9-7527d5320575",
   "metadata": {},
   "outputs": [],
   "source": [
    "#The process of choosing optimal parameter is hypertuning."
   ]
  },
  {
   "cell_type": "code",
   "execution_count": 3,
   "id": "020e691b-5446-4630-9973-3c4f0c3d0b51",
   "metadata": {},
   "outputs": [],
   "source": [
    "#This can be achived by usiing train_test_split for different models. SVM,Random Forest, Decision Tree, Naive Bayes, Logistic Regression etc. "
   ]
  },
  {
   "cell_type": "code",
   "execution_count": null,
   "id": "9279c0e8-aebe-45c8-92b0-c01168794839",
   "metadata": {},
   "outputs": [],
   "source": [
    "#Because of different variations in the outcomes, it is advised one use :\n",
    "K Fold Cross Validation..read more here: http://localhost:8888/lab/tree/Desktop/DATA%20SCIENCE%20BOOTCAMP/Hyperparameter%20Tuning%20Machine%20Learning.ipynb\n",
    "\n"
   ]
  }
 ],
 "metadata": {
  "kernelspec": {
   "display_name": "Python 3 (ipykernel)",
   "language": "python",
   "name": "python3"
  },
  "language_info": {
   "codemirror_mode": {
    "name": "ipython",
    "version": 3
   },
   "file_extension": ".py",
   "mimetype": "text/x-python",
   "name": "python",
   "nbconvert_exporter": "python",
   "pygments_lexer": "ipython3",
   "version": "3.9.13"
  }
 },
 "nbformat": 4,
 "nbformat_minor": 5
}
