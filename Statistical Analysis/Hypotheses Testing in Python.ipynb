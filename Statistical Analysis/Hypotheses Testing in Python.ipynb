{
 "cells": [
  {
   "cell_type": "code",
   "execution_count": 1,
   "id": "01744126-c958-4d5f-8554-28aa3004af54",
   "metadata": {},
   "outputs": [],
   "source": [
    "#HYPOTHESIS TESTING IN PYTHON"
   ]
  },
  {
   "cell_type": "code",
   "execution_count": 3,
   "id": "5e1cd1d8-ca32-4717-9bbd-fcc15a931fb3",
   "metadata": {},
   "outputs": [],
   "source": [
    "import statsmodels.api as sm\n",
    "import numpy as np\n",
    "import pandas as pd"
   ]
  },
  {
   "cell_type": "code",
   "execution_count": 4,
   "id": "f05d271d-8521-48ff-b5eb-397ea6ae4a63",
   "metadata": {},
   "outputs": [],
   "source": [
    "#RESEARCH QUESTION\n",
    "#In previous years 52% of parents believed that electronics and social media was the cause of their teenagers lack of sleep. Do more parents today believe same?\n",
    "\n",
    "#Population: Parents with ateenager (age 13-18)\n",
    "#Parameter of interest : p\n",
    "#Null hypothesis: p =0.52\n",
    "#Alternative Hypothesis : p>0.52\n",
    "#1018 Parents\n",
    "#56% believe that their teenager's lack of sleep is caused due to electronics and social media \n"
   ]
  },
  {
   "cell_type": "code",
   "execution_count": 5,
   "id": "a8a47951-c479-4948-8785-3f282812eb87",
   "metadata": {},
   "outputs": [
    {
     "data": {
      "text/plain": [
       "(2.571067795759113, 0.010138547731721065)"
      ]
     },
     "execution_count": 5,
     "metadata": {},
     "output_type": "execute_result"
    }
   ],
   "source": [
    "n = 1018\n",
    "pnull = .52\n",
    "phat = .56\n",
    "sm.stats.proportions_ztest(phat * n, n, pnull)"
   ]
  },
  {
   "cell_type": "code",
   "execution_count": 6,
   "id": "728c7679-9f3e-4ed1-baa8-9e56e4709a22",
   "metadata": {},
   "outputs": [],
   "source": [
    "#We therefore reject null hypothesis because the value of null hypotheses is more than 52%.\n",
    "#p value is .01 "
   ]
  },
  {
   "cell_type": "code",
   "execution_count": null,
   "id": "e4206ecc-9bdd-4c0e-ab6d-9244746b6856",
   "metadata": {},
   "outputs": [],
   "source": []
  },
  {
   "cell_type": "code",
   "execution_count": 7,
   "id": "816e5933-b524-4e10-bdaa-70bdfee07f6d",
   "metadata": {},
   "outputs": [],
   "source": []
  },
  {
   "cell_type": "code",
   "execution_count": 8,
   "id": "1a4303df-2502-4d01-9ef8-c101857bf3dd",
   "metadata": {},
   "outputs": [],
   "source": []
  },
  {
   "cell_type": "code",
   "execution_count": 9,
   "id": "eccd8dd1-444b-49cd-b980-787fc2e3d792",
   "metadata": {},
   "outputs": [],
   "source": []
  },
  {
   "cell_type": "code",
   "execution_count": null,
   "id": "6e53c94b-2816-4077-8da2-64896068d4bf",
   "metadata": {},
   "outputs": [],
   "source": []
  }
 ],
 "metadata": {
  "kernelspec": {
   "display_name": "Python 3 (ipykernel)",
   "language": "python",
   "name": "python3"
  },
  "language_info": {
   "codemirror_mode": {
    "name": "ipython",
    "version": 3
   },
   "file_extension": ".py",
   "mimetype": "text/x-python",
   "name": "python",
   "nbconvert_exporter": "python",
   "pygments_lexer": "ipython3",
   "version": "3.10.9"
  }
 },
 "nbformat": 4,
 "nbformat_minor": 5
}
