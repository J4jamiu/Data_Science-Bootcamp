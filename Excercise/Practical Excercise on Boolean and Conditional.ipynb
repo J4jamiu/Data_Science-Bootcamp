{
 "cells": [
  {
   "cell_type": "markdown",
   "id": "5a10fa38-f7ae-40ec-8b75-41a30c2be2e0",
   "metadata": {},
   "source": [
    "PRACTICAL EXCERCISES ON BOOLEAN AND CONDITIONALS"
   ]
  },
  {
   "cell_type": "markdown",
   "id": "338dca2b-f2f2-4082-a7c7-edf149ffc262",
   "metadata": {},
   "source": [
    "EXCERCISE1a:  Rewrite your pay computation to give the employee 1.5 times the\n",
    "hourly rate for hours worked above 40 hours.\n",
    "Enter Hours: 45\n",
    "Enter Rate: 10\n",
    "Pay: ?"
   ]
  },
  {
   "cell_type": "code",
   "execution_count": 12,
   "id": "5ae01070-0224-4c3b-9b9d-76e1fe6b5c43",
   "metadata": {},
   "outputs": [
    {
     "name": "stdin",
     "output_type": "stream",
     "text": [
      "Enter number of Hours:  45\n",
      "Enter the pay rate:  10\n"
     ]
    },
    {
     "name": "stdout",
     "output_type": "stream",
     "text": [
      "Pay:  525.0\n"
     ]
    }
   ],
   "source": [
    "hours = int(input('Enter number of Hours: '))\n",
    "rate = float(input('Enter the pay rate: '))\n",
    "if hours > 40:\n",
    "        pay = (hours-40)*rate*1.5 + hours*rate\n",
    "else:\n",
    "            pay = hours * rate   \n",
    "print('Pay: ' , pay)\n"
   ]
  },
  {
   "cell_type": "code",
   "execution_count": null,
   "id": "826c1a48-719d-43eb-9a67-f6bc3cc69486",
   "metadata": {},
   "outputs": [],
   "source": []
  },
  {
   "cell_type": "markdown",
   "id": "3863c84e-bd11-4821-95cc-3954869d4805",
   "metadata": {},
   "source": [
    "EXCERCISE1b:  Rewrite your pay computation to give the employee 1.5 times the\n",
    "hourly rate for hours worked above 40 hours.\n",
    "Enter Hours: 49\n",
    "Enter Rate: 40\n",
    "Pay: ?"
   ]
  },
  {
   "cell_type": "code",
   "execution_count": 3,
   "id": "0a3094bb-b873-403e-8302-b9db41af1249",
   "metadata": {},
   "outputs": [
    {
     "name": "stdin",
     "output_type": "stream",
     "text": [
      "Enter number of Hours:  49\n",
      "Enter the pay rate:  40\n"
     ]
    },
    {
     "name": "stdout",
     "output_type": "stream",
     "text": [
      "Pay:  2500.0\n"
     ]
    }
   ],
   "source": [
    "hours = int(input('Enter number of Hours: '))\n",
    "rate = float(input('Enter the pay rate: '))\n",
    "if hours > 40:\n",
    "        pay = (hours-40)*rate*1.5 + hours*rate\n",
    "else:\n",
    "            pay = hours * rate   \n",
    "print('Pay: ' , pay)"
   ]
  },
  {
   "cell_type": "code",
   "execution_count": null,
   "id": "37a89314-3f84-48f1-a20d-df4d407aa55d",
   "metadata": {},
   "outputs": [],
   "source": []
  },
  {
   "cell_type": "code",
   "execution_count": null,
   "id": "ede6285b-f579-4f4b-82e4-985479fad84e",
   "metadata": {},
   "outputs": [],
   "source": []
  },
  {
   "cell_type": "markdown",
   "id": "00d8555e-094d-4415-80ef-f17deace73ac",
   "metadata": {},
   "source": [
    "EXCERCISE 2: Exercise 2: Rewrite your pay program using try and except so that your program handles non-numeric input gracefully by printing a message and exiting the\n",
    "program. The following shows two executions of the program:\n",
    "Enter Hours: 20\n",
    "Enter Rate: nine\n",
    "Error, please enter numeric input\n",
    "Enter Hours: forty\n",
    "Error, please enter numeric input"
   ]
  },
  {
   "cell_type": "code",
   "execution_count": 11,
   "id": "861a73e2-2d29-43c6-b096-07d588a079d6",
   "metadata": {},
   "outputs": [
    {
     "name": "stdin",
     "output_type": "stream",
     "text": [
      "Enter the number of hours:  43\n",
      "Enter the rate:  13\n"
     ]
    }
   ],
   "source": [
    " try:\n",
    "        Hours = int(input('Enter the number of hours: '))\n",
    "        Rate = float(input('Enter the rate: '))\n",
    "except:\n",
    "        print('Error, please enter numeric input!')\n",
    "        print(quit)\n",
    "        if Hours > 40:\n",
    "            Pay = (Hours- 40)*Rate*1.5 + 40*Rate\n",
    "        else:\n",
    "            Pay = Hours*Rate\n",
    "            print('Pay: ', Pay)\n",
    "            \n",
    "        \n",
    "                \n",
    "                \n",
    "        \n",
    "        "
   ]
  },
  {
   "cell_type": "code",
   "execution_count": null,
   "id": "b50641f5-53fe-4bfa-89f3-88dc74b63571",
   "metadata": {},
   "outputs": [],
   "source": []
  },
  {
   "cell_type": "code",
   "execution_count": null,
   "id": "c9aaf5a0-cb8a-45ea-bb89-79e3fdb1236e",
   "metadata": {},
   "outputs": [],
   "source": []
  },
  {
   "cell_type": "markdown",
   "id": "0cefc6e4-b6d3-4d9e-82a0-113a314da791",
   "metadata": {},
   "source": [
    "EXCERCISE 3: Exercise 3: Write a program to prompt for a score between 0.0 and 1.0. If the\n",
    "score is out of range, print an error message. If the score is between 0.0 and 1.0,\n",
    "print a grade using the following table:\n",
    "Score Grade\n",
    ">= 0.9 A\n",
    ">= 0.8 B\n",
    ">= 0.7 C\n",
    ">= 0.6 D\n",
    "< 0.6 F\n",
    "~~~\n",
    "Enter score: 0.95 A ~~\n",
    "Enter score: perfect\n",
    "Bad score\n",
    "Enter score: 10.0\n",
    "Bad score\n",
    "Enter score: 0.75\n",
    "C\n",
    "Enter score: 0.5\n",
    "F\n",
    "Run the program repeatedly as shown above to test the various different values for\n",
    "input"
   ]
  },
  {
   "cell_type": "code",
   "execution_count": 17,
   "id": "fc375ce9-3ede-4124-9cfb-825732d32ee6",
   "metadata": {},
   "outputs": [
    {
     "name": "stdin",
     "output_type": "stream",
     "text": [
      "Enter the score grade:  10\n"
     ]
    },
    {
     "name": "stdout",
     "output_type": "stream",
     "text": [
      "score is out of range\n"
     ]
    }
   ],
   "source": [
    "try:\n",
    "    score = float(input('Enter the score grade: '))\n",
    "except:\n",
    "    print('Bad score')\n",
    "    print(quit)\n",
    "if score < 0 or score > 1.0:\n",
    "    print('score is out of range')\n",
    "elif score >= 0.95:\n",
    "        print('perfect score A')\n",
    "elif score >= 0.75:\n",
    "        print('C')\n",
    "else:\n",
    "        print('F')\n",
    "        "
   ]
  },
  {
   "cell_type": "code",
   "execution_count": 18,
   "id": "3bfbda8b-1580-41bd-b95f-52e74b1db8e5",
   "metadata": {},
   "outputs": [
    {
     "name": "stdin",
     "output_type": "stream",
     "text": [
      "Enter the score grade:  0.99\n"
     ]
    },
    {
     "name": "stdout",
     "output_type": "stream",
     "text": [
      "perfect score A\n"
     ]
    }
   ],
   "source": [
    "try:\n",
    "    score = float(input('Enter the score grade: '))\n",
    "except:\n",
    "    print('Bad score')\n",
    "    print(quit)\n",
    "if score < 0 or score > 1.0:\n",
    "    print('score is out of range')\n",
    "elif score >= 0.95:\n",
    "        print('perfect score A')\n",
    "elif score >= 0.75:\n",
    "        print('B')\n",
    "elif score >= 60:\n",
    "        print('C')\n",
    "else:\n",
    "        print('F')"
   ]
  },
  {
   "cell_type": "code",
   "execution_count": 20,
   "id": "a33f462c-41c0-432d-b8e6-8c6301bab81f",
   "metadata": {},
   "outputs": [
    {
     "name": "stdin",
     "output_type": "stream",
     "text": [
      "Enter the score grade:  0.77\n"
     ]
    },
    {
     "name": "stdout",
     "output_type": "stream",
     "text": [
      "B\n"
     ]
    }
   ],
   "source": [
    "try:\n",
    "    score = float(input('Enter the score grade: '))\n",
    "except:\n",
    "    print('Bad score')\n",
    "    print(quit)\n",
    "if score < 0 or score > 1.0:\n",
    "    print('score is out of range')\n",
    "elif score >= 0.95:\n",
    "        print('perfect score A')\n",
    "elif score >= 0.75:\n",
    "        print('B')\n",
    "elif score >= 60:\n",
    "        print('C')\n",
    "else:\n",
    "        print('F')"
   ]
  },
  {
   "cell_type": "code",
   "execution_count": 23,
   "id": "b45a446f-20fe-4b66-8165-097252c0b5d9",
   "metadata": {},
   "outputs": [
    {
     "name": "stdin",
     "output_type": "stream",
     "text": [
      "Enter the score grade:  0.66\n"
     ]
    },
    {
     "name": "stdout",
     "output_type": "stream",
     "text": [
      "C\n"
     ]
    }
   ],
   "source": [
    "try:\n",
    "    score = float(input('Enter the score grade: '))\n",
    "except:\n",
    "    print('Bad score')\n",
    "    print(quit)\n",
    "if score < 0 or score > 1.0:\n",
    "    print('score is out of range')\n",
    "elif score >= 0.95:\n",
    "        print('perfect score A')\n",
    "elif score >= 0.75:\n",
    "        print('B')\n",
    "elif score >= 0.6:\n",
    "        print('C')\n",
    "else:\n",
    "        print('F')"
   ]
  },
  {
   "cell_type": "code",
   "execution_count": 25,
   "id": "8883a3b0-afad-4806-827e-2883e02e03bf",
   "metadata": {},
   "outputs": [
    {
     "name": "stdin",
     "output_type": "stream",
     "text": [
      "Enter the score grade:  0.59\n"
     ]
    },
    {
     "name": "stdout",
     "output_type": "stream",
     "text": [
      "F\n"
     ]
    }
   ],
   "source": [
    "try:\n",
    "    score = float(input('Enter the score grade: '))\n",
    "except:\n",
    "    print('Bad score')\n",
    "    print(quit)\n",
    "if score < 0 or score > 1.0:\n",
    "    print('score is out of range')\n",
    "elif score >= 0.95:\n",
    "        print('perfect score A')\n",
    "elif score >= 0.75:\n",
    "        print('B')\n",
    "elif score >= 0.6:\n",
    "        print('C')\n",
    "else:\n",
    "        print('F')"
   ]
  },
  {
   "cell_type": "code",
   "execution_count": null,
   "id": "91c6ebbc-1584-45e9-9ebc-2af66ef70b41",
   "metadata": {},
   "outputs": [],
   "source": []
  }
 ],
 "metadata": {
  "kernelspec": {
   "display_name": "Python 3 (ipykernel)",
   "language": "python",
   "name": "python3"
  },
  "language_info": {
   "codemirror_mode": {
    "name": "ipython",
    "version": 3
   },
   "file_extension": ".py",
   "mimetype": "text/x-python",
   "name": "python",
   "nbconvert_exporter": "python",
   "pygments_lexer": "ipython3",
   "version": "3.9.13"
  }
 },
 "nbformat": 4,
 "nbformat_minor": 5
}
