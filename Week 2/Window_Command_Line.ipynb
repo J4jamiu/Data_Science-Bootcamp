{
 "cells": [
  {
   "cell_type": "code",
   "execution_count": 1,
   "id": "2a6b82e1-e824-4cee-9db9-4c85de4626b1",
   "metadata": {},
   "outputs": [],
   "source": [
    "#WINDOW COMMAND LINE: Faster than using windows\n"
   ]
  },
  {
   "cell_type": "code",
   "execution_count": null,
   "id": "4abb1d61-93e5-4c94-81fa-73da56dff0a6",
   "metadata": {},
   "outputs": [],
   "source": [
    "#cd means change directory\n",
    "#cd desktop takes you to the desktop\n",
    "#cd .. move two steps  backward\n",
    "#cd ..\\.. two steps forward \n",
    "#cd desktop/videos\n",
    "#dir to see contents present \n",
    "#dir /a to view all hidden and not hidden directoories and folders and files\n",
    "#cd nameofthefile       To open files\n",
    "#dir *.png or *.pdf to see all file types that are png or pdf\n",
    "#type note.txt to open a file with name note.txt. name of the file to open it\n",
    "#date  to see date\n",
    "#time   to see time\n",
    "#mkdir New to create a new directory name new\n",
    "#rmdir New  to del directory with name New\n",
    "#wmic logicaldisk get name  all names of drives on ur comupter\n",
    "#c: to change to drive c\n",
    "#tree    to see all contents of  folder\n",
    "#color 07,06 etc     To change background color\n",
    "#color /?   all color\n",
    "#0 to 7 backgroud color while 8,9A to f are text colors\n",
    "#color to return to default\n",
    "#cls to clear screen\n",
    "#del filename.txt or xls .pdf etc to delete\n",
    "#TYPE NOTE.TXT TO open a file\n",
    "#echo welcome to nigeria > note.txt to create a file and write welcome to ....\n",
    "#echo Jamiu is doing great >> note.pdf (two greater than signs to write inside it)\n",
    "#To change attribute of a file using command\n",
    "#attrib /?\n",
    "#attrib +h note.txt to hide the file note.txt\n",
    "#- to show it\n",
    "#copy note.txt notes ----  to copy and move files\n",
    "#xcopy to copy all files\n",
    "#move note.txt notes"
   ]
  }
 ],
 "metadata": {
  "kernelspec": {
   "display_name": "Python 3 (ipykernel)",
   "language": "python",
   "name": "python3"
  },
  "language_info": {
   "codemirror_mode": {
    "name": "ipython",
    "version": 3
   },
   "file_extension": ".py",
   "mimetype": "text/x-python",
   "name": "python",
   "nbconvert_exporter": "python",
   "pygments_lexer": "ipython3",
   "version": "3.9.13"
  }
 },
 "nbformat": 4,
 "nbformat_minor": 5
}
