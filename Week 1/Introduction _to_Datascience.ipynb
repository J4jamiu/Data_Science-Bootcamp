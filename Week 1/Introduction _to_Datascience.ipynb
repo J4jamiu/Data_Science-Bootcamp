{
 "cells": [
  {
   "cell_type": "code",
   "execution_count": null,
   "id": "031b3546-f63e-4d2b-8ea9-c4d4590f3117",
   "metadata": {},
   "outputs": [],
   "source": [
    "##Date:06-02-2023\n",
    "\n",
    "  #Training schedule was shared\n",
    "  \n",
    "  ##Important information \n",
    "  \n",
    " A list of resourceful links has been created to assist in my journey to becoming a Data Scientist.I would find some of these links useful when I hit snags as the websites of these links contain contents from experts. The links are:\n",
    "\n",
    "Geeks for Geeks – GeeksforGeeks | A computer science portal for geeks\n",
    "GitHub – GitHub: Where the world builds software · GitHub\n",
    "Google Collab – Welcome To Colaboratory – Colaboratory\n",
    "Jupyter Notebook – Project Jupyter | Documentation\n",
    "Stack Overflow – Stack Overflow – Where Developers Learn, Share, & Build Careers\n",
    "\n",
    "INTRODUCTION TO DATA SCIENCE WITH PYTHON AND SQL\n",
    "\n",
    "In this module you will be introduced to the field of data science and the python programming language to build your understanding of the key data science terms and processes. We would also be equipping you with the essential data science skills to effectively manage relational databases by extracting, transforming, and loading your data.Incase you’re worried about the word “python” worry not\n",
    "\n",
    "Data can also be reffered to as: Raw facts or Primary data or Raw data.\n",
    "Processed data becomes information.\n",
    "\n",
    "\n",
    "Introduction to Python, Jupyter Notebooks and Data Science\n",
    "\n",
    "Data science:it is the proces of using data to understand the world\n",
    "\n",
    "it is also the art of trnslating data into a story and using stories to generate insights, these insights can help in making informed and strategic decisions.\n",
    "\n",
    "Why are there so many business and Data Science?\n",
    "\n",
    "The world of data is no doubt overwelmingly improving day by day\n",
    "Maintaining a healthy data is very key to be above your competitors as a business owner.\n",
    "\n",
    "Statistician in 25 years ago now required updated skills to be able to clean and properly mine data if he/she is to be relevant today. The same is applicable to an HR Manager who is confused of exact name of whom to be hired, instaed of publicising their need for a business analyst he/she may post job requesting for a business intelligent or data analyst.\n",
    "\n",
    "\n",
    "***Analysis vs Analytics\n",
    "\n",
    "Data Analysis is done of past data, used to explain why something happened(sale reduction , low demand etc) while Analytics is futuristic in nature. it is categorized into two :\n",
    "Qualitative and Quantitative ANALYTICS\n",
    "\n",
    "I learnt how to installed Python, Jupiter Notebook, Anaconda\n",
    "and set up my Bootcamp notes"
   ]
  }
 ],
 "metadata": {
  "kernelspec": {
   "display_name": "Python 3 (ipykernel)",
   "language": "python",
   "name": "python3"
  },
  "language_info": {
   "codemirror_mode": {
    "name": "ipython",
    "version": 3
   },
   "file_extension": ".py",
   "mimetype": "text/x-python",
   "name": "python",
   "nbconvert_exporter": "python",
   "pygments_lexer": "ipython3",
   "version": "3.9.13"
  }
 },
 "nbformat": 4,
 "nbformat_minor": 5
}
