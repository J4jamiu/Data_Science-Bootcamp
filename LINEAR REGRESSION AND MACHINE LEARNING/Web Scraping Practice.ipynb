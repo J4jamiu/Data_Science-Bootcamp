{
 "cells": [
  {
   "cell_type": "code",
   "execution_count": 1,
   "id": "ebe6c651-f474-4981-bf91-d9bed9ca8999",
   "metadata": {},
   "outputs": [],
   "source": [
    "from bs4 import BeautifulSoup as bs\n",
    "import requests"
   ]
  },
  {
   "cell_type": "code",
   "execution_count": 17,
   "id": "2fc2a188-3e34-4d63-a530-36ae5132bac2",
   "metadata": {},
   "outputs": [],
   "source": [
    "import json\n",
    "import re\n",
    "from bs4 import BeautifulSoup\n",
    "import lxml\n",
    "import requests, string, nbconvert\n",
    "%matplotlib inline\n",
    "import pandas as pd"
   ]
  },
  {
   "cell_type": "code",
   "execution_count": 18,
   "id": "6c164f2c-0718-4eaf-9128-14c2d7627bff",
   "metadata": {},
   "outputs": [
    {
     "data": {
      "text/plain": [
       "200"
      ]
     },
     "execution_count": 18,
     "metadata": {},
     "output_type": "execute_result"
    }
   ],
   "source": [
    "url = 'https://www.worlddata.info/africa/nigeria/inflation-rates.php'\n",
    "response = requests.get(url)\n",
    "# Getting the status code\n",
    "response.status_code"
   ]
  },
  {
   "cell_type": "code",
   "execution_count": 19,
   "id": "1c730c01-a650-43ac-90b2-03971d7731d5",
   "metadata": {},
   "outputs": [
    {
     "data": {
      "text/plain": [
       "['Year', 'Nigeria', 'Ø EU', 'Ø USA', 'Ø World']"
      ]
     },
     "execution_count": 19,
     "metadata": {},
     "output_type": "execute_result"
    }
   ],
   "source": [
    "# Instantiate the soup object\n",
    "soup = BeautifulSoup(response.text, 'lxml')\n",
    "# Get the table object\n",
    "table = soup.find('table', class_ = 'std100 hover')\n",
    "# Get the column header\n",
    "col_head = [col.text.strip() for col in table.find_all('th')]\n",
    "col_head"
   ]
  },
  {
   "cell_type": "code",
   "execution_count": 20,
   "id": "d7d06aae-d707-44be-8d5f-ebaf78a8ff09",
   "metadata": {},
   "outputs": [
    {
     "data": {
      "text/html": [
       "<div>\n",
       "<style scoped>\n",
       "    .dataframe tbody tr th:only-of-type {\n",
       "        vertical-align: middle;\n",
       "    }\n",
       "\n",
       "    .dataframe tbody tr th {\n",
       "        vertical-align: top;\n",
       "    }\n",
       "\n",
       "    .dataframe thead th {\n",
       "        text-align: right;\n",
       "    }\n",
       "</style>\n",
       "<table border=\"1\" class=\"dataframe\">\n",
       "  <thead>\n",
       "    <tr style=\"text-align: right;\">\n",
       "      <th></th>\n",
       "      <th>Year</th>\n",
       "      <th>Nigeria</th>\n",
       "      <th>Ø EU</th>\n",
       "      <th>Ø USA</th>\n",
       "      <th>Ø World</th>\n",
       "    </tr>\n",
       "  </thead>\n",
       "  <tbody>\n",
       "  </tbody>\n",
       "</table>\n",
       "</div>"
      ],
      "text/plain": [
       "Empty DataFrame\n",
       "Columns: [Year, Nigeria, Ø EU, Ø USA, Ø World]\n",
       "Index: []"
      ]
     },
     "execution_count": 20,
     "metadata": {},
     "output_type": "execute_result"
    }
   ],
   "source": [
    "# Get the column header into a dataframe\n",
    "df2 = pd.DataFrame(columns=col_head)\n",
    "df2"
   ]
  },
  {
   "cell_type": "code",
   "execution_count": 22,
   "id": "b8d9b2bb-aa21-479c-86cb-da75c2453cd8",
   "metadata": {},
   "outputs": [
    {
     "data": {
      "text/html": [
       "<div>\n",
       "<style scoped>\n",
       "    .dataframe tbody tr th:only-of-type {\n",
       "        vertical-align: middle;\n",
       "    }\n",
       "\n",
       "    .dataframe tbody tr th {\n",
       "        vertical-align: top;\n",
       "    }\n",
       "\n",
       "    .dataframe thead th {\n",
       "        text-align: right;\n",
       "    }\n",
       "</style>\n",
       "<table border=\"1\" class=\"dataframe\">\n",
       "  <thead>\n",
       "    <tr style=\"text-align: right;\">\n",
       "      <th></th>\n",
       "      <th>Year</th>\n",
       "      <th>Nigeria</th>\n",
       "      <th>Ø EU</th>\n",
       "      <th>Ø USA</th>\n",
       "      <th>Ø World</th>\n",
       "    </tr>\n",
       "  </thead>\n",
       "  <tbody>\n",
       "    <tr>\n",
       "      <th>0</th>\n",
       "      <td>2021</td>\n",
       "      <td>16.95 %</td>\n",
       "      <td>2.55 %</td>\n",
       "      <td>4.70 %</td>\n",
       "      <td>3.48 %</td>\n",
       "    </tr>\n",
       "    <tr>\n",
       "      <th>1</th>\n",
       "      <td>2020</td>\n",
       "      <td>13.25 %</td>\n",
       "      <td>0.48 %</td>\n",
       "      <td>1.23 %</td>\n",
       "      <td>1.92 %</td>\n",
       "    </tr>\n",
       "    <tr>\n",
       "      <th>2</th>\n",
       "      <td>2019</td>\n",
       "      <td>11.40 %</td>\n",
       "      <td>1.63 %</td>\n",
       "      <td>1.81 %</td>\n",
       "      <td>2.19 %</td>\n",
       "    </tr>\n",
       "    <tr>\n",
       "      <th>3</th>\n",
       "      <td>2018</td>\n",
       "      <td>12.10 %</td>\n",
       "      <td>1.74 %</td>\n",
       "      <td>2.44 %</td>\n",
       "      <td>2.44 %</td>\n",
       "    </tr>\n",
       "    <tr>\n",
       "      <th>4</th>\n",
       "      <td>2017</td>\n",
       "      <td>16.52 %</td>\n",
       "      <td>1.43 %</td>\n",
       "      <td>2.13 %</td>\n",
       "      <td>2.19 %</td>\n",
       "    </tr>\n",
       "    <tr>\n",
       "      <th>...</th>\n",
       "      <td>...</td>\n",
       "      <td>...</td>\n",
       "      <td>...</td>\n",
       "      <td>...</td>\n",
       "      <td>...</td>\n",
       "    </tr>\n",
       "    <tr>\n",
       "      <th>119</th>\n",
       "      <td>1964</td>\n",
       "      <td>0.86 %</td>\n",
       "      <td>3.42 %</td>\n",
       "      <td>1.28 %</td>\n",
       "      <td>n/a</td>\n",
       "    </tr>\n",
       "    <tr>\n",
       "      <th>120</th>\n",
       "      <td>1963</td>\n",
       "      <td>-2.69 %</td>\n",
       "      <td>2.92 %</td>\n",
       "      <td>1.24 %</td>\n",
       "      <td>n/a</td>\n",
       "    </tr>\n",
       "    <tr>\n",
       "      <th>121</th>\n",
       "      <td>1962</td>\n",
       "      <td>5.27 %</td>\n",
       "      <td>3.55 %</td>\n",
       "      <td>1.20 %</td>\n",
       "      <td>n/a</td>\n",
       "    </tr>\n",
       "    <tr>\n",
       "      <th>122</th>\n",
       "      <td>1961</td>\n",
       "      <td>6.28 %</td>\n",
       "      <td>2.08 %</td>\n",
       "      <td>1.07 %</td>\n",
       "      <td>n/a</td>\n",
       "    </tr>\n",
       "    <tr>\n",
       "      <th>123</th>\n",
       "      <td>1960</td>\n",
       "      <td>5.44 %</td>\n",
       "      <td>1.74 %</td>\n",
       "      <td>1.46 %</td>\n",
       "      <td>n/a</td>\n",
       "    </tr>\n",
       "  </tbody>\n",
       "</table>\n",
       "<p>124 rows × 5 columns</p>\n",
       "</div>"
      ],
      "text/plain": [
       "     Year  Nigeria    Ø EU   Ø USA Ø World\n",
       "0    2021  16.95 %  2.55 %  4.70 %  3.48 %\n",
       "1    2020  13.25 %  0.48 %  1.23 %  1.92 %\n",
       "2    2019  11.40 %  1.63 %  1.81 %  2.19 %\n",
       "3    2018  12.10 %  1.74 %  2.44 %  2.44 %\n",
       "4    2017  16.52 %  1.43 %  2.13 %  2.19 %\n",
       "..    ...      ...     ...     ...     ...\n",
       "119  1964   0.86 %  3.42 %  1.28 %     n/a\n",
       "120  1963  -2.69 %  2.92 %  1.24 %     n/a\n",
       "121  1962   5.27 %  3.55 %  1.20 %     n/a\n",
       "122  1961   6.28 %  2.08 %  1.07 %     n/a\n",
       "123  1960   5.44 %  1.74 %  1.46 %     n/a\n",
       "\n",
       "[124 rows x 5 columns]"
      ]
     },
     "execution_count": 22,
     "metadata": {},
     "output_type": "execute_result"
    }
   ],
   "source": [
    "# Get the row data\n",
    "for row in table.find_all('tr')[1:]:\n",
    " datapoint = [td.text.strip() for td in row.find_all('td')]\n",
    " # Assign the table rows to the dataframe\n",
    " df2.loc[len(df2)] = datapoint\n",
    "# Investigate the dataframe\n",
    "df2"
   ]
  },
  {
   "cell_type": "code",
   "execution_count": null,
   "id": "b548ca09-b2d6-4a29-8620-ce76bd9fcc6a",
   "metadata": {},
   "outputs": [],
   "source": []
  }
 ],
 "metadata": {
  "kernelspec": {
   "display_name": "Python 3 (ipykernel)",
   "language": "python",
   "name": "python3"
  },
  "language_info": {
   "codemirror_mode": {
    "name": "ipython",
    "version": 3
   },
   "file_extension": ".py",
   "mimetype": "text/x-python",
   "name": "python",
   "nbconvert_exporter": "python",
   "pygments_lexer": "ipython3",
   "version": "3.10.9"
  }
 },
 "nbformat": 4,
 "nbformat_minor": 5
}
