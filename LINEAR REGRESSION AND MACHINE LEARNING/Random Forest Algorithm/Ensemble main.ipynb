{
 "cells": [
  {
   "cell_type": "markdown",
   "id": "24cf4355-bf35-424f-b558-4f9b0f896298",
   "metadata": {},
   "source": [
    "**ENSEMBLE LEARNING**"
   ]
  },
  {
   "cell_type": "markdown",
   "id": "001b33d0-e1e1-4a5f-bf20-6c08e8d7517e",
   "metadata": {},
   "source": [
    "It combine individual models together to improve the stability and predictve power of the model\n",
    "This technique permits higher predictive performance\n",
    "It combines multiple machine learning models into one predictive model\n"
   ]
  },
  {
   "cell_type": "markdown",
   "id": "ca22b4fa-a30d-4915-baca-be338d922ca0",
   "metadata": {},
   "source": [
    "It is divided into two groups: Sequential and parallel ensemble methods"
   ]
  },
  {
   "cell_type": "markdown",
   "id": "22c288a4-396a-4abb-9140-22284d591060",
   "metadata": {},
   "source": [
    "Sequential: Base learners are generated consecutively. Basic motivation is to use the dependence between the base learners\n",
    "The overall performance of the mpdel can be boosted\n"
   ]
  },
  {
   "cell_type": "markdown",
   "id": "db9992e7-9724-4d8c-af04-ef2bee2ece4f",
   "metadata": {},
   "source": [
    "*Parallel Ensemble model*: Applied whenever the base learners are generated in parallel\n",
    "Basiic motivaton is to use independence between the base learners"
   ]
  },
  {
   "cell_type": "markdown",
   "id": "91b20a11-259a-44a4-aaf1-fbf36f9b4741",
   "metadata": {},
   "source": [
    "SIGNIFICANCE OF ENSEMBLE LEARNING:It is the application of multiple models to obtain better performances than from a single model. \n",
    "It performance is determined by :\n",
    "1. Robustness(It incorporate the predictions from all the base learners)\n",
    "2. Accuracy\n"
   ]
  },
  {
   "cell_type": "markdown",
   "id": "505949a4-7427-4ec4-9739-40da50d67011",
   "metadata": {},
   "source": [
    "Averaging . P = (p1 + p2 + p3)/3\n",
    "\n",
    "Weighted Averaging: w3 + w2 + w1 =1\n",
    "\n",
    "Bagging: It is also called Bootsrap aggregation, it reduces variance of an estimate by taking mean of multiple estimates "
   ]
  },
  {
   "cell_type": "code",
   "execution_count": null,
   "id": "b1a886d6-8d87-4e1b-b2ca-1b33ae39f84c",
   "metadata": {},
   "outputs": [],
   "source": []
  },
  {
   "cell_type": "markdown",
   "id": "952c9133-f778-455f-aba0-7de46698e6e5",
   "metadata": {},
   "source": [
    "RAMDOM FORESTS: It combines various decision trees to produce a more generalized model\n",
    "used to produce de-correlated decision trees"
   ]
  },
  {
   "cell_type": "markdown",
   "id": "c8e91b29-2447-424c-bf30-c413428ddfd5",
   "metadata": {},
   "source": [
    "BOOSTING: Is a technque of changing the weak learners into strong learner....\n",
    "\n",
    "Steps of Boosting: \n",
    "    1. Train a classifier H1 that best classifies the data with respet to accuracy\n",
    "    2. Identify the regions where H1 produces errors, add weights to them , and produce a H2 classifier\n",
    "    3. Aggregate those samples for which H1 gives a different result from H2 and produce H3 classifier\n",
    "    \n",
    "    Repeat step 2 for a new classifier\n",
    "    "
   ]
  },
  {
   "cell_type": "markdown",
   "id": "3d8be13b-f96d-4a62-b22f-cd99a416e253",
   "metadata": {},
   "source": [
    "ADABOOST: Each new tree is a modified version of the original dataset. It helps mixing multiple weak clasifiers into one strong classifier                    "
   ]
  },
  {
   "cell_type": "code",
   "execution_count": 1,
   "id": "4108977f-cc38-4e52-9fad-c6e0a82c1e68",
   "metadata": {},
   "outputs": [],
   "source": [
    "import pandas\n",
    "from sklearn import model_selection\n",
    "from sklearn.ensemble import AdaBoostClassifier\n",
    "import warnings\n",
    "warnings.filterwarnings('ignore')"
   ]
  },
  {
   "cell_type": "code",
   "execution_count": 2,
   "id": "4afb7724-5ae8-4e9d-88df-7b1a4e3c46e4",
   "metadata": {
    "tags": []
   },
   "outputs": [],
   "source": [
    "import pandas as pd\n",
    "from sklearn.ensemble import AdaBoostClassifier\n",
    "from sklearn import model_selection"
   ]
  },
  {
   "cell_type": "code",
   "execution_count": 5,
   "id": "3989b4fb-6155-4dda-b7a6-3c84414fb578",
   "metadata": {
    "tags": []
   },
   "outputs": [],
   "source": [
    "# Load the dataset from CSV\n",
    "dataframe = pd.read_csv(\"diabetes.csv\")\n",
    "array = dataframe.values\n",
    "X = array[:, 0:8]  # Selecting columns 0 to 7 as input features\n",
    "Y = array[:, 8]    # Selecting the last column (index 8) as the target variable"
   ]
  },
  {
   "cell_type": "code",
   "execution_count": 6,
   "id": "a7f11ed5-95ee-4637-af85-41864398d23e",
   "metadata": {},
   "outputs": [
    {
     "name": "stdout",
     "output_type": "stream",
     "text": [
      "7.552802460697198e-01\n"
     ]
    }
   ],
   "source": [
    "seed = 7\n",
    "num_trees = 30\n",
    "kfold = model_selection.KFold(n_splits=10, random_state=seed, shuffle=True)\n",
    "model = AdaBoostClassifier(n_estimators=num_trees, random_state=seed)\n",
    "results = model_selection.cross_val_score(model, X, Y, cv=kfold)\n",
    "print(results.mean())  # Mean of the cross-validation scores"
   ]
  },
  {
   "cell_type": "code",
   "execution_count": 7,
   "id": "27931b80-fb63-486c-97ca-a481fde76b91",
   "metadata": {},
   "outputs": [
    {
     "name": "stdout",
     "output_type": "stream",
     "text": [
      "7.617774382480265e-01\n"
     ]
    }
   ],
   "source": [
    "from sklearn import svm\n",
    "from xgboost import XGBClassifier\n",
    "clf = XGBClassifier()\n",
    "seed = 7\n",
    "num_trees=30\n",
    "kfold = model_selection.KFold(n_splits=10, random_state=seed, shuffle=True)\n",
    "model = AdaBoostClassifier(n_estimators=num_trees, random_state=seed)\n",
    "results = model_selection.cross_val_score(model, X, Y)\n",
    "print(results.mean())"
   ]
  },
  {
   "cell_type": "code",
   "execution_count": 8,
   "id": "df7cdb3d-dd56-479a-9300-30b88977ea21",
   "metadata": {},
   "outputs": [],
   "source": [
    "#Above are how to bosst model classifiers and comparing teh accuracies of Classifiers"
   ]
  },
  {
   "cell_type": "code",
   "execution_count": null,
   "id": "637f5c7e-0a3a-4b82-b91f-64878b1c81f3",
   "metadata": {},
   "outputs": [],
   "source": []
  },
  {
   "cell_type": "markdown",
   "id": "08ae4322-60d6-47e3-b106-ed85221863ef",
   "metadata": {},
   "source": [
    "HOW TO USE CROSS VALIDATION: It is better estimate of ut of sample accuracy\n",
    "it provide more efficient use of data since each data is uesd FO TRAINING AND TESTING.\n",
    "while \n",
    "\n",
    "TRAIN TEST SPLIT: It runs K-Times faster than K-FOLD cross validation\n",
    "simpler than k-fold so it is easier to analyze\n"
   ]
  },
  {
   "cell_type": "markdown",
   "id": "f8742493-cc9f-416e-8a4f-503e9352d731",
   "metadata": {},
   "source": [
    "#Problem statement\n",
    " A few learners have implemented random forest classifier on the iris data, but better accuracy can be achieved by using the cross-validation sampling technique.\n",
    "    In this analysis, we will generate teh random forest using the cross validation splitting technique.\n",
    "    "
   ]
  },
  {
   "cell_type": "code",
   "execution_count": null,
   "id": "81fe5b60-97df-43e2-8b13-cbf6fc483553",
   "metadata": {},
   "outputs": [],
   "source": []
  },
  {
   "cell_type": "code",
   "execution_count": 9,
   "id": "3168112c-3253-4679-85f4-32deced37ebc",
   "metadata": {},
   "outputs": [],
   "source": [
    "from sklearn.datasets import load_iris\n"
   ]
  },
  {
   "cell_type": "code",
   "execution_count": 10,
   "id": "bf5a37ea-ea71-4274-bb65-bd0cddaf78d6",
   "metadata": {},
   "outputs": [
    {
     "name": "stdout",
     "output_type": "stream",
     "text": [
      "{'data': array([[5.1, 3.5, 1.4, 0.2],\n",
      "       [4.9, 3. , 1.4, 0.2],\n",
      "       [4.7, 3.2, 1.3, 0.2],\n",
      "       [4.6, 3.1, 1.5, 0.2],\n",
      "       [5. , 3.6, 1.4, 0.2],\n",
      "       [5.4, 3.9, 1.7, 0.4],\n",
      "       [4.6, 3.4, 1.4, 0.3],\n",
      "       [5. , 3.4, 1.5, 0.2],\n",
      "       [4.4, 2.9, 1.4, 0.2],\n",
      "       [4.9, 3.1, 1.5, 0.1],\n",
      "       [5.4, 3.7, 1.5, 0.2],\n",
      "       [4.8, 3.4, 1.6, 0.2],\n",
      "       [4.8, 3. , 1.4, 0.1],\n",
      "       [4.3, 3. , 1.1, 0.1],\n",
      "       [5.8, 4. , 1.2, 0.2],\n",
      "       [5.7, 4.4, 1.5, 0.4],\n",
      "       [5.4, 3.9, 1.3, 0.4],\n",
      "       [5.1, 3.5, 1.4, 0.3],\n",
      "       [5.7, 3.8, 1.7, 0.3],\n",
      "       [5.1, 3.8, 1.5, 0.3],\n",
      "       [5.4, 3.4, 1.7, 0.2],\n",
      "       [5.1, 3.7, 1.5, 0.4],\n",
      "       [4.6, 3.6, 1. , 0.2],\n",
      "       [5.1, 3.3, 1.7, 0.5],\n",
      "       [4.8, 3.4, 1.9, 0.2],\n",
      "       [5. , 3. , 1.6, 0.2],\n",
      "       [5. , 3.4, 1.6, 0.4],\n",
      "       [5.2, 3.5, 1.5, 0.2],\n",
      "       [5.2, 3.4, 1.4, 0.2],\n",
      "       [4.7, 3.2, 1.6, 0.2],\n",
      "       [4.8, 3.1, 1.6, 0.2],\n",
      "       [5.4, 3.4, 1.5, 0.4],\n",
      "       [5.2, 4.1, 1.5, 0.1],\n",
      "       [5.5, 4.2, 1.4, 0.2],\n",
      "       [4.9, 3.1, 1.5, 0.2],\n",
      "       [5. , 3.2, 1.2, 0.2],\n",
      "       [5.5, 3.5, 1.3, 0.2],\n",
      "       [4.9, 3.6, 1.4, 0.1],\n",
      "       [4.4, 3. , 1.3, 0.2],\n",
      "       [5.1, 3.4, 1.5, 0.2],\n",
      "       [5. , 3.5, 1.3, 0.3],\n",
      "       [4.5, 2.3, 1.3, 0.3],\n",
      "       [4.4, 3.2, 1.3, 0.2],\n",
      "       [5. , 3.5, 1.6, 0.6],\n",
      "       [5.1, 3.8, 1.9, 0.4],\n",
      "       [4.8, 3. , 1.4, 0.3],\n",
      "       [5.1, 3.8, 1.6, 0.2],\n",
      "       [4.6, 3.2, 1.4, 0.2],\n",
      "       [5.3, 3.7, 1.5, 0.2],\n",
      "       [5. , 3.3, 1.4, 0.2],\n",
      "       [7. , 3.2, 4.7, 1.4],\n",
      "       [6.4, 3.2, 4.5, 1.5],\n",
      "       [6.9, 3.1, 4.9, 1.5],\n",
      "       [5.5, 2.3, 4. , 1.3],\n",
      "       [6.5, 2.8, 4.6, 1.5],\n",
      "       [5.7, 2.8, 4.5, 1.3],\n",
      "       [6.3, 3.3, 4.7, 1.6],\n",
      "       [4.9, 2.4, 3.3, 1. ],\n",
      "       [6.6, 2.9, 4.6, 1.3],\n",
      "       [5.2, 2.7, 3.9, 1.4],\n",
      "       [5. , 2. , 3.5, 1. ],\n",
      "       [5.9, 3. , 4.2, 1.5],\n",
      "       [6. , 2.2, 4. , 1. ],\n",
      "       [6.1, 2.9, 4.7, 1.4],\n",
      "       [5.6, 2.9, 3.6, 1.3],\n",
      "       [6.7, 3.1, 4.4, 1.4],\n",
      "       [5.6, 3. , 4.5, 1.5],\n",
      "       [5.8, 2.7, 4.1, 1. ],\n",
      "       [6.2, 2.2, 4.5, 1.5],\n",
      "       [5.6, 2.5, 3.9, 1.1],\n",
      "       [5.9, 3.2, 4.8, 1.8],\n",
      "       [6.1, 2.8, 4. , 1.3],\n",
      "       [6.3, 2.5, 4.9, 1.5],\n",
      "       [6.1, 2.8, 4.7, 1.2],\n",
      "       [6.4, 2.9, 4.3, 1.3],\n",
      "       [6.6, 3. , 4.4, 1.4],\n",
      "       [6.8, 2.8, 4.8, 1.4],\n",
      "       [6.7, 3. , 5. , 1.7],\n",
      "       [6. , 2.9, 4.5, 1.5],\n",
      "       [5.7, 2.6, 3.5, 1. ],\n",
      "       [5.5, 2.4, 3.8, 1.1],\n",
      "       [5.5, 2.4, 3.7, 1. ],\n",
      "       [5.8, 2.7, 3.9, 1.2],\n",
      "       [6. , 2.7, 5.1, 1.6],\n",
      "       [5.4, 3. , 4.5, 1.5],\n",
      "       [6. , 3.4, 4.5, 1.6],\n",
      "       [6.7, 3.1, 4.7, 1.5],\n",
      "       [6.3, 2.3, 4.4, 1.3],\n",
      "       [5.6, 3. , 4.1, 1.3],\n",
      "       [5.5, 2.5, 4. , 1.3],\n",
      "       [5.5, 2.6, 4.4, 1.2],\n",
      "       [6.1, 3. , 4.6, 1.4],\n",
      "       [5.8, 2.6, 4. , 1.2],\n",
      "       [5. , 2.3, 3.3, 1. ],\n",
      "       [5.6, 2.7, 4.2, 1.3],\n",
      "       [5.7, 3. , 4.2, 1.2],\n",
      "       [5.7, 2.9, 4.2, 1.3],\n",
      "       [6.2, 2.9, 4.3, 1.3],\n",
      "       [5.1, 2.5, 3. , 1.1],\n",
      "       [5.7, 2.8, 4.1, 1.3],\n",
      "       [6.3, 3.3, 6. , 2.5],\n",
      "       [5.8, 2.7, 5.1, 1.9],\n",
      "       [7.1, 3. , 5.9, 2.1],\n",
      "       [6.3, 2.9, 5.6, 1.8],\n",
      "       [6.5, 3. , 5.8, 2.2],\n",
      "       [7.6, 3. , 6.6, 2.1],\n",
      "       [4.9, 2.5, 4.5, 1.7],\n",
      "       [7.3, 2.9, 6.3, 1.8],\n",
      "       [6.7, 2.5, 5.8, 1.8],\n",
      "       [7.2, 3.6, 6.1, 2.5],\n",
      "       [6.5, 3.2, 5.1, 2. ],\n",
      "       [6.4, 2.7, 5.3, 1.9],\n",
      "       [6.8, 3. , 5.5, 2.1],\n",
      "       [5.7, 2.5, 5. , 2. ],\n",
      "       [5.8, 2.8, 5.1, 2.4],\n",
      "       [6.4, 3.2, 5.3, 2.3],\n",
      "       [6.5, 3. , 5.5, 1.8],\n",
      "       [7.7, 3.8, 6.7, 2.2],\n",
      "       [7.7, 2.6, 6.9, 2.3],\n",
      "       [6. , 2.2, 5. , 1.5],\n",
      "       [6.9, 3.2, 5.7, 2.3],\n",
      "       [5.6, 2.8, 4.9, 2. ],\n",
      "       [7.7, 2.8, 6.7, 2. ],\n",
      "       [6.3, 2.7, 4.9, 1.8],\n",
      "       [6.7, 3.3, 5.7, 2.1],\n",
      "       [7.2, 3.2, 6. , 1.8],\n",
      "       [6.2, 2.8, 4.8, 1.8],\n",
      "       [6.1, 3. , 4.9, 1.8],\n",
      "       [6.4, 2.8, 5.6, 2.1],\n",
      "       [7.2, 3. , 5.8, 1.6],\n",
      "       [7.4, 2.8, 6.1, 1.9],\n",
      "       [7.9, 3.8, 6.4, 2. ],\n",
      "       [6.4, 2.8, 5.6, 2.2],\n",
      "       [6.3, 2.8, 5.1, 1.5],\n",
      "       [6.1, 2.6, 5.6, 1.4],\n",
      "       [7.7, 3. , 6.1, 2.3],\n",
      "       [6.3, 3.4, 5.6, 2.4],\n",
      "       [6.4, 3.1, 5.5, 1.8],\n",
      "       [6. , 3. , 4.8, 1.8],\n",
      "       [6.9, 3.1, 5.4, 2.1],\n",
      "       [6.7, 3.1, 5.6, 2.4],\n",
      "       [6.9, 3.1, 5.1, 2.3],\n",
      "       [5.8, 2.7, 5.1, 1.9],\n",
      "       [6.8, 3.2, 5.9, 2.3],\n",
      "       [6.7, 3.3, 5.7, 2.5],\n",
      "       [6.7, 3. , 5.2, 2.3],\n",
      "       [6.3, 2.5, 5. , 1.9],\n",
      "       [6.5, 3. , 5.2, 2. ],\n",
      "       [6.2, 3.4, 5.4, 2.3],\n",
      "       [5.9, 3. , 5.1, 1.8]]), 'target': array([0, 0, 0, 0, 0, 0, 0, 0, 0, 0, 0, 0, 0, 0, 0, 0, 0, 0, 0, 0, 0, 0,\n",
      "       0, 0, 0, 0, 0, 0, 0, 0, 0, 0, 0, 0, 0, 0, 0, 0, 0, 0, 0, 0, 0, 0,\n",
      "       0, 0, 0, 0, 0, 0, 1, 1, 1, 1, 1, 1, 1, 1, 1, 1, 1, 1, 1, 1, 1, 1,\n",
      "       1, 1, 1, 1, 1, 1, 1, 1, 1, 1, 1, 1, 1, 1, 1, 1, 1, 1, 1, 1, 1, 1,\n",
      "       1, 1, 1, 1, 1, 1, 1, 1, 1, 1, 1, 1, 2, 2, 2, 2, 2, 2, 2, 2, 2, 2,\n",
      "       2, 2, 2, 2, 2, 2, 2, 2, 2, 2, 2, 2, 2, 2, 2, 2, 2, 2, 2, 2, 2, 2,\n",
      "       2, 2, 2, 2, 2, 2, 2, 2, 2, 2, 2, 2, 2, 2, 2, 2, 2, 2]), 'frame': None, 'target_names': array(['setosa', 'versicolor', 'virginica'], dtype='<U10'), 'DESCR': '.. _iris_dataset:\\n\\nIris plants dataset\\n--------------------\\n\\n**Data Set Characteristics:**\\n\\n    :Number of Instances: 150 (50 in each of three classes)\\n    :Number of Attributes: 4 numeric, predictive attributes and the class\\n    :Attribute Information:\\n        - sepal length in cm\\n        - sepal width in cm\\n        - petal length in cm\\n        - petal width in cm\\n        - class:\\n                - Iris-Setosa\\n                - Iris-Versicolour\\n                - Iris-Virginica\\n                \\n    :Summary Statistics:\\n\\n    ============== ==== ==== ======= ===== ====================\\n                    Min  Max   Mean    SD   Class Correlation\\n    ============== ==== ==== ======= ===== ====================\\n    sepal length:   4.3  7.9   5.84   0.83    0.7826\\n    sepal width:    2.0  4.4   3.05   0.43   -0.4194\\n    petal length:   1.0  6.9   3.76   1.76    0.9490  (high!)\\n    petal width:    0.1  2.5   1.20   0.76    0.9565  (high!)\\n    ============== ==== ==== ======= ===== ====================\\n\\n    :Missing Attribute Values: None\\n    :Class Distribution: 33.3% for each of 3 classes.\\n    :Creator: R.A. Fisher\\n    :Donor: Michael Marshall (MARSHALL%PLU@io.arc.nasa.gov)\\n    :Date: July, 1988\\n\\nThe famous Iris database, first used by Sir R.A. Fisher. The dataset is taken\\nfrom Fisher\\'s paper. Note that it\\'s the same as in R, but not as in the UCI\\nMachine Learning Repository, which has two wrong data points.\\n\\nThis is perhaps the best known database to be found in the\\npattern recognition literature.  Fisher\\'s paper is a classic in the field and\\nis referenced frequently to this day.  (See Duda & Hart, for example.)  The\\ndata set contains 3 classes of 50 instances each, where each class refers to a\\ntype of iris plant.  One class is linearly separable from the other 2; the\\nlatter are NOT linearly separable from each other.\\n\\n.. topic:: References\\n\\n   - Fisher, R.A. \"The use of multiple measurements in taxonomic problems\"\\n     Annual Eugenics, 7, Part II, 179-188 (1936); also in \"Contributions to\\n     Mathematical Statistics\" (John Wiley, NY, 1950).\\n   - Duda, R.O., & Hart, P.E. (1973) Pattern Classification and Scene Analysis.\\n     (Q327.D83) John Wiley & Sons.  ISBN 0-471-22361-1.  See page 218.\\n   - Dasarathy, B.V. (1980) \"Nosing Around the Neighborhood: A New System\\n     Structure and Classification Rule for Recognition in Partially Exposed\\n     Environments\".  IEEE Transactions on Pattern Analysis and Machine\\n     Intelligence, Vol. PAMI-2, No. 1, 67-71.\\n   - Gates, G.W. (1972) \"The Reduced Nearest Neighbor Rule\".  IEEE Transactions\\n     on Information Theory, May 1972, 431-433.\\n   - See also: 1988 MLC Proceedings, 54-64.  Cheeseman et al\"s AUTOCLASS II\\n     conceptual clustering system finds 3 classes in the data.\\n   - Many, many more ...', 'feature_names': ['sepal length (cm)', 'sepal width (cm)', 'petal length (cm)', 'petal width (cm)'], 'filename': 'iris.csv', 'data_module': 'sklearn.datasets.data'}\n"
     ]
    }
   ],
   "source": [
    "iris_data = load_iris()\n",
    "print(iris_data)"
   ]
  },
  {
   "cell_type": "code",
   "execution_count": 11,
   "id": "e9aa4a9c-9dee-447d-8ae3-00657dc82234",
   "metadata": {},
   "outputs": [],
   "source": [
    "data_input = iris_data.data\n",
    "data_output = iris_data.target"
   ]
  },
  {
   "cell_type": "code",
   "execution_count": 12,
   "id": "deb16579-6035-4861-bc58-56ab820e29d2",
   "metadata": {},
   "outputs": [
    {
     "name": "stdout",
     "output_type": "stream",
     "text": [
      "[[5.1 3.5 1.4 0.2]\n",
      " [4.9 3.  1.4 0.2]\n",
      " [4.7 3.2 1.3 0.2]\n",
      " [4.6 3.1 1.5 0.2]\n",
      " [5.  3.6 1.4 0.2]\n",
      " [5.4 3.9 1.7 0.4]\n",
      " [4.6 3.4 1.4 0.3]\n",
      " [5.  3.4 1.5 0.2]\n",
      " [4.4 2.9 1.4 0.2]\n",
      " [4.9 3.1 1.5 0.1]\n",
      " [5.4 3.7 1.5 0.2]\n",
      " [4.8 3.4 1.6 0.2]\n",
      " [4.8 3.  1.4 0.1]\n",
      " [4.3 3.  1.1 0.1]\n",
      " [5.8 4.  1.2 0.2]\n",
      " [5.7 4.4 1.5 0.4]\n",
      " [5.4 3.9 1.3 0.4]\n",
      " [5.1 3.5 1.4 0.3]\n",
      " [5.7 3.8 1.7 0.3]\n",
      " [5.1 3.8 1.5 0.3]\n",
      " [5.4 3.4 1.7 0.2]\n",
      " [5.1 3.7 1.5 0.4]\n",
      " [4.6 3.6 1.  0.2]\n",
      " [5.1 3.3 1.7 0.5]\n",
      " [4.8 3.4 1.9 0.2]\n",
      " [5.  3.  1.6 0.2]\n",
      " [5.  3.4 1.6 0.4]\n",
      " [5.2 3.5 1.5 0.2]\n",
      " [5.2 3.4 1.4 0.2]\n",
      " [4.7 3.2 1.6 0.2]\n",
      " [4.8 3.1 1.6 0.2]\n",
      " [5.4 3.4 1.5 0.4]\n",
      " [5.2 4.1 1.5 0.1]\n",
      " [5.5 4.2 1.4 0.2]\n",
      " [4.9 3.1 1.5 0.2]\n",
      " [5.  3.2 1.2 0.2]\n",
      " [5.5 3.5 1.3 0.2]\n",
      " [4.9 3.6 1.4 0.1]\n",
      " [4.4 3.  1.3 0.2]\n",
      " [5.1 3.4 1.5 0.2]\n",
      " [5.  3.5 1.3 0.3]\n",
      " [4.5 2.3 1.3 0.3]\n",
      " [4.4 3.2 1.3 0.2]\n",
      " [5.  3.5 1.6 0.6]\n",
      " [5.1 3.8 1.9 0.4]\n",
      " [4.8 3.  1.4 0.3]\n",
      " [5.1 3.8 1.6 0.2]\n",
      " [4.6 3.2 1.4 0.2]\n",
      " [5.3 3.7 1.5 0.2]\n",
      " [5.  3.3 1.4 0.2]\n",
      " [7.  3.2 4.7 1.4]\n",
      " [6.4 3.2 4.5 1.5]\n",
      " [6.9 3.1 4.9 1.5]\n",
      " [5.5 2.3 4.  1.3]\n",
      " [6.5 2.8 4.6 1.5]\n",
      " [5.7 2.8 4.5 1.3]\n",
      " [6.3 3.3 4.7 1.6]\n",
      " [4.9 2.4 3.3 1. ]\n",
      " [6.6 2.9 4.6 1.3]\n",
      " [5.2 2.7 3.9 1.4]\n",
      " [5.  2.  3.5 1. ]\n",
      " [5.9 3.  4.2 1.5]\n",
      " [6.  2.2 4.  1. ]\n",
      " [6.1 2.9 4.7 1.4]\n",
      " [5.6 2.9 3.6 1.3]\n",
      " [6.7 3.1 4.4 1.4]\n",
      " [5.6 3.  4.5 1.5]\n",
      " [5.8 2.7 4.1 1. ]\n",
      " [6.2 2.2 4.5 1.5]\n",
      " [5.6 2.5 3.9 1.1]\n",
      " [5.9 3.2 4.8 1.8]\n",
      " [6.1 2.8 4.  1.3]\n",
      " [6.3 2.5 4.9 1.5]\n",
      " [6.1 2.8 4.7 1.2]\n",
      " [6.4 2.9 4.3 1.3]\n",
      " [6.6 3.  4.4 1.4]\n",
      " [6.8 2.8 4.8 1.4]\n",
      " [6.7 3.  5.  1.7]\n",
      " [6.  2.9 4.5 1.5]\n",
      " [5.7 2.6 3.5 1. ]\n",
      " [5.5 2.4 3.8 1.1]\n",
      " [5.5 2.4 3.7 1. ]\n",
      " [5.8 2.7 3.9 1.2]\n",
      " [6.  2.7 5.1 1.6]\n",
      " [5.4 3.  4.5 1.5]\n",
      " [6.  3.4 4.5 1.6]\n",
      " [6.7 3.1 4.7 1.5]\n",
      " [6.3 2.3 4.4 1.3]\n",
      " [5.6 3.  4.1 1.3]\n",
      " [5.5 2.5 4.  1.3]\n",
      " [5.5 2.6 4.4 1.2]\n",
      " [6.1 3.  4.6 1.4]\n",
      " [5.8 2.6 4.  1.2]\n",
      " [5.  2.3 3.3 1. ]\n",
      " [5.6 2.7 4.2 1.3]\n",
      " [5.7 3.  4.2 1.2]\n",
      " [5.7 2.9 4.2 1.3]\n",
      " [6.2 2.9 4.3 1.3]\n",
      " [5.1 2.5 3.  1.1]\n",
      " [5.7 2.8 4.1 1.3]\n",
      " [6.3 3.3 6.  2.5]\n",
      " [5.8 2.7 5.1 1.9]\n",
      " [7.1 3.  5.9 2.1]\n",
      " [6.3 2.9 5.6 1.8]\n",
      " [6.5 3.  5.8 2.2]\n",
      " [7.6 3.  6.6 2.1]\n",
      " [4.9 2.5 4.5 1.7]\n",
      " [7.3 2.9 6.3 1.8]\n",
      " [6.7 2.5 5.8 1.8]\n",
      " [7.2 3.6 6.1 2.5]\n",
      " [6.5 3.2 5.1 2. ]\n",
      " [6.4 2.7 5.3 1.9]\n",
      " [6.8 3.  5.5 2.1]\n",
      " [5.7 2.5 5.  2. ]\n",
      " [5.8 2.8 5.1 2.4]\n",
      " [6.4 3.2 5.3 2.3]\n",
      " [6.5 3.  5.5 1.8]\n",
      " [7.7 3.8 6.7 2.2]\n",
      " [7.7 2.6 6.9 2.3]\n",
      " [6.  2.2 5.  1.5]\n",
      " [6.9 3.2 5.7 2.3]\n",
      " [5.6 2.8 4.9 2. ]\n",
      " [7.7 2.8 6.7 2. ]\n",
      " [6.3 2.7 4.9 1.8]\n",
      " [6.7 3.3 5.7 2.1]\n",
      " [7.2 3.2 6.  1.8]\n",
      " [6.2 2.8 4.8 1.8]\n",
      " [6.1 3.  4.9 1.8]\n",
      " [6.4 2.8 5.6 2.1]\n",
      " [7.2 3.  5.8 1.6]\n",
      " [7.4 2.8 6.1 1.9]\n",
      " [7.9 3.8 6.4 2. ]\n",
      " [6.4 2.8 5.6 2.2]\n",
      " [6.3 2.8 5.1 1.5]\n",
      " [6.1 2.6 5.6 1.4]\n",
      " [7.7 3.  6.1 2.3]\n",
      " [6.3 3.4 5.6 2.4]\n",
      " [6.4 3.1 5.5 1.8]\n",
      " [6.  3.  4.8 1.8]\n",
      " [6.9 3.1 5.4 2.1]\n",
      " [6.7 3.1 5.6 2.4]\n",
      " [6.9 3.1 5.1 2.3]\n",
      " [5.8 2.7 5.1 1.9]\n",
      " [6.8 3.2 5.9 2.3]\n",
      " [6.7 3.3 5.7 2.5]\n",
      " [6.7 3.  5.2 2.3]\n",
      " [6.3 2.5 5.  1.9]\n",
      " [6.5 3.  5.2 2. ]\n",
      " [6.2 3.4 5.4 2.3]\n",
      " [5.9 3.  5.1 1.8]]\n"
     ]
    }
   ],
   "source": [
    "print(data_input)"
   ]
  },
  {
   "cell_type": "code",
   "execution_count": 19,
   "id": "c5552676-8bb1-4f7a-b04c-76631fcce122",
   "metadata": {},
   "outputs": [
    {
     "name": "stdout",
     "output_type": "stream",
     "text": [
      "[0 0 0 0 0 0 0 0 0 0 0 0 0 0 0 0 0 0 0 0 0 0 0 0 0 0 0 0 0 0 0 0 0 0 0 0 0\n",
      " 0 0 0 0 0 0 0 0 0 0 0 0 0 1 1 1 1 1 1 1 1 1 1 1 1 1 1 1 1 1 1 1 1 1 1 1 1\n",
      " 1 1 1 1 1 1 1 1 1 1 1 1 1 1 1 1 1 1 1 1 1 1 1 1 1 1 2 2 2 2 2 2 2 2 2 2 2\n",
      " 2 2 2 2 2 2 2 2 2 2 2 2 2 2 2 2 2 2 2 2 2 2 2 2 2 2 2 2 2 2 2 2 2 2 2 2 2\n",
      " 2 2]\n"
     ]
    }
   ],
   "source": [
    "print(data_output)"
   ]
  },
  {
   "cell_type": "code",
   "execution_count": 14,
   "id": "4b45e3d1-3923-4a49-af90-430b3659d123",
   "metadata": {},
   "outputs": [],
   "source": [
    "#Split into 5 folds without shufling "
   ]
  },
  {
   "cell_type": "code",
   "execution_count": 16,
   "id": "0a205457-4b31-4803-aa28-14eec78a0b0c",
   "metadata": {},
   "outputs": [],
   "source": [
    "from sklearn.model_selection import KFold\n",
    "kf = KFold(n_splits=5, shuffle=True)"
   ]
  },
  {
   "cell_type": "code",
   "execution_count": 22,
   "id": "1e94f046-955b-44d1-8850-3f5578c335b1",
   "metadata": {},
   "outputs": [
    {
     "name": "stdout",
     "output_type": "stream",
     "text": [
      "Train Set    Test Set   \n",
      "[  1   2   3   4   5   8   9  10  11  12  13  15  17  18  19  21  22  23\n",
      "  24  25  26  27  28  30  31  32  33  35  36  37  38  39  40  41  42  43\n",
      "  44  46  47  48  49  50  51  52  54  55  56  57  59  60  61  62  63  65\n",
      "  66  67  68  69  71  72  73  74  75  76  78  79  80  81  83  86  87  89\n",
      "  90  92  93  94  95  96  97  98  99 100 101 102 105 106 107 108 109 110\n",
      " 111 112 113 114 115 116 117 118 119 120 122 124 125 126 128 129 131 132\n",
      " 133 134 135 136 139 141 142 143 144 145 147 148] [  0   6   7  14  16  20  29  34  45  53  58  64  70  77  82  84  85  88\n",
      "  91 103 104 121 123 127 130 137 138 140 146 149]\n",
      "[  0   2   3   4   5   6   7   8   9  10  12  13  14  15  16  17  18  19\n",
      "  20  21  22  23  24  25  26  27  28  29  30  31  34  35  36  37  38  39\n",
      "  40  41  42  44  45  47  49  50  53  54  55  56  57  58  59  60  61  62\n",
      "  63  64  65  66  67  69  70  72  74  75  76  77  78  80  81  82  84  85\n",
      "  88  89  91  92  94  95  96  97  98 100 102 103 104 106 107 110 113 114\n",
      " 115 117 118 120 121 122 123 124 126 127 128 129 130 132 133 134 135 136\n",
      " 137 138 139 140 141 143 144 145 146 147 148 149] [  1  11  32  33  43  46  48  51  52  68  71  73  79  83  86  87  90  93\n",
      "  99 101 105 108 109 111 112 116 119 125 131 142]\n",
      "[  0   1   2   4   6   7   9  11  12  14  15  16  19  20  21  23  24  25\n",
      "  26  27  28  29  30  32  33  34  35  36  37  38  42  43  44  45  46  47\n",
      "  48  49  51  52  53  54  55  56  58  60  61  62  63  64  65  66  67  68\n",
      "  69  70  71  73  76  77  79  80  81  82  83  84  85  86  87  88  89  90\n",
      "  91  92  93  95  96  97  99 100 101 102 103 104 105 106 107 108 109 110\n",
      " 111 112 113 114 116 118 119 121 122 123 124 125 127 128 129 130 131 132\n",
      " 133 134 137 138 140 141 142 143 144 146 147 149] [  3   5   8  10  13  17  18  22  31  39  40  41  50  57  59  72  74  75\n",
      "  78  94  98 115 117 120 126 135 136 139 145 148]\n",
      "[  0   1   2   3   4   5   6   7   8  10  11  13  14  16  17  18  19  20\n",
      "  21  22  25  28  29  31  32  33  34  37  39  40  41  43  45  46  48  49\n",
      "  50  51  52  53  55  56  57  58  59  60  62  63  64  65  66  67  68  69\n",
      "  70  71  72  73  74  75  76  77  78  79  80  81  82  83  84  85  86  87\n",
      "  88  89  90  91  93  94  97  98  99 100 101 102 103 104 105 107 108 109\n",
      " 110 111 112 113 115 116 117 119 120 121 123 125 126 127 130 131 133 135\n",
      " 136 137 138 139 140 141 142 145 146 147 148 149] [  9  12  15  23  24  26  27  30  35  36  38  42  44  47  54  61  92  95\n",
      "  96 106 114 118 122 124 128 129 132 134 143 144]\n",
      "[  0   1   3   5   6   7   8   9  10  11  12  13  14  15  16  17  18  20\n",
      "  22  23  24  26  27  29  30  31  32  33  34  35  36  38  39  40  41  42\n",
      "  43  44  45  46  47  48  50  51  52  53  54  57  58  59  61  64  68  70\n",
      "  71  72  73  74  75  77  78  79  82  83  84  85  86  87  88  90  91  92\n",
      "  93  94  95  96  98  99 101 103 104 105 106 108 109 111 112 114 115 116\n",
      " 117 118 119 120 121 122 123 124 125 126 127 128 129 130 131 132 134 135\n",
      " 136 137 138 139 140 142 143 144 145 146 148 149] [  2   4  19  21  25  28  37  49  55  56  60  62  63  65  66  67  69  76\n",
      "  80  81  89  97 100 102 107 110 113 133 141 147]\n"
     ]
    }
   ],
   "source": [
    "print('Train Set    Test Set   ')\n",
    "#Usinf FOR LOOP, we will now interate test set with o/p data\n",
    "for train_set, test_set in kf.split(data_input):\n",
    "     print(train_set, test_set)"
   ]
  },
  {
   "cell_type": "code",
   "execution_count": 23,
   "id": "bbccd0fe-4d39-40ed-8097-9acfbd9734f7",
   "metadata": {},
   "outputs": [],
   "source": [
    "#Lets initialize Random Forest Classifier"
   ]
  },
  {
   "cell_type": "code",
   "execution_count": 24,
   "id": "043073ce-4cee-45ba-9d18-448f9d98483e",
   "metadata": {},
   "outputs": [],
   "source": [
    "from sklearn.ensemble import RandomForestClassifier\n",
    "rf_class = RandomForestClassifier(n_estimators=10)"
   ]
  },
  {
   "cell_type": "code",
   "execution_count": 27,
   "id": "6ac0f27a-9d45-473c-9b93-3075aa7aaa5a",
   "metadata": {},
   "outputs": [
    {
     "name": "stdout",
     "output_type": "stream",
     "text": [
      "[0.96666667 0.96666667 0.93333333 0.93333333 1.        ]\n"
     ]
    }
   ],
   "source": [
    "from sklearn.model_selection import cross_val_score\n",
    "print(cross_val_score(rf_class,data_input,data_output))"
   ]
  },
  {
   "cell_type": "code",
   "execution_count": 29,
   "id": "f19b9b3e-2e1a-49da-b6d5-74670df186fd",
   "metadata": {},
   "outputs": [
    {
     "name": "stdout",
     "output_type": "stream",
     "text": [
      "Accuracy of Random Forests is : 96.0\n"
     ]
    }
   ],
   "source": [
    "accuracy = cross_val_score(rf_class,data_input,data_output,scoring='accuracy',cv=10).mean()*100\n",
    "print('Accuracy of Random Forests is :',accuracy)\n"
   ]
  },
  {
   "cell_type": "code",
   "execution_count": 30,
   "id": "0565db67-fa28-4cbb-9374-ea39b1a6e92e",
   "metadata": {},
   "outputs": [],
   "source": [
    "#Above is how to apply CROSS VALIDATION TO SPLIT DATASET"
   ]
  },
  {
   "cell_type": "code",
   "execution_count": null,
   "id": "77e48b13-c85b-4d48-954a-fd65ac074d84",
   "metadata": {},
   "outputs": [],
   "source": []
  }
 ],
 "metadata": {
  "kernelspec": {
   "display_name": "Python 3 (ipykernel)",
   "language": "python",
   "name": "python3"
  },
  "language_info": {
   "codemirror_mode": {
    "name": "ipython",
    "version": 3
   },
   "file_extension": ".py",
   "mimetype": "text/x-python",
   "name": "python",
   "nbconvert_exporter": "python",
   "pygments_lexer": "ipython3",
   "version": "3.10.9"
  }
 },
 "nbformat": 4,
 "nbformat_minor": 5
}
