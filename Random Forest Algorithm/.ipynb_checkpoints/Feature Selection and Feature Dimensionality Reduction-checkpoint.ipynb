{
 "cells": [
  {
   "cell_type": "markdown",
   "id": "940c90d0-c4b3-4929-b9ba-6c92bf976e00",
   "metadata": {},
   "source": [
    "**FEATURE SELECTON USING FISHER SCORE AND CHI SQUARE TEST**. It is used for Classified data"
   ]
  },
  {
   "cell_type": "code",
   "execution_count": 6,
   "id": "4490efe2-1cad-4cdf-b005-42be861aeba0",
   "metadata": {},
   "outputs": [],
   "source": [
    "import numpy as np\n",
    "import pandas as pd\n",
    "import seaborn as sns\n",
    "import matplotlib.pyplot as plt\n",
    "%matplotlib inline\n",
    "\n",
    "import warnings\n",
    "warnings.filterwarnings('ignore')"
   ]
  },
  {
   "cell_type": "code",
   "execution_count": 7,
   "id": "fbba8437-3cec-456f-8270-da65fa57cfe4",
   "metadata": {},
   "outputs": [],
   "source": [
    "from sklearn.model_selection import train_test_split\n",
    "from sklearn.ensemble import RandomForestClassifier\n",
    "from sklearn.feature_selection import chi2\n",
    "from sklearn.feature_selection import SelectKBest, SelectPercentile\n",
    "from sklearn.metrics import accuracy_score"
   ]
  },
  {
   "cell_type": "code",
   "execution_count": 8,
   "id": "ac221f72-984e-4962-8974-d3760735510f",
   "metadata": {},
   "outputs": [],
   "source": [
    "titanic = sns.load_dataset('titanic')"
   ]
  },
  {
   "cell_type": "code",
   "execution_count": 9,
   "id": "c896203f-89bb-4ef3-a16c-dbdfff9f45b7",
   "metadata": {},
   "outputs": [
    {
     "data": {
      "text/html": [
       "<div>\n",
       "<style scoped>\n",
       "    .dataframe tbody tr th:only-of-type {\n",
       "        vertical-align: middle;\n",
       "    }\n",
       "\n",
       "    .dataframe tbody tr th {\n",
       "        vertical-align: top;\n",
       "    }\n",
       "\n",
       "    .dataframe thead th {\n",
       "        text-align: right;\n",
       "    }\n",
       "</style>\n",
       "<table border=\"1\" class=\"dataframe\">\n",
       "  <thead>\n",
       "    <tr style=\"text-align: right;\">\n",
       "      <th></th>\n",
       "      <th>survived</th>\n",
       "      <th>pclass</th>\n",
       "      <th>sex</th>\n",
       "      <th>age</th>\n",
       "      <th>sibsp</th>\n",
       "      <th>parch</th>\n",
       "      <th>fare</th>\n",
       "      <th>embarked</th>\n",
       "      <th>class</th>\n",
       "      <th>who</th>\n",
       "      <th>adult_male</th>\n",
       "      <th>deck</th>\n",
       "      <th>embark_town</th>\n",
       "      <th>alive</th>\n",
       "      <th>alone</th>\n",
       "    </tr>\n",
       "  </thead>\n",
       "  <tbody>\n",
       "    <tr>\n",
       "      <th>0</th>\n",
       "      <td>0</td>\n",
       "      <td>3</td>\n",
       "      <td>male</td>\n",
       "      <td>22.0</td>\n",
       "      <td>1</td>\n",
       "      <td>0</td>\n",
       "      <td>7.2500</td>\n",
       "      <td>S</td>\n",
       "      <td>Third</td>\n",
       "      <td>man</td>\n",
       "      <td>True</td>\n",
       "      <td>NaN</td>\n",
       "      <td>Southampton</td>\n",
       "      <td>no</td>\n",
       "      <td>False</td>\n",
       "    </tr>\n",
       "    <tr>\n",
       "      <th>1</th>\n",
       "      <td>1</td>\n",
       "      <td>1</td>\n",
       "      <td>female</td>\n",
       "      <td>38.0</td>\n",
       "      <td>1</td>\n",
       "      <td>0</td>\n",
       "      <td>71.2833</td>\n",
       "      <td>C</td>\n",
       "      <td>First</td>\n",
       "      <td>woman</td>\n",
       "      <td>False</td>\n",
       "      <td>C</td>\n",
       "      <td>Cherbourg</td>\n",
       "      <td>yes</td>\n",
       "      <td>False</td>\n",
       "    </tr>\n",
       "    <tr>\n",
       "      <th>2</th>\n",
       "      <td>1</td>\n",
       "      <td>3</td>\n",
       "      <td>female</td>\n",
       "      <td>26.0</td>\n",
       "      <td>0</td>\n",
       "      <td>0</td>\n",
       "      <td>7.9250</td>\n",
       "      <td>S</td>\n",
       "      <td>Third</td>\n",
       "      <td>woman</td>\n",
       "      <td>False</td>\n",
       "      <td>NaN</td>\n",
       "      <td>Southampton</td>\n",
       "      <td>yes</td>\n",
       "      <td>True</td>\n",
       "    </tr>\n",
       "    <tr>\n",
       "      <th>3</th>\n",
       "      <td>1</td>\n",
       "      <td>1</td>\n",
       "      <td>female</td>\n",
       "      <td>35.0</td>\n",
       "      <td>1</td>\n",
       "      <td>0</td>\n",
       "      <td>53.1000</td>\n",
       "      <td>S</td>\n",
       "      <td>First</td>\n",
       "      <td>woman</td>\n",
       "      <td>False</td>\n",
       "      <td>C</td>\n",
       "      <td>Southampton</td>\n",
       "      <td>yes</td>\n",
       "      <td>False</td>\n",
       "    </tr>\n",
       "    <tr>\n",
       "      <th>4</th>\n",
       "      <td>0</td>\n",
       "      <td>3</td>\n",
       "      <td>male</td>\n",
       "      <td>35.0</td>\n",
       "      <td>0</td>\n",
       "      <td>0</td>\n",
       "      <td>8.0500</td>\n",
       "      <td>S</td>\n",
       "      <td>Third</td>\n",
       "      <td>man</td>\n",
       "      <td>True</td>\n",
       "      <td>NaN</td>\n",
       "      <td>Southampton</td>\n",
       "      <td>no</td>\n",
       "      <td>True</td>\n",
       "    </tr>\n",
       "  </tbody>\n",
       "</table>\n",
       "</div>"
      ],
      "text/plain": [
       "   survived  pclass     sex   age  sibsp  parch     fare embarked  class  \\\n",
       "0         0       3    male  22.0      1      0   7.2500        S  Third   \n",
       "1         1       1  female  38.0      1      0  71.2833        C  First   \n",
       "2         1       3  female  26.0      0      0   7.9250        S  Third   \n",
       "3         1       1  female  35.0      1      0  53.1000        S  First   \n",
       "4         0       3    male  35.0      0      0   8.0500        S  Third   \n",
       "\n",
       "     who  adult_male deck  embark_town alive  alone  \n",
       "0    man        True  NaN  Southampton    no  False  \n",
       "1  woman       False    C    Cherbourg   yes  False  \n",
       "2  woman       False  NaN  Southampton   yes   True  \n",
       "3  woman       False    C  Southampton   yes  False  \n",
       "4    man        True  NaN  Southampton    no   True  "
      ]
     },
     "execution_count": 9,
     "metadata": {},
     "output_type": "execute_result"
    }
   ],
   "source": [
    "titanic.head()"
   ]
  },
  {
   "cell_type": "code",
   "execution_count": 10,
   "id": "425fbf55-0ff3-4085-83ab-0648c91a8c7f",
   "metadata": {},
   "outputs": [
    {
     "data": {
      "text/plain": [
       "survived         0\n",
       "pclass           0\n",
       "sex              0\n",
       "age            177\n",
       "sibsp            0\n",
       "parch            0\n",
       "fare             0\n",
       "embarked         2\n",
       "class            0\n",
       "who              0\n",
       "adult_male       0\n",
       "deck           688\n",
       "embark_town      2\n",
       "alive            0\n",
       "alone            0\n",
       "dtype: int64"
      ]
     },
     "execution_count": 10,
     "metadata": {},
     "output_type": "execute_result"
    }
   ],
   "source": [
    "titanic.isnull().sum()"
   ]
  },
  {
   "cell_type": "code",
   "execution_count": 11,
   "id": "c14140e6-1381-4076-acfe-4a9126a5e332",
   "metadata": {},
   "outputs": [],
   "source": [
    "#Since we only need Categorical data, we are to dro others"
   ]
  },
  {
   "cell_type": "code",
   "execution_count": 12,
   "id": "1eee5926-d6d5-433a-89aa-5f2dd3eebda9",
   "metadata": {},
   "outputs": [],
   "source": [
    "#titanic.drop(labels = ['embarked'], axis =1, inplace=True)"
   ]
  },
  {
   "cell_type": "code",
   "execution_count": 13,
   "id": "046383d0-8a62-4b4e-bdb0-e2129aa1759c",
   "metadata": {},
   "outputs": [],
   "source": [
    "titanic.drop(labels =['age', 'deck', 'embarked'], axis =1, inplace=True)"
   ]
  },
  {
   "cell_type": "code",
   "execution_count": 14,
   "id": "91ead661-2413-444d-9fc9-5b4013d0ffbb",
   "metadata": {},
   "outputs": [],
   "source": [
    "titanic = titanic.dropna()"
   ]
  },
  {
   "cell_type": "code",
   "execution_count": 15,
   "id": "487266c2-26c9-46d8-a03d-2f9362ca7d06",
   "metadata": {},
   "outputs": [
    {
     "data": {
      "text/plain": [
       "survived       0\n",
       "pclass         0\n",
       "sex            0\n",
       "sibsp          0\n",
       "parch          0\n",
       "fare           0\n",
       "class          0\n",
       "who            0\n",
       "adult_male     0\n",
       "embark_town    0\n",
       "alive          0\n",
       "alone          0\n",
       "dtype: int64"
      ]
     },
     "execution_count": 15,
     "metadata": {},
     "output_type": "execute_result"
    }
   ],
   "source": [
    "titanic.isnull().sum()"
   ]
  },
  {
   "cell_type": "code",
   "execution_count": 16,
   "id": "ab4f4266-5a38-455b-b752-6f46af470945",
   "metadata": {},
   "outputs": [],
   "source": [
    "data = titanic[['pclass','sex','sibsp','parch','who','alone']].copy()"
   ]
  },
  {
   "cell_type": "code",
   "execution_count": 17,
   "id": "49f0d04a-3b1f-44f4-b91b-283891ac57fd",
   "metadata": {},
   "outputs": [
    {
     "data": {
      "text/html": [
       "<div>\n",
       "<style scoped>\n",
       "    .dataframe tbody tr th:only-of-type {\n",
       "        vertical-align: middle;\n",
       "    }\n",
       "\n",
       "    .dataframe tbody tr th {\n",
       "        vertical-align: top;\n",
       "    }\n",
       "\n",
       "    .dataframe thead th {\n",
       "        text-align: right;\n",
       "    }\n",
       "</style>\n",
       "<table border=\"1\" class=\"dataframe\">\n",
       "  <thead>\n",
       "    <tr style=\"text-align: right;\">\n",
       "      <th></th>\n",
       "      <th>pclass</th>\n",
       "      <th>sex</th>\n",
       "      <th>sibsp</th>\n",
       "      <th>parch</th>\n",
       "      <th>who</th>\n",
       "      <th>alone</th>\n",
       "    </tr>\n",
       "  </thead>\n",
       "  <tbody>\n",
       "    <tr>\n",
       "      <th>0</th>\n",
       "      <td>3</td>\n",
       "      <td>male</td>\n",
       "      <td>1</td>\n",
       "      <td>0</td>\n",
       "      <td>man</td>\n",
       "      <td>False</td>\n",
       "    </tr>\n",
       "    <tr>\n",
       "      <th>1</th>\n",
       "      <td>1</td>\n",
       "      <td>female</td>\n",
       "      <td>1</td>\n",
       "      <td>0</td>\n",
       "      <td>woman</td>\n",
       "      <td>False</td>\n",
       "    </tr>\n",
       "    <tr>\n",
       "      <th>2</th>\n",
       "      <td>3</td>\n",
       "      <td>female</td>\n",
       "      <td>0</td>\n",
       "      <td>0</td>\n",
       "      <td>woman</td>\n",
       "      <td>True</td>\n",
       "    </tr>\n",
       "    <tr>\n",
       "      <th>3</th>\n",
       "      <td>1</td>\n",
       "      <td>female</td>\n",
       "      <td>1</td>\n",
       "      <td>0</td>\n",
       "      <td>woman</td>\n",
       "      <td>False</td>\n",
       "    </tr>\n",
       "    <tr>\n",
       "      <th>4</th>\n",
       "      <td>3</td>\n",
       "      <td>male</td>\n",
       "      <td>0</td>\n",
       "      <td>0</td>\n",
       "      <td>man</td>\n",
       "      <td>True</td>\n",
       "    </tr>\n",
       "  </tbody>\n",
       "</table>\n",
       "</div>"
      ],
      "text/plain": [
       "   pclass     sex  sibsp  parch    who  alone\n",
       "0       3    male      1      0    man  False\n",
       "1       1  female      1      0  woman  False\n",
       "2       3  female      0      0  woman   True\n",
       "3       1  female      1      0  woman  False\n",
       "4       3    male      0      0    man   True"
      ]
     },
     "execution_count": 17,
     "metadata": {},
     "output_type": "execute_result"
    }
   ],
   "source": [
    "data.head()"
   ]
  },
  {
   "cell_type": "code",
   "execution_count": 18,
   "id": "0517d376-f2b8-468a-8e59-9167c51c3951",
   "metadata": {},
   "outputs": [
    {
     "data": {
      "text/plain": [
       "pclass    0\n",
       "sex       0\n",
       "sibsp     0\n",
       "parch     0\n",
       "who       0\n",
       "alone     0\n",
       "dtype: int64"
      ]
     },
     "execution_count": 18,
     "metadata": {},
     "output_type": "execute_result"
    }
   ],
   "source": [
    "data.isnull().sum()"
   ]
  },
  {
   "cell_type": "code",
   "execution_count": null,
   "id": "ce73ea7b-1ad0-4876-8d7f-bcebe5f70f2b",
   "metadata": {},
   "outputs": [],
   "source": []
  },
  {
   "cell_type": "code",
   "execution_count": 19,
   "id": "de0fc9a0-c7b8-4469-9eda-934eb7049b33",
   "metadata": {},
   "outputs": [],
   "source": [
    "sex = {'male':0,'female':1}"
   ]
  },
  {
   "cell_type": "code",
   "execution_count": 20,
   "id": "af4be258-6b9e-4c63-a5c8-69d024d8316a",
   "metadata": {},
   "outputs": [],
   "source": [
    "data['sex'] = data['sex'].map(sex)"
   ]
  },
  {
   "cell_type": "code",
   "execution_count": 21,
   "id": "77dabf84-8efa-420a-ac3b-84359ac58af3",
   "metadata": {},
   "outputs": [
    {
     "data": {
      "text/html": [
       "<div>\n",
       "<style scoped>\n",
       "    .dataframe tbody tr th:only-of-type {\n",
       "        vertical-align: middle;\n",
       "    }\n",
       "\n",
       "    .dataframe tbody tr th {\n",
       "        vertical-align: top;\n",
       "    }\n",
       "\n",
       "    .dataframe thead th {\n",
       "        text-align: right;\n",
       "    }\n",
       "</style>\n",
       "<table border=\"1\" class=\"dataframe\">\n",
       "  <thead>\n",
       "    <tr style=\"text-align: right;\">\n",
       "      <th></th>\n",
       "      <th>pclass</th>\n",
       "      <th>sex</th>\n",
       "      <th>sibsp</th>\n",
       "      <th>parch</th>\n",
       "      <th>who</th>\n",
       "      <th>alone</th>\n",
       "    </tr>\n",
       "  </thead>\n",
       "  <tbody>\n",
       "    <tr>\n",
       "      <th>0</th>\n",
       "      <td>3</td>\n",
       "      <td>0</td>\n",
       "      <td>1</td>\n",
       "      <td>0</td>\n",
       "      <td>man</td>\n",
       "      <td>False</td>\n",
       "    </tr>\n",
       "    <tr>\n",
       "      <th>1</th>\n",
       "      <td>1</td>\n",
       "      <td>1</td>\n",
       "      <td>1</td>\n",
       "      <td>0</td>\n",
       "      <td>woman</td>\n",
       "      <td>False</td>\n",
       "    </tr>\n",
       "    <tr>\n",
       "      <th>2</th>\n",
       "      <td>3</td>\n",
       "      <td>1</td>\n",
       "      <td>0</td>\n",
       "      <td>0</td>\n",
       "      <td>woman</td>\n",
       "      <td>True</td>\n",
       "    </tr>\n",
       "    <tr>\n",
       "      <th>3</th>\n",
       "      <td>1</td>\n",
       "      <td>1</td>\n",
       "      <td>1</td>\n",
       "      <td>0</td>\n",
       "      <td>woman</td>\n",
       "      <td>False</td>\n",
       "    </tr>\n",
       "    <tr>\n",
       "      <th>4</th>\n",
       "      <td>3</td>\n",
       "      <td>0</td>\n",
       "      <td>0</td>\n",
       "      <td>0</td>\n",
       "      <td>man</td>\n",
       "      <td>True</td>\n",
       "    </tr>\n",
       "  </tbody>\n",
       "</table>\n",
       "</div>"
      ],
      "text/plain": [
       "   pclass  sex  sibsp  parch    who  alone\n",
       "0       3    0      1      0    man  False\n",
       "1       1    1      1      0  woman  False\n",
       "2       3    1      0      0  woman   True\n",
       "3       1    1      1      0  woman  False\n",
       "4       3    0      0      0    man   True"
      ]
     },
     "execution_count": 21,
     "metadata": {},
     "output_type": "execute_result"
    }
   ],
   "source": [
    "data.head()"
   ]
  },
  {
   "cell_type": "code",
   "execution_count": null,
   "id": "4952b8c0-ca2d-4e9f-965d-2dcd245a6693",
   "metadata": {},
   "outputs": [],
   "source": []
  },
  {
   "cell_type": "code",
   "execution_count": 22,
   "id": "d7ce86a7-f02b-4e15-91c1-7e82c83def00",
   "metadata": {},
   "outputs": [],
   "source": [
    "#data.embarked"
   ]
  },
  {
   "cell_type": "code",
   "execution_count": 23,
   "id": "e94cd73c-e3f5-4b3a-9ce2-1ee6d5f0cc63",
   "metadata": {},
   "outputs": [],
   "source": [
    "who = {'man':0, 'woman':1, 'child':2}\n",
    "data['who'] = data['who'].map(who)"
   ]
  },
  {
   "cell_type": "code",
   "execution_count": 24,
   "id": "04f1f3d7-3af9-4da4-8b0f-5d5a21196ac8",
   "metadata": {},
   "outputs": [
    {
     "data": {
      "text/plain": [
       "0      0\n",
       "1      1\n",
       "2      1\n",
       "3      1\n",
       "4      0\n",
       "      ..\n",
       "886    0\n",
       "887    1\n",
       "888    1\n",
       "889    0\n",
       "890    0\n",
       "Name: who, Length: 889, dtype: int64"
      ]
     },
     "execution_count": 24,
     "metadata": {},
     "output_type": "execute_result"
    }
   ],
   "source": [
    "data.who"
   ]
  },
  {
   "cell_type": "code",
   "execution_count": 25,
   "id": "e1d50213-68b7-44e0-b7d5-43533bd0bf5b",
   "metadata": {},
   "outputs": [],
   "source": [
    "alone ={True:1, False:0}\n",
    "data['alone']= data['alone'].map(alone)"
   ]
  },
  {
   "cell_type": "code",
   "execution_count": 26,
   "id": "cb31d9d5-fbe1-4965-a9d4-dc9546f7c0b5",
   "metadata": {},
   "outputs": [
    {
     "data": {
      "text/html": [
       "<div>\n",
       "<style scoped>\n",
       "    .dataframe tbody tr th:only-of-type {\n",
       "        vertical-align: middle;\n",
       "    }\n",
       "\n",
       "    .dataframe tbody tr th {\n",
       "        vertical-align: top;\n",
       "    }\n",
       "\n",
       "    .dataframe thead th {\n",
       "        text-align: right;\n",
       "    }\n",
       "</style>\n",
       "<table border=\"1\" class=\"dataframe\">\n",
       "  <thead>\n",
       "    <tr style=\"text-align: right;\">\n",
       "      <th></th>\n",
       "      <th>pclass</th>\n",
       "      <th>sex</th>\n",
       "      <th>sibsp</th>\n",
       "      <th>parch</th>\n",
       "      <th>who</th>\n",
       "      <th>alone</th>\n",
       "    </tr>\n",
       "  </thead>\n",
       "  <tbody>\n",
       "    <tr>\n",
       "      <th>0</th>\n",
       "      <td>3</td>\n",
       "      <td>0</td>\n",
       "      <td>1</td>\n",
       "      <td>0</td>\n",
       "      <td>0</td>\n",
       "      <td>0</td>\n",
       "    </tr>\n",
       "    <tr>\n",
       "      <th>1</th>\n",
       "      <td>1</td>\n",
       "      <td>1</td>\n",
       "      <td>1</td>\n",
       "      <td>0</td>\n",
       "      <td>1</td>\n",
       "      <td>0</td>\n",
       "    </tr>\n",
       "    <tr>\n",
       "      <th>2</th>\n",
       "      <td>3</td>\n",
       "      <td>1</td>\n",
       "      <td>0</td>\n",
       "      <td>0</td>\n",
       "      <td>1</td>\n",
       "      <td>1</td>\n",
       "    </tr>\n",
       "    <tr>\n",
       "      <th>3</th>\n",
       "      <td>1</td>\n",
       "      <td>1</td>\n",
       "      <td>1</td>\n",
       "      <td>0</td>\n",
       "      <td>1</td>\n",
       "      <td>0</td>\n",
       "    </tr>\n",
       "    <tr>\n",
       "      <th>4</th>\n",
       "      <td>3</td>\n",
       "      <td>0</td>\n",
       "      <td>0</td>\n",
       "      <td>0</td>\n",
       "      <td>0</td>\n",
       "      <td>1</td>\n",
       "    </tr>\n",
       "  </tbody>\n",
       "</table>\n",
       "</div>"
      ],
      "text/plain": [
       "   pclass  sex  sibsp  parch  who  alone\n",
       "0       3    0      1      0    0      0\n",
       "1       1    1      1      0    1      0\n",
       "2       3    1      0      0    1      1\n",
       "3       1    1      1      0    1      0\n",
       "4       3    0      0      0    0      1"
      ]
     },
     "execution_count": 26,
     "metadata": {},
     "output_type": "execute_result"
    }
   ],
   "source": [
    "data.head()"
   ]
  },
  {
   "cell_type": "code",
   "execution_count": null,
   "id": "3823d25d-dac7-4b7c-be7a-bc7c524bdd3c",
   "metadata": {},
   "outputs": [],
   "source": []
  },
  {
   "cell_type": "markdown",
   "id": "22555376-6eab-4b0e-9f84-64beaed3fce9",
   "metadata": {},
   "source": [
    "    **LETS DO F-TEST**"
   ]
  },
  {
   "cell_type": "code",
   "execution_count": 27,
   "id": "37ea8cbd-7058-49d9-ab4e-3984ad7e79fd",
   "metadata": {},
   "outputs": [],
   "source": [
    "X = data.copy()\n",
    "y = titanic['survived']"
   ]
  },
  {
   "cell_type": "code",
   "execution_count": 28,
   "id": "db97e89e-974f-45aa-a296-c3c77c10fbfe",
   "metadata": {},
   "outputs": [
    {
     "data": {
      "text/plain": [
       "((889, 6), (889,))"
      ]
     },
     "execution_count": 28,
     "metadata": {},
     "output_type": "execute_result"
    }
   ],
   "source": [
    "X.shape, y.shape"
   ]
  },
  {
   "cell_type": "code",
   "execution_count": 29,
   "id": "57ed4b2b-e796-45a0-9ab5-15eb9448f4be",
   "metadata": {},
   "outputs": [],
   "source": [
    "X_train, X_test, y_train, y_test = train_test_split(X,y, test_size = 0.2, random_state =0)"
   ]
  },
  {
   "cell_type": "code",
   "execution_count": 30,
   "id": "bd3b996c-6d8d-41e4-9060-774c3809ae48",
   "metadata": {},
   "outputs": [],
   "source": [
    "f_score = chi2(X_train, y_train)"
   ]
  },
  {
   "cell_type": "code",
   "execution_count": 31,
   "id": "81b4e7a9-032c-4ff2-b5a4-1e87cf694150",
   "metadata": {},
   "outputs": [
    {
     "data": {
      "text/plain": [
       "(array([ 22.65169202, 152.91534343,   0.52934285,  10.35663782,\n",
       "        161.42431175,  13.4382363 ]),\n",
       " array([1.94189138e-06, 3.99737147e-35, 4.66883271e-01, 1.29009955e-03,\n",
       "        5.52664700e-37, 2.46547298e-04]))"
      ]
     },
     "execution_count": 31,
     "metadata": {},
     "output_type": "execute_result"
    }
   ],
   "source": [
    "f_score"
   ]
  },
  {
   "cell_type": "code",
   "execution_count": 32,
   "id": "aa513450-363b-4adf-bacd-91188e99c391",
   "metadata": {},
   "outputs": [],
   "source": [
    "p_values = pd.Series(f_score[1], index = X_train.columns)\n",
    "p_values.sort_values(ascending = True, inplace=True)"
   ]
  },
  {
   "cell_type": "code",
   "execution_count": 33,
   "id": "46982931-546c-409e-9612-0cbcf3086489",
   "metadata": {},
   "outputs": [
    {
     "data": {
      "text/plain": [
       "who       5.526647e-37\n",
       "sex       3.997371e-35\n",
       "pclass    1.941891e-06\n",
       "alone     2.465473e-04\n",
       "parch     1.290100e-03\n",
       "sibsp     4.668833e-01\n",
       "dtype: float64"
      ]
     },
     "execution_count": 33,
     "metadata": {},
     "output_type": "execute_result"
    }
   ],
   "source": [
    "p_values"
   ]
  },
  {
   "cell_type": "code",
   "execution_count": 34,
   "id": "b73b8a90-2294-4463-8d1a-2bf07f9e39f4",
   "metadata": {},
   "outputs": [
    {
     "data": {
      "text/plain": [
       "<AxesSubplot:>"
      ]
     },
     "execution_count": 34,
     "metadata": {},
     "output_type": "execute_result"
    },
    {
     "data": {
      "image/png": "[encoded data removed]",
      "text/plain": [
       "<Figure size 640x480 with 1 Axes>"
      ]
     },
     "metadata": {},
     "output_type": "display_data"
    }
   ],
   "source": [
    "p_values.plot.bar()"
   ]
  },
  {
   "cell_type": "code",
   "execution_count": 35,
   "id": "92d2821c-a6c3-4d5e-bbbd-37e8311f61b5",
   "metadata": {},
   "outputs": [],
   "source": [
    "X_train_2 = X_train[['who', 'sex']]\n",
    "X_test_2 = X_test[['who', 'sex']]"
   ]
  },
  {
   "cell_type": "code",
   "execution_count": 36,
   "id": "9ee5179f-33ea-43b6-b175-1602231ad814",
   "metadata": {},
   "outputs": [],
   "source": [
    "def run_RandomForest(X_train,X_test,y_train,y_test):\n",
    "    clf = RandomForestClassifier(n_estimators=100, random_state=0,n_jobs=-1)\n",
    "    clf.fit(X_train, y_train)\n",
    "    y_pred = clf.predict(X_test)\n",
    "    print('Accuracy: ', accuracy_score(y_test,y_pred))\n"
   ]
  },
  {
   "cell_type": "code",
   "execution_count": 37,
   "id": "90d86efe-12c3-4c3b-9279-ea22b2c17be1",
   "metadata": {},
   "outputs": [
    {
     "name": "stdout",
     "output_type": "stream",
     "text": [
      "Accuracy:  0.7191011235955056\n",
      "Wall time: 292 ms\n"
     ]
    }
   ],
   "source": [
    "%%time\n",
    "run_RandomForest(X_train_2,X_test_2,y_train,y_test)"
   ]
  },
  {
   "cell_type": "code",
   "execution_count": 38,
   "id": "dc82302a-5726-4fa8-8db8-97d52bc7a8e2",
   "metadata": {},
   "outputs": [],
   "source": [
    "X_train_3 = X_train[['who', 'sex', 'pclass']]\n",
    "X_test_3 = X_test[['who', 'sex','pclass']]"
   ]
  },
  {
   "cell_type": "code",
   "execution_count": 39,
   "id": "823e5661-ba80-43bb-9840-82267f127d22",
   "metadata": {},
   "outputs": [
    {
     "name": "stdout",
     "output_type": "stream",
     "text": [
      "Accuracy:  0.7415730337078652\n",
      "Wall time: 316 ms\n"
     ]
    }
   ],
   "source": [
    "%%time\n",
    "run_RandomForest(X_train_3,X_test_3,y_train,y_test)"
   ]
  },
  {
   "cell_type": "code",
   "execution_count": 40,
   "id": "7519fbce-fd9c-4d84-9c88-1254be87e941",
   "metadata": {},
   "outputs": [],
   "source": [
    "#From the above, whe 3 features were selected we have accurracy of 74%"
   ]
  },
  {
   "cell_type": "code",
   "execution_count": 41,
   "id": "af4c3694-0919-4119-b0f2-33ad7a8f21c2",
   "metadata": {},
   "outputs": [],
   "source": [
    "X_train_4 = X_train[['who', 'sex', 'pclass','sibsp']]\n",
    "X_test_4 = X_test[['who', 'sex','pclass','sibsp']]"
   ]
  },
  {
   "cell_type": "code",
   "execution_count": 42,
   "id": "e1e6235f-de08-497f-a9b9-55a2610eb5bd",
   "metadata": {},
   "outputs": [
    {
     "name": "stdout",
     "output_type": "stream",
     "text": [
      "Accuracy:  0.7471910112359551\n",
      "Wall time: 276 ms\n"
     ]
    }
   ],
   "source": [
    "%%time\n",
    "run_RandomForest(X_train_4,X_test_4,y_train,y_test)"
   ]
  },
  {
   "cell_type": "code",
   "execution_count": 43,
   "id": "03c6306f-7121-48c3-8502-73f5439c9ef7",
   "metadata": {},
   "outputs": [],
   "source": [
    "X_train_5 = X_train[['who', 'sex', 'pclass','alone']]\n",
    "X_test_5 = X_test[['who', 'sex','pclass','alone']]"
   ]
  },
  {
   "cell_type": "code",
   "execution_count": 44,
   "id": "7e959c4d-2617-4b50-a359-c182ba2d8d85",
   "metadata": {},
   "outputs": [
    {
     "name": "stdout",
     "output_type": "stream",
     "text": [
      "Accuracy:  0.7528089887640449\n",
      "Wall time: 271 ms\n"
     ]
    }
   ],
   "source": [
    "%%time\n",
    "run_RandomForest(X_train_5,X_test_5,y_train,y_test)"
   ]
  },
  {
   "cell_type": "code",
   "execution_count": null,
   "id": "8498b3cc-05c4-45aa-8397-c1732419d3d1",
   "metadata": {},
   "outputs": [],
   "source": []
  },
  {
   "cell_type": "code",
   "execution_count": 45,
   "id": "7b1e0fad-08e7-4b76-86eb-ea7855d73d5c",
   "metadata": {},
   "outputs": [],
   "source": [
    "#Lets use all the features to see the accuracy"
   ]
  },
  {
   "cell_type": "code",
   "execution_count": null,
   "id": "7b722dd8-57b2-4c7f-bdff-e1b118217355",
   "metadata": {},
   "outputs": [],
   "source": []
  },
  {
   "cell_type": "code",
   "execution_count": 46,
   "id": "d2f1752a-e5b3-45ef-8683-d1e39f79461a",
   "metadata": {},
   "outputs": [
    {
     "name": "stdout",
     "output_type": "stream",
     "text": [
      "Accuracy:  0.7415730337078652\n",
      "Wall time: 272 ms\n"
     ]
    }
   ],
   "source": [
    "%%time\n",
    "run_RandomForest(X_train,X_test,y_train,y_test)"
   ]
  },
  {
   "cell_type": "markdown",
   "id": "b19330af-049c-48bb-90b9-e248375696fd",
   "metadata": {},
   "source": [
    "#**From the above we got around 2% higher accuracy when lesser features are selectyed.\n",
    "and it also reduced the training time very important during bog data**#"
   ]
  },
  {
   "cell_type": "code",
   "execution_count": null,
   "id": "883cedc2-e2ce-40fb-a681-70dd23bff980",
   "metadata": {},
   "outputs": [],
   "source": []
  },
  {
   "cell_type": "code",
   "execution_count": null,
   "id": "9ec5ef64-4684-45fa-9af4-231e1ed8c5af",
   "metadata": {},
   "outputs": [],
   "source": []
  },
  {
   "cell_type": "code",
   "execution_count": null,
   "id": "7806e46e-cca4-4d7a-8fc6-e83ffcccbf27",
   "metadata": {},
   "outputs": [],
   "source": []
  },
  {
   "cell_type": "markdown",
   "id": "7ad06ae3-5770-483b-a6a0-3d88334928a4",
   "metadata": {},
   "source": [
    "FEATURE DIMENSIONAL REDUCTION USING LDA AND PCA "
   ]
  },
  {
   "cell_type": "markdown",
   "id": "3e00a345-4019-4be2-bc9e-4cd528f23e04",
   "metadata": {},
   "source": [
    "Dimensionality Reduction with PCA and LDA Using\n",
    "Sklearn\n",
    "Dimensionality reduction refers to reducing the number of features in a dataset in\n",
    "such a way that the overall performance of the algorithms trained on the dataset is\n",
    "minimally affected. With dimensionality reduction, the training time of statistical\n",
    "algorithms can be significantly reduced, and data can be visualized more easily\n",
    "since it is not easy to visualize datasets in higher dimensions.\n",
    "There are two main approaches used for dimensionality reduction: Principal\n",
    "Component Analysis (PCA) and Linear Discriminant Analysis (LDA). In this\n",
    "chapter, you will study both of them.\n"
   ]
  },
  {
   "cell_type": "markdown",
   "id": "d8d28610-dd36-4191-853b-a7f85536c4f5",
   "metadata": {},
   "source": [
    "10.1. Principal Component Analysis\n",
    "Principal component analysis is an unsupervised dimensionality reduction\n",
    "technique that doesn’t depend on the labels of a dataset. Principal component\n",
    "analysis prioritizes features on the basis of their ability to cause maximum variance\n",
    "in the output. PRINCIPAL COMPONENT ANALYSIS (PCA): It is a linear dimensionality reduction technique that can be utilized for extracting information from a high-dimensional space by projecting it into a lower-dimensional sub-space. it tries to preserve the essential parts that have more variation of the data and remove the non-essential parts with viewer variations. \n",
    "\n",
    "Dimensions are nothing but feature that represent the data.For example. A 28 X 28 image has 784 picture elements (pixels) that are the dimensions or features that represent that image.\n",
    "The idea behind PCA is to capture those features that contain\n",
    "maximum features about the dataset. The feature that causes the maximum variance\n",
    "in the output is called the first principal component, the feature that causes the\n",
    "second-highest variance is called the second principal component, and so on.\n",
    "§ Why Use PCA?\n",
    "The following are the advantages of PCA:\n",
    "1. Correlated features can be detected and removed using PCA\n",
    "2. Reduces overfitting because of reduction in the number of features\n",
    "3. Model training can be expedited.\n",
    "§ Disadvantages of PCA\n",
    "There are two major disadvantages of PCA:\n",
    "1. You need to standardize the data before you apply PCA\n",
    "2. The independent variable becomes less integrable\n",
    "3. Some amount of information is lost when you reduce features."
   ]
  },
  {
   "cell_type": "markdown",
   "id": "3a6bbe76-82a0-4dd9-8c59-0b98208c8421",
   "metadata": {},
   "source": [
    "LINEAR DISCRIMINANT ANALYSIS (LDA): It is a supervised algorithm as it takes the class label into consideration. it is a way to reduce dimensionality while at the same time preserving as much class discrimination as possible. LDA finds a centroid of each class datapoints. it finds two points which must meet the conditions below:\n",
    "1. Maximize the distance between the centroid of each class\n",
    "2. Minimize the variation(which LDA calls scatter and is represented by s2) within each category.\n",
    "\n",
    "The following are the advantages of LDA:\n",
    "1. Reduces overfitting because of reduction in the number of features\n",
    "2. Model training can be expedited.\n",
    "§ Disadvantages of LDA\n",
    "There are three major disadvantages of LDA:\n",
    "1. Not able to detect correlated features\n",
    "2. Cannot be used with unsupervised or unlabeled data\n",
    "3. Some amount of information is lost when you reduce features."
   ]
  },
  {
   "cell_type": "code",
   "execution_count": null,
   "id": "b09e305f-5bb4-4813-b810-acbe133ee57d",
   "metadata": {},
   "outputs": [],
   "source": []
  },
  {
   "cell_type": "code",
   "execution_count": null,
   "id": "e23ee5b9-555f-4894-8970-b8ce7415852d",
   "metadata": {},
   "outputs": [],
   "source": []
  },
  {
   "cell_type": "markdown",
   "id": "64f77ffe-b458-4efe-b895-91d2092d6aaf",
   "metadata": {},
   "source": [
    "§ Implementing PCA with Python’s Sklearn Library\n",
    "In this section, you will see how to use PCA to select two of the most important\n",
    "features in the Iris dataset using the Sklearn library. The following script imports\n",
    "the required libraries:"
   ]
  },
  {
   "cell_type": "markdown",
   "id": "6a071e96-fd24-4b62-9956-1d37880f687b",
   "metadata": {},
   "source": [
    "When to use pca:\n",
    "    Data Visualization\n",
    "    Speeding Machine Learning Algorithim\n",
    "    "
   ]
  },
  {
   "cell_type": "code",
   "execution_count": 47,
   "id": "605da183-f94a-43cc-a736-9ba618c45197",
   "metadata": {},
   "outputs": [],
   "source": [
    "import pandas as pd\n",
    "import numpy as np\n",
    "import seaborn as sns\n",
    "import matplotlib.pyplot as plt\n",
    "%matplotlib inline"
   ]
  },
  {
   "cell_type": "code",
   "execution_count": 48,
   "id": "0f7dc376-87f0-4af7-999c-be614081fc03",
   "metadata": {},
   "outputs": [],
   "source": [
    "from sklearn.model_selection import train_test_split\n",
    "from sklearn.ensemble import RandomForestClassifier\n",
    "from sklearn.metrics import accuracy_score, roc_auc_score\n",
    "from sklearn.feature_selection import VarianceThreshold\n",
    "from sklearn.preprocessing import StandardScaler"
   ]
  },
  {
   "cell_type": "code",
   "execution_count": 49,
   "id": "2e6ed457-d542-44a3-89a8-f0083ab10386",
   "metadata": {},
   "outputs": [
    {
     "data": {
      "text/html": [
       "<div>\n",
       "<style scoped>\n",
       "    .dataframe tbody tr th:only-of-type {\n",
       "        vertical-align: middle;\n",
       "    }\n",
       "\n",
       "    .dataframe tbody tr th {\n",
       "        vertical-align: top;\n",
       "    }\n",
       "\n",
       "    .dataframe thead th {\n",
       "        text-align: right;\n",
       "    }\n",
       "</style>\n",
       "<table border=\"1\" class=\"dataframe\">\n",
       "  <thead>\n",
       "    <tr style=\"text-align: right;\">\n",
       "      <th></th>\n",
       "      <th>ID</th>\n",
       "      <th>var3</th>\n",
       "      <th>var15</th>\n",
       "      <th>imp_ent_var16_ult1</th>\n",
       "      <th>imp_op_var39_comer_ult1</th>\n",
       "      <th>imp_op_var39_comer_ult3</th>\n",
       "      <th>imp_op_var40_comer_ult1</th>\n",
       "      <th>imp_op_var40_comer_ult3</th>\n",
       "      <th>imp_op_var40_efect_ult1</th>\n",
       "      <th>imp_op_var40_efect_ult3</th>\n",
       "      <th>...</th>\n",
       "      <th>saldo_medio_var29_ult3</th>\n",
       "      <th>saldo_medio_var33_hace2</th>\n",
       "      <th>saldo_medio_var33_hace3</th>\n",
       "      <th>saldo_medio_var33_ult1</th>\n",
       "      <th>saldo_medio_var33_ult3</th>\n",
       "      <th>saldo_medio_var44_hace2</th>\n",
       "      <th>saldo_medio_var44_hace3</th>\n",
       "      <th>saldo_medio_var44_ult1</th>\n",
       "      <th>saldo_medio_var44_ult3</th>\n",
       "      <th>var38</th>\n",
       "    </tr>\n",
       "  </thead>\n",
       "  <tbody>\n",
       "    <tr>\n",
       "      <th>0</th>\n",
       "      <td>2</td>\n",
       "      <td>2</td>\n",
       "      <td>32</td>\n",
       "      <td>0.0</td>\n",
       "      <td>0.0</td>\n",
       "      <td>0.0</td>\n",
       "      <td>0.0</td>\n",
       "      <td>0.0</td>\n",
       "      <td>0</td>\n",
       "      <td>0</td>\n",
       "      <td>...</td>\n",
       "      <td>0</td>\n",
       "      <td>0.0</td>\n",
       "      <td>0.0</td>\n",
       "      <td>0.0</td>\n",
       "      <td>0.0</td>\n",
       "      <td>0.0</td>\n",
       "      <td>0.0</td>\n",
       "      <td>0.0</td>\n",
       "      <td>0.0</td>\n",
       "      <td>40532.10</td>\n",
       "    </tr>\n",
       "    <tr>\n",
       "      <th>1</th>\n",
       "      <td>5</td>\n",
       "      <td>2</td>\n",
       "      <td>35</td>\n",
       "      <td>0.0</td>\n",
       "      <td>0.0</td>\n",
       "      <td>0.0</td>\n",
       "      <td>0.0</td>\n",
       "      <td>0.0</td>\n",
       "      <td>0</td>\n",
       "      <td>0</td>\n",
       "      <td>...</td>\n",
       "      <td>0</td>\n",
       "      <td>0.0</td>\n",
       "      <td>0.0</td>\n",
       "      <td>0.0</td>\n",
       "      <td>0.0</td>\n",
       "      <td>0.0</td>\n",
       "      <td>0.0</td>\n",
       "      <td>0.0</td>\n",
       "      <td>0.0</td>\n",
       "      <td>45486.72</td>\n",
       "    </tr>\n",
       "    <tr>\n",
       "      <th>2</th>\n",
       "      <td>6</td>\n",
       "      <td>2</td>\n",
       "      <td>23</td>\n",
       "      <td>0.0</td>\n",
       "      <td>0.0</td>\n",
       "      <td>0.0</td>\n",
       "      <td>0.0</td>\n",
       "      <td>0.0</td>\n",
       "      <td>0</td>\n",
       "      <td>0</td>\n",
       "      <td>...</td>\n",
       "      <td>0</td>\n",
       "      <td>0.0</td>\n",
       "      <td>0.0</td>\n",
       "      <td>0.0</td>\n",
       "      <td>0.0</td>\n",
       "      <td>0.0</td>\n",
       "      <td>0.0</td>\n",
       "      <td>0.0</td>\n",
       "      <td>0.0</td>\n",
       "      <td>46993.95</td>\n",
       "    </tr>\n",
       "    <tr>\n",
       "      <th>3</th>\n",
       "      <td>7</td>\n",
       "      <td>2</td>\n",
       "      <td>24</td>\n",
       "      <td>0.0</td>\n",
       "      <td>0.0</td>\n",
       "      <td>0.0</td>\n",
       "      <td>0.0</td>\n",
       "      <td>0.0</td>\n",
       "      <td>0</td>\n",
       "      <td>0</td>\n",
       "      <td>...</td>\n",
       "      <td>0</td>\n",
       "      <td>0.0</td>\n",
       "      <td>0.0</td>\n",
       "      <td>0.0</td>\n",
       "      <td>0.0</td>\n",
       "      <td>0.0</td>\n",
       "      <td>0.0</td>\n",
       "      <td>0.0</td>\n",
       "      <td>0.0</td>\n",
       "      <td>187898.61</td>\n",
       "    </tr>\n",
       "    <tr>\n",
       "      <th>4</th>\n",
       "      <td>9</td>\n",
       "      <td>2</td>\n",
       "      <td>23</td>\n",
       "      <td>0.0</td>\n",
       "      <td>0.0</td>\n",
       "      <td>0.0</td>\n",
       "      <td>0.0</td>\n",
       "      <td>0.0</td>\n",
       "      <td>0</td>\n",
       "      <td>0</td>\n",
       "      <td>...</td>\n",
       "      <td>0</td>\n",
       "      <td>0.0</td>\n",
       "      <td>0.0</td>\n",
       "      <td>0.0</td>\n",
       "      <td>0.0</td>\n",
       "      <td>0.0</td>\n",
       "      <td>0.0</td>\n",
       "      <td>0.0</td>\n",
       "      <td>0.0</td>\n",
       "      <td>73649.73</td>\n",
       "    </tr>\n",
       "  </tbody>\n",
       "</table>\n",
       "<p>5 rows × 370 columns</p>\n",
       "</div>"
      ],
      "text/plain": [
       "   ID  var3  var15  imp_ent_var16_ult1  imp_op_var39_comer_ult1  \\\n",
       "0   2     2     32                 0.0                      0.0   \n",
       "1   5     2     35                 0.0                      0.0   \n",
       "2   6     2     23                 0.0                      0.0   \n",
       "3   7     2     24                 0.0                      0.0   \n",
       "4   9     2     23                 0.0                      0.0   \n",
       "\n",
       "   imp_op_var39_comer_ult3  imp_op_var40_comer_ult1  imp_op_var40_comer_ult3  \\\n",
       "0                      0.0                      0.0                      0.0   \n",
       "1                      0.0                      0.0                      0.0   \n",
       "2                      0.0                      0.0                      0.0   \n",
       "3                      0.0                      0.0                      0.0   \n",
       "4                      0.0                      0.0                      0.0   \n",
       "\n",
       "   imp_op_var40_efect_ult1  imp_op_var40_efect_ult3  ...  \\\n",
       "0                        0                        0  ...   \n",
       "1                        0                        0  ...   \n",
       "2                        0                        0  ...   \n",
       "3                        0                        0  ...   \n",
       "4                        0                        0  ...   \n",
       "\n",
       "   saldo_medio_var29_ult3  saldo_medio_var33_hace2  saldo_medio_var33_hace3  \\\n",
       "0                       0                      0.0                      0.0   \n",
       "1                       0                      0.0                      0.0   \n",
       "2                       0                      0.0                      0.0   \n",
       "3                       0                      0.0                      0.0   \n",
       "4                       0                      0.0                      0.0   \n",
       "\n",
       "   saldo_medio_var33_ult1  saldo_medio_var33_ult3  saldo_medio_var44_hace2  \\\n",
       "0                     0.0                     0.0                      0.0   \n",
       "1                     0.0                     0.0                      0.0   \n",
       "2                     0.0                     0.0                      0.0   \n",
       "3                     0.0                     0.0                      0.0   \n",
       "4                     0.0                     0.0                      0.0   \n",
       "\n",
       "   saldo_medio_var44_hace3  saldo_medio_var44_ult1  saldo_medio_var44_ult3  \\\n",
       "0                      0.0                     0.0                     0.0   \n",
       "1                      0.0                     0.0                     0.0   \n",
       "2                      0.0                     0.0                     0.0   \n",
       "3                      0.0                     0.0                     0.0   \n",
       "4                      0.0                     0.0                     0.0   \n",
       "\n",
       "       var38  \n",
       "0   40532.10  \n",
       "1   45486.72  \n",
       "2   46993.95  \n",
       "3  187898.61  \n",
       "4   73649.73  \n",
       "\n",
       "[5 rows x 370 columns]"
      ]
     },
     "execution_count": 49,
     "metadata": {},
     "output_type": "execute_result"
    }
   ],
   "source": [
    "data2 = pd.read_csv('santander-test.csv', nrows = 20000)\n",
    "data2.head()"
   ]
  },
  {
   "cell_type": "code",
   "execution_count": 50,
   "id": "bbb2a4ea-1f17-4ae9-ba53-c18d7931ac55",
   "metadata": {},
   "outputs": [
    {
     "data": {
      "text/html": [
       "<div>\n",
       "<style scoped>\n",
       "    .dataframe tbody tr th:only-of-type {\n",
       "        vertical-align: middle;\n",
       "    }\n",
       "\n",
       "    .dataframe tbody tr th {\n",
       "        vertical-align: top;\n",
       "    }\n",
       "\n",
       "    .dataframe thead th {\n",
       "        text-align: right;\n",
       "    }\n",
       "</style>\n",
       "<table border=\"1\" class=\"dataframe\">\n",
       "  <thead>\n",
       "    <tr style=\"text-align: right;\">\n",
       "      <th></th>\n",
       "      <th>ID</th>\n",
       "      <th>var3</th>\n",
       "      <th>var15</th>\n",
       "      <th>imp_ent_var16_ult1</th>\n",
       "      <th>imp_op_var39_comer_ult1</th>\n",
       "      <th>imp_op_var39_comer_ult3</th>\n",
       "      <th>imp_op_var40_comer_ult1</th>\n",
       "      <th>imp_op_var40_comer_ult3</th>\n",
       "      <th>imp_op_var40_efect_ult1</th>\n",
       "      <th>imp_op_var40_efect_ult3</th>\n",
       "      <th>...</th>\n",
       "      <th>saldo_medio_var33_hace2</th>\n",
       "      <th>saldo_medio_var33_hace3</th>\n",
       "      <th>saldo_medio_var33_ult1</th>\n",
       "      <th>saldo_medio_var33_ult3</th>\n",
       "      <th>saldo_medio_var44_hace2</th>\n",
       "      <th>saldo_medio_var44_hace3</th>\n",
       "      <th>saldo_medio_var44_ult1</th>\n",
       "      <th>saldo_medio_var44_ult3</th>\n",
       "      <th>var38</th>\n",
       "      <th>TARGET</th>\n",
       "    </tr>\n",
       "  </thead>\n",
       "  <tbody>\n",
       "    <tr>\n",
       "      <th>0</th>\n",
       "      <td>1</td>\n",
       "      <td>2</td>\n",
       "      <td>23</td>\n",
       "      <td>0.0</td>\n",
       "      <td>0.0</td>\n",
       "      <td>0.0</td>\n",
       "      <td>0.0</td>\n",
       "      <td>0.0</td>\n",
       "      <td>0</td>\n",
       "      <td>0</td>\n",
       "      <td>...</td>\n",
       "      <td>0.0</td>\n",
       "      <td>0.0</td>\n",
       "      <td>0.0</td>\n",
       "      <td>0.0</td>\n",
       "      <td>0.0</td>\n",
       "      <td>0.0</td>\n",
       "      <td>0.0</td>\n",
       "      <td>0.0</td>\n",
       "      <td>39205.170000</td>\n",
       "      <td>0</td>\n",
       "    </tr>\n",
       "    <tr>\n",
       "      <th>1</th>\n",
       "      <td>3</td>\n",
       "      <td>2</td>\n",
       "      <td>34</td>\n",
       "      <td>0.0</td>\n",
       "      <td>0.0</td>\n",
       "      <td>0.0</td>\n",
       "      <td>0.0</td>\n",
       "      <td>0.0</td>\n",
       "      <td>0</td>\n",
       "      <td>0</td>\n",
       "      <td>...</td>\n",
       "      <td>0.0</td>\n",
       "      <td>0.0</td>\n",
       "      <td>0.0</td>\n",
       "      <td>0.0</td>\n",
       "      <td>0.0</td>\n",
       "      <td>0.0</td>\n",
       "      <td>0.0</td>\n",
       "      <td>0.0</td>\n",
       "      <td>49278.030000</td>\n",
       "      <td>0</td>\n",
       "    </tr>\n",
       "    <tr>\n",
       "      <th>2</th>\n",
       "      <td>4</td>\n",
       "      <td>2</td>\n",
       "      <td>23</td>\n",
       "      <td>0.0</td>\n",
       "      <td>0.0</td>\n",
       "      <td>0.0</td>\n",
       "      <td>0.0</td>\n",
       "      <td>0.0</td>\n",
       "      <td>0</td>\n",
       "      <td>0</td>\n",
       "      <td>...</td>\n",
       "      <td>0.0</td>\n",
       "      <td>0.0</td>\n",
       "      <td>0.0</td>\n",
       "      <td>0.0</td>\n",
       "      <td>0.0</td>\n",
       "      <td>0.0</td>\n",
       "      <td>0.0</td>\n",
       "      <td>0.0</td>\n",
       "      <td>67333.770000</td>\n",
       "      <td>0</td>\n",
       "    </tr>\n",
       "    <tr>\n",
       "      <th>3</th>\n",
       "      <td>8</td>\n",
       "      <td>2</td>\n",
       "      <td>37</td>\n",
       "      <td>0.0</td>\n",
       "      <td>195.0</td>\n",
       "      <td>195.0</td>\n",
       "      <td>0.0</td>\n",
       "      <td>0.0</td>\n",
       "      <td>0</td>\n",
       "      <td>0</td>\n",
       "      <td>...</td>\n",
       "      <td>0.0</td>\n",
       "      <td>0.0</td>\n",
       "      <td>0.0</td>\n",
       "      <td>0.0</td>\n",
       "      <td>0.0</td>\n",
       "      <td>0.0</td>\n",
       "      <td>0.0</td>\n",
       "      <td>0.0</td>\n",
       "      <td>64007.970000</td>\n",
       "      <td>0</td>\n",
       "    </tr>\n",
       "    <tr>\n",
       "      <th>4</th>\n",
       "      <td>10</td>\n",
       "      <td>2</td>\n",
       "      <td>39</td>\n",
       "      <td>0.0</td>\n",
       "      <td>0.0</td>\n",
       "      <td>0.0</td>\n",
       "      <td>0.0</td>\n",
       "      <td>0.0</td>\n",
       "      <td>0</td>\n",
       "      <td>0</td>\n",
       "      <td>...</td>\n",
       "      <td>0.0</td>\n",
       "      <td>0.0</td>\n",
       "      <td>0.0</td>\n",
       "      <td>0.0</td>\n",
       "      <td>0.0</td>\n",
       "      <td>0.0</td>\n",
       "      <td>0.0</td>\n",
       "      <td>0.0</td>\n",
       "      <td>117310.979016</td>\n",
       "      <td>0</td>\n",
       "    </tr>\n",
       "  </tbody>\n",
       "</table>\n",
       "<p>5 rows × 371 columns</p>\n",
       "</div>"
      ],
      "text/plain": [
       "   ID  var3  var15  imp_ent_var16_ult1  imp_op_var39_comer_ult1  \\\n",
       "0   1     2     23                 0.0                      0.0   \n",
       "1   3     2     34                 0.0                      0.0   \n",
       "2   4     2     23                 0.0                      0.0   \n",
       "3   8     2     37                 0.0                    195.0   \n",
       "4  10     2     39                 0.0                      0.0   \n",
       "\n",
       "   imp_op_var39_comer_ult3  imp_op_var40_comer_ult1  imp_op_var40_comer_ult3  \\\n",
       "0                      0.0                      0.0                      0.0   \n",
       "1                      0.0                      0.0                      0.0   \n",
       "2                      0.0                      0.0                      0.0   \n",
       "3                    195.0                      0.0                      0.0   \n",
       "4                      0.0                      0.0                      0.0   \n",
       "\n",
       "   imp_op_var40_efect_ult1  imp_op_var40_efect_ult3  ...  \\\n",
       "0                        0                        0  ...   \n",
       "1                        0                        0  ...   \n",
       "2                        0                        0  ...   \n",
       "3                        0                        0  ...   \n",
       "4                        0                        0  ...   \n",
       "\n",
       "   saldo_medio_var33_hace2  saldo_medio_var33_hace3  saldo_medio_var33_ult1  \\\n",
       "0                      0.0                      0.0                     0.0   \n",
       "1                      0.0                      0.0                     0.0   \n",
       "2                      0.0                      0.0                     0.0   \n",
       "3                      0.0                      0.0                     0.0   \n",
       "4                      0.0                      0.0                     0.0   \n",
       "\n",
       "   saldo_medio_var33_ult3  saldo_medio_var44_hace2  saldo_medio_var44_hace3  \\\n",
       "0                     0.0                      0.0                      0.0   \n",
       "1                     0.0                      0.0                      0.0   \n",
       "2                     0.0                      0.0                      0.0   \n",
       "3                     0.0                      0.0                      0.0   \n",
       "4                     0.0                      0.0                      0.0   \n",
       "\n",
       "   saldo_medio_var44_ult1  saldo_medio_var44_ult3          var38  TARGET  \n",
       "0                     0.0                     0.0   39205.170000       0  \n",
       "1                     0.0                     0.0   49278.030000       0  \n",
       "2                     0.0                     0.0   67333.770000       0  \n",
       "3                     0.0                     0.0   64007.970000       0  \n",
       "4                     0.0                     0.0  117310.979016       0  \n",
       "\n",
       "[5 rows x 371 columns]"
      ]
     },
     "execution_count": 50,
     "metadata": {},
     "output_type": "execute_result"
    }
   ],
   "source": [
    "data = pd.read_csv('santander-train.csv', nrows = 20000)\n",
    "data.head()"
   ]
  },
  {
   "cell_type": "code",
   "execution_count": 51,
   "id": "eb49bb39-10d1-42ed-92e5-c926e1fd742f",
   "metadata": {},
   "outputs": [
    {
     "data": {
      "text/plain": [
       "((20000, 370), (20000,))"
      ]
     },
     "execution_count": 51,
     "metadata": {},
     "output_type": "execute_result"
    }
   ],
   "source": [
    "X = data.drop('TARGET', axis =1)\n",
    "y = data['TARGET']\n",
    "X.shape, y.shape"
   ]
  },
  {
   "cell_type": "code",
   "execution_count": 52,
   "id": "bd211926-df67-4382-a0bd-3a72e3624e1e",
   "metadata": {},
   "outputs": [],
   "source": [
    "#data.isnull().sum()"
   ]
  },
  {
   "cell_type": "code",
   "execution_count": 53,
   "id": "0b81f48b-3cb3-471b-a584-29c7dfebbe80",
   "metadata": {},
   "outputs": [],
   "source": [
    "X_train,  X_test, y_train,y_test = train_test_split(X,y,test_size=0.2, random_state=0, stratify = y)\n",
    "#Stratified random sampling is often when researchers want to know about different subgroups or strata based on the entire population being studied—for instance, if one is interested in differences among groups based on race, gender, or education."
   ]
  },
  {
   "cell_type": "markdown",
   "id": "3a7b7657-f74d-4db8-bd21-107806106aa8",
   "metadata": {},
   "source": [
    "REMOVE CONSTANT, QUASI CONSTANT AND DUPLICATE"
   ]
  },
  {
   "cell_type": "code",
   "execution_count": 54,
   "id": "d71cb155-6b00-4f4f-af3f-053181e3f3cf",
   "metadata": {},
   "outputs": [
    {
     "data": {
      "text/plain": [
       "((16000, 245), (4000, 245))"
      ]
     },
     "execution_count": 54,
     "metadata": {},
     "output_type": "execute_result"
    }
   ],
   "source": [
    "constant_filter = VarianceThreshold(threshold=0.01)\n",
    "constant_filter.fit(X_train)\n",
    "X_train_filter = constant_filter.transform(X_train)\n",
    "X_test_filter = constant_filter.transform(X_test)\n",
    "X_train_filter.shape, X_test_filter.shape"
   ]
  },
  {
   "cell_type": "markdown",
   "id": "8ecdc62d-281c-4d02-b6aa-194d2b795357",
   "metadata": {},
   "source": [
    "REMOVE  DUPLICATE"
   ]
  },
  {
   "cell_type": "code",
   "execution_count": 55,
   "id": "e8f4885e-9318-40e1-b873-492e061fe82c",
   "metadata": {},
   "outputs": [],
   "source": [
    "X_train_T = X_train_filter.T\n",
    "X_test_T = X_test_filter.T"
   ]
  },
  {
   "cell_type": "code",
   "execution_count": 56,
   "id": "07bfa0ab-dcb3-40f7-8b69-782e65f68154",
   "metadata": {},
   "outputs": [],
   "source": [
    "X_train_T = pd.DataFrame(X_train_T)\n",
    "X_test_T = pd.DataFrame(X_test_T)"
   ]
  },
  {
   "cell_type": "code",
   "execution_count": 57,
   "id": "5b212021-01a8-4e0d-b701-09a7bbeaa2e7",
   "metadata": {},
   "outputs": [
    {
     "data": {
      "text/plain": [
       "18"
      ]
     },
     "execution_count": 57,
     "metadata": {},
     "output_type": "execute_result"
    }
   ],
   "source": [
    "X_train_T.duplicated().sum()"
   ]
  },
  {
   "cell_type": "code",
   "execution_count": 58,
   "id": "d383aa80-95fa-4013-9188-b2cee76be9b9",
   "metadata": {},
   "outputs": [],
   "source": [
    "duplicated_features = X_train_T.duplicated()"
   ]
  },
  {
   "cell_type": "code",
   "execution_count": 59,
   "id": "ef182ecd-d06b-4ff7-a4dc-4baeb13a736d",
   "metadata": {},
   "outputs": [],
   "source": [
    "features_to_keep = [not index for index in duplicated_features]\n",
    "X_train_unique = X_train_T[features_to_keep].T\n",
    "X_test_unique = X_test_T[features_to_keep].T\n"
   ]
  },
  {
   "cell_type": "code",
   "execution_count": 60,
   "id": "a7df7dfc-6e37-4758-8135-257d71889dbb",
   "metadata": {},
   "outputs": [],
   "source": [
    "scaler = StandardScaler().fit(X_train_unique)\n",
    "X_train_unique = scaler.transform(X_train_unique)\n",
    "X_test_unique = scaler.transform(X_test_unique)"
   ]
  },
  {
   "cell_type": "code",
   "execution_count": 61,
   "id": "094c9b0f-6ca1-4fab-9e76-21d6a665f87e",
   "metadata": {},
   "outputs": [],
   "source": [
    "X_train_unique = pd.DataFrame(X_train_unique)\n",
    "X_test_unique = pd.DataFrame(X_test_unique)"
   ]
  },
  {
   "cell_type": "code",
   "execution_count": 62,
   "id": "147ef713-78d9-48a6-b18c-9cc37dc86499",
   "metadata": {},
   "outputs": [
    {
     "data": {
      "text/plain": [
       "((16000, 227), (4000, 227))"
      ]
     },
     "execution_count": 62,
     "metadata": {},
     "output_type": "execute_result"
    }
   ],
   "source": [
    "X_train_unique.shape, X_test_unique.shape"
   ]
  },
  {
   "cell_type": "code",
   "execution_count": 63,
   "id": "7c347870-408f-4b95-9114-ba8e58d953d3",
   "metadata": {},
   "outputs": [],
   "source": [
    "#18 duplicated features ahave been removed"
   ]
  },
  {
   "cell_type": "markdown",
   "id": "6100c620-28a5-4534-addf-9fbf06aa6c80",
   "metadata": {},
   "source": [
    "REMOVAL OF CORRELATED FEATURES USING 70%"
   ]
  },
  {
   "cell_type": "code",
   "execution_count": 64,
   "id": "15db5273-bbe1-4587-80b5-b8f5c6884c71",
   "metadata": {},
   "outputs": [
    {
     "name": "stdout",
     "output_type": "stream",
     "text": [
      "correlated features:  148\n"
     ]
    }
   ],
   "source": [
    "def get_correlation(data,threshold):\n",
    "    corr_col = set()\n",
    "    corrmat = data.corr()\n",
    "    for i in range (len(corrmat.columns)):\n",
    "        for j in range(i):\n",
    "            if abs(corrmat.iloc[i,j])> threshold:\n",
    "                colname = corrmat.columns[i]\n",
    "                corr_col.add(colname)\n",
    "    return corr_col\n",
    "corr_features = get_correlation(X_train_unique, 0.70)\n",
    "print('correlated features: ', len(set(corr_features)))"
   ]
  },
  {
   "cell_type": "code",
   "execution_count": 65,
   "id": "23a7762a-093f-404c-ae6c-587b265768c7",
   "metadata": {},
   "outputs": [],
   "source": [
    "X_train_uncorr = X_train_unique.drop(labels=corr_features, axis =1)\n",
    "X_test_uncorr = X_test_unique.drop(labels=corr_features, axis =1)\n"
   ]
  },
  {
   "cell_type": "code",
   "execution_count": 66,
   "id": "2f4f674f-aef8-424a-a8ac-2345139a6e3d",
   "metadata": {},
   "outputs": [
    {
     "data": {
      "text/plain": [
       "((16000, 79), (4000, 79))"
      ]
     },
     "execution_count": 66,
     "metadata": {},
     "output_type": "execute_result"
    }
   ],
   "source": [
    "X_train_uncorr.shape, X_test_uncorr.shape"
   ]
  },
  {
   "cell_type": "code",
   "execution_count": null,
   "id": "fe404f97-1ede-42a5-aa11-c19aafe780eb",
   "metadata": {},
   "outputs": [],
   "source": []
  },
  {
   "cell_type": "markdown",
   "id": "3861e41d-a0e9-4acf-8f73-0720e32b01aa",
   "metadata": {},
   "source": [
    "FEATURE DIMENSION REDUCTION BY LDA OR BY CLASSIFIER"
   ]
  },
  {
   "cell_type": "code",
   "execution_count": 67,
   "id": "d8a635a3-ba56-4ff8-928a-00eae1ea17be",
   "metadata": {},
   "outputs": [],
   "source": [
    "from sklearn.discriminant_analysis import LinearDiscriminantAnalysis as LDA"
   ]
  },
  {
   "cell_type": "code",
   "execution_count": 68,
   "id": "8793fcbe-ae28-43e0-ad6d-ffb412f6c516",
   "metadata": {},
   "outputs": [],
   "source": [
    "lda = LDA(n_components=1)\n",
    "X_train_lda = lda.fit_transform(X_train_uncorr, y_train)"
   ]
  },
  {
   "cell_type": "code",
   "execution_count": 69,
   "id": "99a14666-7591-42fc-981a-0b092888d58f",
   "metadata": {},
   "outputs": [
    {
     "data": {
      "text/plain": [
       "(16000, 1)"
      ]
     },
     "execution_count": 69,
     "metadata": {},
     "output_type": "execute_result"
    }
   ],
   "source": [
    "X_train_lda.shape"
   ]
  },
  {
   "cell_type": "code",
   "execution_count": 70,
   "id": "1a0387d6-3c1f-4036-8035-d508e4e567dc",
   "metadata": {},
   "outputs": [],
   "source": [
    "#It has transform the data from (16000, 79 to 1)"
   ]
  },
  {
   "cell_type": "code",
   "execution_count": 71,
   "id": "4be7c120-fe3a-45b6-8c8a-a516633e5fa6",
   "metadata": {},
   "outputs": [],
   "source": [
    "lda = LDA(n_components=1)\n",
    "X_test_lda = lda.fit_transform(X_test_uncorr, y_test)"
   ]
  },
  {
   "cell_type": "code",
   "execution_count": 72,
   "id": "f4da3e97-7462-490f-93ea-82473d3abd7e",
   "metadata": {},
   "outputs": [],
   "source": [
    "def run_RandomForest(X_train,X_test,y_train,y_test):\n",
    "    clf = RandomForestClassifier(n_estimators=100, random_state=0,n_jobs=-1)\n",
    "    clf.fit(X_train, y_train)\n",
    "    y_pred = clf.predict(X_test)\n",
    "    print('Accuracy on test set: ')\n",
    "    print(accuracy_score(y_test,y_pred))"
   ]
  },
  {
   "cell_type": "code",
   "execution_count": 73,
   "id": "173af578-c36c-4b7e-bd38-4de11311242e",
   "metadata": {},
   "outputs": [
    {
     "name": "stdout",
     "output_type": "stream",
     "text": [
      "Accuracy on test set: \n",
      "0.93725\n",
      "Wall time: 1.06 s\n"
     ]
    }
   ],
   "source": [
    "%%time\n",
    "run_RandomForest(X_train_lda, X_test_lda, y_train, y_test)"
   ]
  },
  {
   "cell_type": "code",
   "execution_count": 74,
   "id": "ed751932-f8d2-44f6-886f-3469622cf31a",
   "metadata": {},
   "outputs": [],
   "source": [
    "#Above 93.7 is from the transformed dataset, let check for the original data set"
   ]
  },
  {
   "cell_type": "code",
   "execution_count": 75,
   "id": "ffb474b1-0c52-47ad-a9bc-7b034739327b",
   "metadata": {},
   "outputs": [],
   "source": [
    "def run_RandomForest(X_train,X_test,y_train,y_test):\n",
    "    clf = RandomForestClassifier(n_estimators=100, random_state=0,n_jobs=-1)\n",
    "    clf.fit(X_train, y_train)\n",
    "    y_pred = clf.predict(X_test)\n",
    "    print('Accuracy on Original Dataset: ')\n",
    "    print(accuracy_score(y_test,y_pred))"
   ]
  },
  {
   "cell_type": "code",
   "execution_count": 76,
   "id": "d0d642b1-0768-4770-85b8-b5041857e05b",
   "metadata": {},
   "outputs": [
    {
     "name": "stdout",
     "output_type": "stream",
     "text": [
      "Accuracy on Original Dataset: \n",
      "0.9585\n",
      "Wall time: 2.57 s\n"
     ]
    }
   ],
   "source": [
    "%%time\n",
    "run_RandomForest(X_train,X_test,y_train,y_test)"
   ]
  },
  {
   "cell_type": "code",
   "execution_count": 77,
   "id": "da4c7b19-679f-4b83-97a5-ab8bb403a37d",
   "metadata": {},
   "outputs": [],
   "source": [
    "#The original Dataset has higher accuracy but it too longer time to processS"
   ]
  },
  {
   "cell_type": "code",
   "execution_count": null,
   "id": "089f859b-7f04-4715-ad13-c81937a2454e",
   "metadata": {},
   "outputs": [],
   "source": []
  },
  {
   "cell_type": "code",
   "execution_count": 78,
   "id": "0089fcaf-94d0-4122-b361-ca3dd28f9df3",
   "metadata": {},
   "outputs": [],
   "source": [
    "#LETS SEE HOW MUCH ACCURACY WE CAN GAIN THROUGH FEATURE REDUCTION"
   ]
  },
  {
   "cell_type": "markdown",
   "id": "1c5f0629-ba3c-4a84-9a8d-650122945222",
   "metadata": {},
   "source": [
    "FEATURE REDUCTION BY PCA"
   ]
  },
  {
   "cell_type": "code",
   "execution_count": 79,
   "id": "476f17b1-6761-41ec-88ca-409cfc4fdd0d",
   "metadata": {},
   "outputs": [],
   "source": [
    "from sklearn.decomposition import PCA"
   ]
  },
  {
   "cell_type": "code",
   "execution_count": 80,
   "id": "dcc8756c-fa69-47ff-bed1-80c838c1e30e",
   "metadata": {},
   "outputs": [
    {
     "data": {
      "text/plain": [
       "PCA(n_components=2, random_state=42)"
      ]
     },
     "execution_count": 80,
     "metadata": {},
     "output_type": "execute_result"
    }
   ],
   "source": [
    "pca = PCA(n_components=2, random_state=42)\n",
    "pca.fit(X_test_uncorr)"
   ]
  },
  {
   "cell_type": "code",
   "execution_count": 81,
   "id": "26b9f404-1470-4e18-adef-309940f164f2",
   "metadata": {},
   "outputs": [
    {
     "data": {
      "text/plain": [
       "((16000, 2), (16000, 79))"
      ]
     },
     "execution_count": 81,
     "metadata": {},
     "output_type": "execute_result"
    }
   ],
   "source": [
    "X_train_pca = pca.transform(X_train_uncorr)\n",
    "X_test_pca = pca.transform(X_test_uncorr)\n",
    "X_train_pca.shape, X_train_uncorr.shape"
   ]
  },
  {
   "cell_type": "code",
   "execution_count": 82,
   "id": "b9bbd957-a35e-4825-84d6-df5012e4f442",
   "metadata": {},
   "outputs": [
    {
     "name": "stdout",
     "output_type": "stream",
     "text": [
      "Accuracy on Original Dataset: \n",
      "0.9565\n",
      "Wall time: 1.32 s\n"
     ]
    }
   ],
   "source": [
    "%%time\n",
    "run_RandomForest(X_train_pca, X_test_pca, y_train, y_test)"
   ]
  },
  {
   "cell_type": "code",
   "execution_count": 83,
   "id": "4e1b9ba0-9f2d-4e30-a043-a2a8648ef232",
   "metadata": {},
   "outputs": [],
   "source": [
    "#From the PCA, Accuracy is 95.65% , with the lowest processing time"
   ]
  },
  {
   "cell_type": "code",
   "execution_count": null,
   "id": "776bf2c6-df57-4ba6-b0e7-81e1d5604ead",
   "metadata": {},
   "outputs": [],
   "source": []
  },
  {
   "cell_type": "code",
   "execution_count": 84,
   "id": "93f76986-41d5-48fd-a71e-a29c6720a0f4",
   "metadata": {},
   "outputs": [],
   "source": [
    "#Lets select 3 components and see"
   ]
  },
  {
   "cell_type": "code",
   "execution_count": 85,
   "id": "986ed0cf-5f3f-466b-8083-2713249194f8",
   "metadata": {},
   "outputs": [
    {
     "data": {
      "text/plain": [
       "PCA(n_components=3, random_state=42)"
      ]
     },
     "execution_count": 85,
     "metadata": {},
     "output_type": "execute_result"
    }
   ],
   "source": [
    "pca = PCA(n_components=3, random_state=42)\n",
    "pca.fit(X_test_uncorr)"
   ]
  },
  {
   "cell_type": "code",
   "execution_count": 86,
   "id": "6a073c6e-9b4a-4062-b1f1-9de096f09a90",
   "metadata": {},
   "outputs": [
    {
     "data": {
      "text/plain": [
       "((16000, 3), (16000, 79))"
      ]
     },
     "execution_count": 86,
     "metadata": {},
     "output_type": "execute_result"
    }
   ],
   "source": [
    "X_train_pca = pca.transform(X_train_uncorr)\n",
    "X_test_pca = pca.transform(X_test_uncorr)\n",
    "X_train_pca.shape, X_train_uncorr.shape"
   ]
  },
  {
   "cell_type": "code",
   "execution_count": 87,
   "id": "630c13ca-74eb-4d8c-839a-cbfd773e1665",
   "metadata": {},
   "outputs": [
    {
     "name": "stdout",
     "output_type": "stream",
     "text": [
      "Accuracy on Original Dataset: \n",
      "0.95725\n",
      "Wall time: 1.26 s\n"
     ]
    }
   ],
   "source": [
    "%%time\n",
    "run_RandomForest(X_train_pca, X_test_pca, y_train, y_test)"
   ]
  },
  {
   "cell_type": "code",
   "execution_count": 88,
   "id": "1dc97118-7bb3-4af3-b3e9-68858605358e",
   "metadata": {},
   "outputs": [],
   "source": [
    "#95.73%"
   ]
  },
  {
   "cell_type": "code",
   "execution_count": 89,
   "id": "4467a875-a616-497a-b574-47a3e4db55e8",
   "metadata": {},
   "outputs": [],
   "source": [
    "#LETS CHECK FOR SELECTION OF COMPONENTS RANGES"
   ]
  },
  {
   "cell_type": "code",
   "execution_count": 94,
   "id": "ca1fbb99-c6f9-4a39-8db6-5a1344254a33",
   "metadata": {},
   "outputs": [
    {
     "name": "stdout",
     "output_type": "stream",
     "text": [
      "Selected Comp 1\n",
      "Accuracy on Original Dataset: \n",
      "0.931\n",
      "\n",
      "Selected Comp 2\n",
      "Accuracy on Original Dataset: \n",
      "0.9565\n",
      "\n",
      "Selected Comp 3\n",
      "Accuracy on Original Dataset: \n",
      "0.95725\n",
      "\n",
      "Selected Comp 4\n",
      "Accuracy on Original Dataset: \n",
      "0.956\n",
      "\n",
      "Selected Comp 5\n",
      "Accuracy on Original Dataset: \n",
      "0.955\n",
      "\n",
      "Selected Comp 6\n",
      "Accuracy on Original Dataset: \n",
      "0.95575\n",
      "\n",
      "Selected Comp 7\n",
      "Accuracy on Original Dataset: \n",
      "0.9565\n",
      "\n",
      "Selected Comp 8\n",
      "Accuracy on Original Dataset: \n",
      "0.956\n",
      "\n",
      "Selected Comp 9\n",
      "Accuracy on Original Dataset: \n",
      "0.957\n",
      "\n",
      "Selected Comp 10\n",
      "Accuracy on Original Dataset: \n",
      "0.956\n",
      "\n",
      "Selected Comp 11\n",
      "Accuracy on Original Dataset: \n",
      "0.956\n",
      "\n",
      "Selected Comp 12\n",
      "Accuracy on Original Dataset: \n",
      "0.9555\n",
      "\n",
      "Selected Comp 13\n",
      "Accuracy on Original Dataset: \n",
      "0.95625\n",
      "\n",
      "Selected Comp 14\n",
      "Accuracy on Original Dataset: \n",
      "0.956\n",
      "\n",
      "Selected Comp 15\n",
      "Accuracy on Original Dataset: \n",
      "0.95525\n",
      "\n",
      "Selected Comp 16\n",
      "Accuracy on Original Dataset: \n",
      "0.95575\n",
      "\n",
      "Selected Comp 17\n",
      "Accuracy on Original Dataset: \n",
      "0.9555\n",
      "\n",
      "Selected Comp 18\n",
      "Accuracy on Original Dataset: \n",
      "0.95475\n",
      "\n",
      "Selected Comp 19\n",
      "Accuracy on Original Dataset: \n",
      "0.9565\n",
      "\n",
      "Selected Comp 20\n",
      "Accuracy on Original Dataset: \n",
      "0.95625\n",
      "\n",
      "Selected Comp 21\n",
      "Accuracy on Original Dataset: \n",
      "0.95575\n",
      "\n",
      "Selected Comp 22\n",
      "Accuracy on Original Dataset: \n",
      "0.9555\n",
      "\n",
      "Selected Comp 23\n",
      "Accuracy on Original Dataset: \n",
      "0.95575\n",
      "\n",
      "Selected Comp 24\n",
      "Accuracy on Original Dataset: \n",
      "0.95525\n",
      "\n",
      "Selected Comp 25\n",
      "Accuracy on Original Dataset: \n",
      "0.95525\n",
      "\n",
      "Selected Comp 26\n",
      "Accuracy on Original Dataset: \n",
      "0.95525\n",
      "\n",
      "Selected Comp 27\n",
      "Accuracy on Original Dataset: \n",
      "0.955\n",
      "\n",
      "Selected Comp 28\n",
      "Accuracy on Original Dataset: \n",
      "0.95575\n",
      "\n",
      "Selected Comp 29\n",
      "Accuracy on Original Dataset: \n",
      "0.95575\n",
      "\n",
      "Selected Comp 30\n",
      "Accuracy on Original Dataset: \n",
      "0.956\n",
      "\n",
      "Selected Comp 31\n",
      "Accuracy on Original Dataset: \n",
      "0.956\n",
      "\n",
      "Selected Comp 32\n",
      "Accuracy on Original Dataset: \n",
      "0.9565\n",
      "\n",
      "Selected Comp 33\n",
      "Accuracy on Original Dataset: \n",
      "0.956\n",
      "\n",
      "Selected Comp 34\n",
      "Accuracy on Original Dataset: \n",
      "0.9565\n",
      "\n",
      "Selected Comp 35\n",
      "Accuracy on Original Dataset: \n",
      "0.956\n",
      "\n",
      "Selected Comp 36\n",
      "Accuracy on Original Dataset: \n",
      "0.956\n",
      "\n",
      "Selected Comp 37\n",
      "Accuracy on Original Dataset: \n",
      "0.956\n",
      "\n",
      "Selected Comp 38\n",
      "Accuracy on Original Dataset: \n",
      "0.956\n",
      "\n",
      "Selected Comp 39\n",
      "Accuracy on Original Dataset: \n",
      "0.956\n",
      "\n",
      "Selected Comp 40\n",
      "Accuracy on Original Dataset: \n",
      "0.956\n",
      "\n",
      "Selected Comp 41\n",
      "Accuracy on Original Dataset: \n",
      "0.95575\n",
      "\n",
      "Selected Comp 42\n",
      "Accuracy on Original Dataset: \n",
      "0.95575\n",
      "\n",
      "Selected Comp 43\n",
      "Accuracy on Original Dataset: \n",
      "0.95625\n",
      "\n",
      "Selected Comp 44\n",
      "Accuracy on Original Dataset: \n",
      "0.9555\n",
      "\n",
      "Selected Comp 45\n",
      "Accuracy on Original Dataset: \n",
      "0.95575\n",
      "\n",
      "Selected Comp 46\n",
      "Accuracy on Original Dataset: \n",
      "0.95525\n",
      "\n",
      "Selected Comp 47\n",
      "Accuracy on Original Dataset: \n",
      "0.955\n",
      "\n",
      "Selected Comp 48\n",
      "Accuracy on Original Dataset: \n",
      "0.956\n",
      "\n",
      "Selected Comp 49\n",
      "Accuracy on Original Dataset: \n",
      "0.9555\n",
      "\n",
      "Selected Comp 50\n",
      "Accuracy on Original Dataset: \n",
      "0.95625\n",
      "\n",
      "Selected Comp 51\n",
      "Accuracy on Original Dataset: \n",
      "0.95675\n",
      "\n",
      "Selected Comp 52\n",
      "Accuracy on Original Dataset: \n",
      "0.95575\n",
      "\n",
      "Selected Comp 53\n",
      "Accuracy on Original Dataset: \n",
      "0.9555\n",
      "\n",
      "Selected Comp 54\n",
      "Accuracy on Original Dataset: \n",
      "0.9555\n",
      "\n",
      "Selected Comp 55\n",
      "Accuracy on Original Dataset: \n",
      "0.955\n",
      "\n",
      "Selected Comp 56\n",
      "Accuracy on Original Dataset: \n",
      "0.956\n",
      "\n",
      "Selected Comp 57\n",
      "Accuracy on Original Dataset: \n",
      "0.9555\n",
      "\n",
      "Selected Comp 58\n",
      "Accuracy on Original Dataset: \n",
      "0.95575\n",
      "\n",
      "Selected Comp 59\n",
      "Accuracy on Original Dataset: \n",
      "0.95525\n",
      "\n",
      "Selected Comp 60\n",
      "Accuracy on Original Dataset: \n",
      "0.95575\n",
      "\n",
      "Selected Comp 61\n",
      "Accuracy on Original Dataset: \n",
      "0.9555\n",
      "\n",
      "Selected Comp 62\n",
      "Accuracy on Original Dataset: \n",
      "0.956\n",
      "\n",
      "Selected Comp 63\n",
      "Accuracy on Original Dataset: \n",
      "0.957\n",
      "\n",
      "Selected Comp 64\n",
      "Accuracy on Original Dataset: \n",
      "0.95525\n",
      "\n",
      "Selected Comp 65\n",
      "Accuracy on Original Dataset: \n",
      "0.95475\n",
      "\n",
      "Selected Comp 66\n",
      "Accuracy on Original Dataset: \n",
      "0.95525\n",
      "\n",
      "Selected Comp 67\n",
      "Accuracy on Original Dataset: \n",
      "0.9555\n",
      "\n",
      "Selected Comp 68\n",
      "Accuracy on Original Dataset: \n",
      "0.956\n",
      "\n",
      "Selected Comp 69\n",
      "Accuracy on Original Dataset: \n",
      "0.9555\n",
      "\n",
      "Selected Comp 70\n",
      "Accuracy on Original Dataset: \n",
      "0.956\n",
      "\n",
      "Selected Comp 71\n",
      "Accuracy on Original Dataset: \n",
      "0.95525\n",
      "\n",
      "Selected Comp 72\n",
      "Accuracy on Original Dataset: \n",
      "0.9555\n",
      "\n",
      "Selected Comp 73\n",
      "Accuracy on Original Dataset: \n",
      "0.95575\n",
      "\n",
      "Selected Comp 74\n",
      "Accuracy on Original Dataset: \n",
      "0.95625\n",
      "\n",
      "Selected Comp 75\n",
      "Accuracy on Original Dataset: \n",
      "0.95525\n",
      "\n",
      "Selected Comp 76\n",
      "Accuracy on Original Dataset: \n",
      "0.95525\n",
      "\n",
      "Selected Comp 77\n",
      "Accuracy on Original Dataset: \n",
      "0.95475\n",
      "\n",
      "Selected Comp 78\n",
      "Accuracy on Original Dataset: \n",
      "0.9555\n",
      "\n"
     ]
    }
   ],
   "source": [
    "for component in range(1,79):\n",
    "    pca = PCA(n_components=component, random_state=42)\n",
    "    pca.fit(X_test_uncorr)\n",
    "    X_train_pca = pca.transform(X_train_uncorr)\n",
    "    X_test_pca = pca.transform(X_test_uncorr)\n",
    "    print('Selected Comp' , component)\n",
    "    run_RandomForest(X_train_pca, X_test_pca, y_train, y_test)\n",
    "    print()"
   ]
  },
  {
   "cell_type": "code",
   "execution_count": null,
   "id": "bcfba32d-9502-4711-9f3c-f8f4ff889b84",
   "metadata": {},
   "outputs": [],
   "source": []
  }
 ],
 "metadata": {
  "kernelspec": {
   "display_name": "Python 3 (ipykernel)",
   "language": "python",
   "name": "python3"
  },
  "language_info": {
   "codemirror_mode": {
    "name": "ipython",
    "version": 3
   },
   "file_extension": ".py",
   "mimetype": "text/x-python",
   "name": "python",
   "nbconvert_exporter": "python",
   "pygments_lexer": "ipython3",
   "version": "3.9.13"
  }
 },
 "nbformat": 4,
 "nbformat_minor": 5
}
